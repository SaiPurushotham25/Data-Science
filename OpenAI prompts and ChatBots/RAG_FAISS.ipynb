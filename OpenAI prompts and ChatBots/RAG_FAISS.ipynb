{
 "cells": [
  {
   "cell_type": "code",
   "execution_count": 1,
   "id": "d80f3cea-d54a-469b-b2ee-526114b12058",
   "metadata": {},
   "outputs": [],
   "source": [
    "from langchain.document_loaders import PyPDFLoader\n",
    "#https://stphilipwestbrook.co.uk/wp-content/uploads/2020/03/Alice-in-Wonderland-Story.pdf\n",
    "loader = PyPDFLoader(\"D:/Prompt Engineering/Generative AI/Terms and Conditions.pdf\")\n",
    "pdfpages = loader.load_and_split()"
   ]
  },
  {
   "cell_type": "code",
   "execution_count": 2,
   "id": "794d185b-8043-42ea-a1d4-8a72e0cb2e4a",
   "metadata": {},
   "outputs": [],
   "source": [
    "import os\n",
    "os.environ['OPENAI_API_KEY'] = ''"
   ]
  },
  {
   "cell_type": "code",
   "execution_count": 3,
   "id": "942b4399-286c-4352-8a67-8954500d02df",
   "metadata": {},
   "outputs": [],
   "source": [
    "#!pip install pypdf  tiktoken faiss-cpu"
   ]
  },
  {
   "cell_type": "code",
   "execution_count": 4,
   "id": "62f5fbf5-8068-4498-83df-d14b1cc7e1e8",
   "metadata": {},
   "outputs": [
    {
     "name": "stderr",
     "output_type": "stream",
     "text": [
      "D:\\anaconda\\Lib\\site-packages\\langchain_core\\_api\\deprecation.py:117: LangChainDeprecationWarning: The class `langchain_community.embeddings.openai.OpenAIEmbeddings` was deprecated in langchain-community 0.1.0 and will be removed in 0.2.0. An updated version of the class exists in the langchain-openai package and should be used instead. To use it run `pip install -U langchain-openai` and import as `from langchain_openai import OpenAIEmbeddings`.\n",
      "  warn_deprecated(\n"
     ]
    }
   ],
   "source": [
    "from langchain.embeddings import OpenAIEmbeddings\n",
    "from langchain.vectorstores import FAISS\n",
    "pdfstore = FAISS.from_documents(pdfpages, embedding=OpenAIEmbeddings())"
   ]
  },
  {
   "cell_type": "code",
   "execution_count": 5,
   "id": "88c7d984-690c-44ff-a1c4-e4a958fd7fd1",
   "metadata": {},
   "outputs": [],
   "source": [
    "retriever = pdfstore.as_retriever()"
   ]
  },
  {
   "cell_type": "code",
   "execution_count": 13,
   "id": "244ea76d-26ff-4703-a827-7842a6a5df2a",
   "metadata": {},
   "outputs": [
    {
     "name": "stdout",
     "output_type": "stream",
     "text": [
      "case of Commercial Vehicles Policy.  \n",
      " \n",
      "IMT.20. Reduction in t he limit of liability for property damage  \n",
      "It is hereby understood and agreed that notwithstanding anything to the contrary contained in the policy the insurers \n",
      "liability is limited to Rs. 6000/ -  (Rupees six thousand only) for damage to property other than  the property \n",
      "belonging to the insured or held in trust or in custody or control of the insured\n"
     ]
    }
   ],
   "source": [
    "retrieved_docs = retriever.invoke(\"What is the typical duration of a vechicle insurance policy?\")\n",
    "print(retrieved_docs[0].page_content)"
   ]
  },
  {
   "cell_type": "code",
   "execution_count": 7,
   "id": "91c7de54-3cb6-45c0-8ddd-817c0ebd5588",
   "metadata": {},
   "outputs": [],
   "source": [
    "retriever1 = pdfstore.as_retriever()"
   ]
  },
  {
   "cell_type": "code",
   "execution_count": 8,
   "id": "692634d0-59b3-4e65-9fbd-09a0025492e0",
   "metadata": {},
   "outputs": [
    {
     "name": "stdout",
     "output_type": "stream",
     "text": [
      "9 IMT 15.  PERSONAL ACCIDENT COVER TO T HE INSURED OR ANY NAMED PERSON OTHER THAN \n",
      "PAID DRIVER OR CLEANER (Applicable to private cars including three wheelers rated as private cars and \n",
      "motorized two wheelers with or without side car [not for hire or reward])  \n",
      "In consideration of the payment of an additional premium it is hereby agreed and understood that the Company \n",
      "undertakes to pay compensation on the scale provided below for bodily injury as hereinafter defined sustained by the \n",
      "insured person in direct connection with the vehicle insured or whil st mounting and dismounting from or traveling in \n",
      "vehicle insured and caused by violent accidental external and visible means which independently of any other cause \n",
      "shall within six calendar months of  the occurrence of such injury result in: - \n",
      "     \n",
      "                  Details of Injury             Scale of   Compensation  \n",
      "i) Death  100%  \n",
      "ii) Loss of two limbs  or  sight of two eyes  \n",
      "    or  one limb and sight of one eye  \n",
      " 100%  \n",
      "iii) Loss of one limb or sight of one eye  \n",
      " 50% \n",
      "iv) Permanent Total Disablement from  \n",
      "    injuries other than named above                                                                                100%  \n",
      "                                                                                       \n",
      " Provided always that  \n",
      " \n",
      "(1) compensation shall be p ayable under only one of the items (i) to (iv) above in respect of any such person arising \n",
      "out of any one occurrence and total liability of the insurer shall not in the aggregate exceed the sum of Rs.....…..* \n",
      "during any one period of insurance in respect o f any such person.  \n",
      "(2) no compensation shall be payable in respect of death or injury directly or indirectly wholly or in part arising or \n",
      "resulting from or traceable to (a) intentional self injury suicide or attempted suicide physical defect or infirmity o r \n",
      "(b) an accident happening whilst such person is under the influence of intoxicating liquor or drugs.  \n",
      "(3) such compensation shall be payable only with the approval of the insured named in the policy and directly to the \n",
      "injured person or his/her legal repr esentative(s) whose receipt shall be a  full discharge in respect of the injury of \n",
      "such person.  \n",
      "Subject otherwise to the terms exceptions conditions and limitations of this policy.  \n",
      "*  The Capital Sum Insured (CSI) per passenger is to be inserted.  \n",
      " \n",
      "IMT.16.  Personal accident to unnamed passengers other than insured and the paid driver and cleaner  \n",
      "{For vehicles rated as Private cars and Motorised two wheelers (not for hire or reward) with or without side \n",
      "car} \n",
      "In consideration of the payment of an additional p remium  it is hereby understood and agreed that the insurer \n",
      "undertakes to pay compensation  on the scale provided below for bodily injuries hereinafter defined sustained by any \n",
      "passenger other than the insured and/or the paid driver attendant or cleaner an d/or a person in the employ of the \n",
      "insured coming within the scope of the Workmen‟s Compensation Act, 1923 and subsequent amendments of the \n",
      "said Act and engaged in and upon the service of the insured at the time such injury is sustained   whilst mounting \n",
      "into,  dismounting  from or  traveling in but not driving the insured motor car and  caused by violent,  accidental, \n",
      "external and visible means  which independently of any other cause shall within three calendar months of the \n",
      "occurrence of such injury resul t in :   \n",
      "                 Details of Injury             Scale of Compensation  \n",
      "i) Death  \n",
      " 100%  \n",
      "ii) Loss of two limbs  or  sight of two eyes  \n",
      "    or  one limb and sight of one eye  \n",
      " 100%  \n",
      "iii) Loss of one limb or sight of one eye  \n",
      " 50% \n",
      "iv) Permanent Total D isablement from  \n",
      "    injuries other than named above                                                                                100%\n"
     ]
    }
   ],
   "source": [
    "retrieved_docs1 = retriever1.invoke(\"What if at the time of accident my vehicle is being driven by someone else?\")\n",
    "print(retrieved_docs1[0].page_content)"
   ]
  },
  {
   "cell_type": "code",
   "execution_count": 9,
   "id": "ab0a4154-ed55-430e-be81-b481fad5a798",
   "metadata": {},
   "outputs": [
    {
     "name": "stdout",
     "output_type": "stream",
     "text": [
      "6 parts  and  such monies shall be paid to the Owners as long  as they  are the Owners of  the vehicle insured and their \n",
      "receipt shall be a full and final discharge to the insur er in respect  of  such loss or damage.    \n",
      "  It is further declared and agreed that for the purpose of the Personal Accident Cover for  the  owner -driver granted \n",
      "under this policy, the insured named in the policy will continue to be deemed as the owner -driver  subject to \n",
      "compliance of provisions of the policy relating to this cover.      \n",
      "Save  as by this Endorsement expressly agreed nothing herein shall  modify  or affect the rights and  liabilities of the \n",
      "insured or the insurer respectively under or  in  c onnection with this Policy.  \n",
      "Subject  otherwise  to the terms  exceptions  conditions  and  limitations of this policy.  \n",
      " \n",
      "IMT.6.  LEASE  AGREEMENT    \n",
      "It is hereby understood and agreed that  ……………… (hereinafter referred to as the Lessors) are the Owners of t he \n",
      "vehicle insured and that the vehicle insured is the subject of a Lease Agreement made between the Lessor on the one  \n",
      "part and  the insured on the other part  and it is further understood and agreed that the Lessors  are interested in any \n",
      "monies which bu t for  this  Endorsement  would be payable to the insured under this  policy in respect of such loss \n",
      "or damage to the vehicle insured as cannot be made good  by repair  and / or  replacement of parts  and  such \n",
      "monies shall be paid to the Lessors as long  as  they  are the Owners of  the vehicle insured and their receipt shall be \n",
      "a full and final discharge to the insurer in respect  of  such loss or damage.  It is also understood and agreed  that \n",
      "notwithstanding any provision in the Leasing Agreement to the co ntrary, this policy is issued to the insured namely \n",
      "………….. as  the principal party and not as agent or trustee and nothing herein contained shall be construed as \n",
      "constituting the insured an agent or trustee  for the Lessors or as an assignment (whether leg al or equitable) by  the  \n",
      "insured to the Lessors, of his rights  benefits  and claims under this policy and further nothing herein shall be \n",
      "construed as   creating  or  vesting  any  right in the Owner/Lessor to sue the insurer in any  capacity  whatsoever  for \n",
      "any alleged breach of its obligations hereunder.  \n",
      "It is further declared and agreed that for the purpose of the Personal Accident Cover for the owner -driver granted \n",
      "under this policy, the insured named in the policy will continue to be deemed as the ow ner-driver subject to \n",
      "compliance of provisions of the policy relating to this cover.      \n",
      "Save as by this Endorsement expressly agreed nothing herein shall modify or affect the rights and liabilities of the \n",
      "insured or the insurer respectively under or  in  connection with this Policy.  \n",
      "Subject otherwise to the terms exceptions conditions and limitations of this policy.  \n",
      " \n",
      "IMT.7.  Vehicles  subject to Hypothecation Agreement  \n",
      "It is hereby declared and agreed that the vehicle insured is pledged to / hypothecated w ith ……………….. \n",
      "(hereinafter referred to as the \"Pledgee\") and it is further understood and agreed that the Pledgee  is  interested in \n",
      "any monies which but for  this  Endorsement  would be payable to the insured under this  policy in respect of such \n",
      "loss or d amage to the vehicle insured as cannot be made good  by repair  and / or  replacement of parts  and  such \n",
      "monies shall be paid to the Pledgee  as long  as they  are the Pledgee of  the vehicle insured and their receipt shall be \n",
      "a full and final discharge to the insurer in respect  of  such loss or damage.  \n",
      "It is further declared and agreed that for the purpose of the Personal Accident Cover for  the  owner -driver granted \n",
      "under this policy, the insured named in the policy will continue to be deemed as the owne r-driver  subject to \n",
      "compliance of provisions of the policy relating to this cover.\n"
     ]
    }
   ],
   "source": [
    "retrieved_docs = retriever.invoke(\"I am selling my vehicle. Can I transfer my policy to the new owner?\")\n",
    "print(retrieved_docs[0].page_content)"
   ]
  },
  {
   "cell_type": "code",
   "execution_count": 14,
   "id": "66947d97-28d4-4667-9721-93cd0a30ad67",
   "metadata": {},
   "outputs": [
    {
     "name": "stdout",
     "output_type": "stream",
     "text": [
      "Number of unique documents: 5\n"
     ]
    }
   ],
   "source": [
    "from langchain.chat_models import ChatOpenAI\n",
    "from langchain.retrievers.multi_query import MultiQueryRetriever\n",
    "\n",
    "question = \"Are there any penalties for driving without a valid motor insurance policy?\"\n",
    "llm = ChatOpenAI(temperature=0.2)\n",
    "retriever_from_llm = MultiQueryRetriever.from_llm(\n",
    "    retriever=pdfstore.as_retriever(), llm=llm\n",
    ")\n",
    "\n",
    "unique_docs = retriever_from_llm.get_relevant_documents(query=question)\n",
    "print(\"Number of unique documents:\", len(unique_docs))"
   ]
  },
  {
   "cell_type": "code",
   "execution_count": 15,
   "id": "5c8241ef-d32f-4a66-a7bb-bf6f8ccba668",
   "metadata": {},
   "outputs": [
    {
     "data": {
      "text/plain": [
       "[Document(page_content='16 IMT.32.  Accidents to soldiers /sailors/ airmen employed as drivers  \\nIn consideration of the payment of an additional premium of Rs 100/ -* it is hereby understood and agreed that in the \\nevent of a ny Soldier/Sailor/Airman employed by the insured to drive the vehicle insured being injured or killed \\nwhilst so employed, this policy will extend to relieve the insured of his liability to indemnify Ministry of Defence \\nunder the respective Regulations.  \\nSubject otherwise to the terms, conditions limitations and exceptions of this Policy.  \\n* This additional premium is flat and irrespective of period of insurance not exceeding 12 months. Any extension of \\nthe policy period beyond 12 months will call for payment of further additional premium under this endorsement.  \\n \\nIMT. 33.  Loss of accessories  \\n(Applicable to Motorised Two Wheeler Policies only)      \\nIn consideration of the payment of an additional premium of Rs...…… it is hereby understood and agreed that as \\nfrom ../….../…..... notwithstanding anything to the contrary contained in Section I  but subject otherwise to the terms \\nexceptions conditions and limitations of this Policy the insurer will indemnify the insured in respect of loss of or \\ndamage to accessorie s the property of the insured, specifically declared by the  insured  caused by burglary, \\nhousebreaking  or  theft.  \\nSubject otherwise to the terms conditions limitations and exceptions of this policy.  \\n \\nIMT.34.  Use of commercial type vehicles for both comme rcial and private purposes  \\n(Applicable to Commercial Vehicle Policies only)  \\nIn consideration of the payment of an additional premium of Rs.…….. and notwithstanding anything to the contrary \\ncontained herein it is hereby understood and agreed that  \\n(i) The insure r will indemnify the insured against his legal liability under Common Law and  Statutory \\nLiability under the  Fatal Accidents Act, 1855 in respect of death of or bodily injury to any person not \\nbeing an employee of the insured nor carried for hire or rewar d, whilst being carried in or upon or entering \\nor mounting or alighting from any motor vehicle described in the Schedule to this Policy.  \\n(ii)  This Policy shall be operative whilst any vehicle described in the Schedule hereto is being used by the \\ninsured or by any other person with the permission of the Insured for social, domestic, or pleasure \\npurposes.  \\nWhilst any such vehicle is being so used the insurer will in terms and subject to the limitations of and for the \\npurposes of Section II of this policy treat as though he were the Insured person using such vehicle provided \\nthat such person – \\n 1)   is not entitled to indemnity under any other Policy.  \\n2) shall as though he were the insured observe, fulfill and be subject to the terms, provisions, conditions and \\nendo rsements of this Policy in so far as they apply.  \\n3)   has not been refused any Motor Vehicle Insurance or continuance thereof by any insurer.  \\nSubject otherwise to the terms, conditions limitations and exceptions of this Policy.  \\nNOTE:  \\n In case of Liability  only Policies delete (1) above  \\n \\nIMT. 35.  Hired vehicles – driven by hirer * \\n(Applicable to four wheeled vehicles with carrying capacity not exceeding 6 passengers and Motorised Two \\nwheelers)      \\nIt is hereby understood and agreed that notwithstanding any thing to the contrary contained in this Policy unless the \\nvehicle insured is being driven by or is for the purpose of being driven by the insured in the charge of the within \\nnamed insured or a driver in the insured‟s employment, the policy shall only be op erative whilst the vehicle insured \\nis let on hire by the insured to any person (hereinafter called the Hirer) who: - \\n(i) shall have entered into a hire contract with the insured and who prior to such hiring shall have \\nsatisfactorily completed and signed a suppl ementary proposal form**.  \\n (ii)       shall have satisfied the insured -', metadata={'source': 'D:/Prompt Engineering/Generative AI/Terms and Conditions.pdf', 'page': 15}),\n",
       " Document(page_content='b)   the insurer shall not be liable unde r this Policy in respect of accident loss damage and/or liability caused \\nsustained or incurred whilst the vehicle insured is towing a greater number of vehicles than is permitted by law.', metadata={'source': 'D:/Prompt Engineering/Generative AI/Terms and Conditions.pdf', 'page': 22}),\n",
       " Document(page_content='21 IMT.45. Indemnity to Hirer - Liability only Policy -- Negligence of the Owner or Hirer.  \\n  Negligence of the Hirer  \\nIt is hereby declare d and agreed that in consideration of payment of an additional premium of Rs……t he Insurer \\nwill indemnify any hirer of the Motor Vehicle against liability as defined in this Policy arising in connection with \\nthe Motor Vehicle while let on hire.    \\nProvided that any such hirer shall as though he were the Insured observe fulfill and be subject to the terms, \\nexceptions, conditions and limitations of this Policy in so far as they apply.  \\n \\nIMT.46. Legal Liability to passengers excluding liability for accidents to employees of the Insured arising out \\nof and in course of their employment (Applicable to Ambulance/Hearses under class D of Commercial \\nvehicles and to Motor Trade vehicles )  \\nIn consideration of an additional premium of Rs….. and notwithstanding anything to  the contrary contained in \\nSection II -I(c) but subject otherwise to the terms exceptions conditions and limitations of this policy the insurer will \\nindemnify the insured against liability at Law for compensation (including legal costs of any claimant) for death of \\nor bodily injury to any person other than a person excluded under Section II –I ( b ) being carried in or upon or \\nentering or mounting or alighting from the vehicle insured.  \\nProvided always that in the event of an accident occurring whilst the veh icle insured is carrying more than the \\nnumber of persons mentioned in the Schedule hereto as being the licensed carrying capacity of that vehicle in \\naddition to the conductor if any then the insured shall repay to the insurer ratable proportion of the tota l amount \\nwhich would be payable by the insurer by reason of this endorsement if not more than the said number of persons \\nwere carried in the vehicle insured.  \\nProvided further that in computing the number of persons for the purpose of this endorsement any three children not \\nexceeding 15 years of age will be reckoned as two persons and any child in arms not exceeding 3 years of age will \\nbe disregarded.  \\nProvided also that the provisions of condition 3 of the policy are also applicable to a claim or series of claims under \\nthis endorsement.  \\nProvided further that in the event of policy being cancelled at the request of the insured no refund of premium paid \\nin respect of this endorsement will be allowed.  \\nSubject otherwise to the terms exceptions conditions and lim itations of this Policy.  \\n(For use with “Liability Only” Policy)  \\nIn consideration of an additional premium of Rs……. and subject otherwise to the terms exceptions conditions and \\nlimitations of this Policy the insurer will indemnify the insured against liabil ity at law for compensation (including \\nlegal costs of any claimant) for death of or bodily injury to any person other than a person excluded under general \\nexception being carried in or upon or entering or mounting or alighting from the vehicle insured.  \\nProvided always that in the event of an accident occurring whilst the vehicle insured is carrying more than the \\nnumber of persons mentioned in the Schedule hereto as being the licensed carrying capacity of that vehicle in \\naddition to the conductor if any then  the insured shall repay to the insurer ratable proportion of the total amount \\nwhich would be payable by the insurer by reason of this endorsement if not more than the said number of persons \\nwere carried in the vehicle insured.  \\nProvided further that in com puting the number of persons for the purpose of this endorsement any 3 children not \\nexceeding 15 years of age will be reckoned as two persons and any children in arms not exceeding 3 years of age \\nwill be disregarded.  \\nProvided further that in the event of P olicy being cancelled at the request of the insured no refund of premium paid \\nin respect of this endorsement will be allowed.', metadata={'source': 'D:/Prompt Engineering/Generative AI/Terms and Conditions.pdf', 'page': 20}),\n",
       " Document(page_content='satisfactorily completed and signed a suppl ementary proposal form**.  \\n (ii)       shall have satisfied the insured - \\na)  that the vehicle insured will only be driven by a duly licensed driver whose license has not been \\nendorsed   \\nb) that such driver has not been refused Motor Insurance nor had his/h er  insurance policy been cancelled \\nnor had special conditions imposed nor had increased premium demanded from him/her  by reason of \\nclaims experience.', metadata={'source': 'D:/Prompt Engineering/Generative AI/Terms and Conditions.pdf', 'page': 15}),\n",
       " Document(page_content='9 IMT 15.  PERSONAL ACCIDENT COVER TO T HE INSURED OR ANY NAMED PERSON OTHER THAN \\nPAID DRIVER OR CLEANER (Applicable to private cars including three wheelers rated as private cars and \\nmotorized two wheelers with or without side car [not for hire or reward])  \\nIn consideration of the payment of an additional premium it is hereby agreed and understood that the Company \\nundertakes to pay compensation on the scale provided below for bodily injury as hereinafter defined sustained by the \\ninsured person in direct connection with the vehicle insured or whil st mounting and dismounting from or traveling in \\nvehicle insured and caused by violent accidental external and visible means which independently of any other cause \\nshall within six calendar months of  the occurrence of such injury result in: - \\n     \\n                  Details of Injury             Scale of   Compensation  \\ni) Death  100%  \\nii) Loss of two limbs  or  sight of two eyes  \\n    or  one limb and sight of one eye  \\n 100%  \\niii) Loss of one limb or sight of one eye  \\n 50% \\niv) Permanent Total Disablement from  \\n    injuries other than named above                                                                                100%  \\n                                                                                       \\n Provided always that  \\n \\n(1) compensation shall be p ayable under only one of the items (i) to (iv) above in respect of any such person arising \\nout of any one occurrence and total liability of the insurer shall not in the aggregate exceed the sum of Rs.....…..* \\nduring any one period of insurance in respect o f any such person.  \\n(2) no compensation shall be payable in respect of death or injury directly or indirectly wholly or in part arising or \\nresulting from or traceable to (a) intentional self injury suicide or attempted suicide physical defect or infirmity o r \\n(b) an accident happening whilst such person is under the influence of intoxicating liquor or drugs.  \\n(3) such compensation shall be payable only with the approval of the insured named in the policy and directly to the \\ninjured person or his/her legal repr esentative(s) whose receipt shall be a  full discharge in respect of the injury of \\nsuch person.  \\nSubject otherwise to the terms exceptions conditions and limitations of this policy.  \\n*  The Capital Sum Insured (CSI) per passenger is to be inserted.  \\n \\nIMT.16.  Personal accident to unnamed passengers other than insured and the paid driver and cleaner  \\n{For vehicles rated as Private cars and Motorised two wheelers (not for hire or reward) with or without side \\ncar} \\nIn consideration of the payment of an additional p remium  it is hereby understood and agreed that the insurer \\nundertakes to pay compensation  on the scale provided below for bodily injuries hereinafter defined sustained by any \\npassenger other than the insured and/or the paid driver attendant or cleaner an d/or a person in the employ of the \\ninsured coming within the scope of the Workmen‟s Compensation Act, 1923 and subsequent amendments of the \\nsaid Act and engaged in and upon the service of the insured at the time such injury is sustained   whilst mounting \\ninto,  dismounting  from or  traveling in but not driving the insured motor car and  caused by violent,  accidental, \\nexternal and visible means  which independently of any other cause shall within three calendar months of the \\noccurrence of such injury resul t in :   \\n                 Details of Injury             Scale of Compensation  \\ni) Death  \\n 100%  \\nii) Loss of two limbs  or  sight of two eyes  \\n    or  one limb and sight of one eye  \\n 100%  \\niii) Loss of one limb or sight of one eye  \\n 50% \\niv) Permanent Total D isablement from  \\n    injuries other than named above                                                                                100%', metadata={'source': 'D:/Prompt Engineering/Generative AI/Terms and Conditions.pdf', 'page': 8})]"
      ]
     },
     "execution_count": 15,
     "metadata": {},
     "output_type": "execute_result"
    }
   ],
   "source": [
    "unique_docs"
   ]
  },
  {
   "cell_type": "code",
   "execution_count": 16,
   "id": "89f282c4-bbc4-4674-a7b1-09bbd4a5c427",
   "metadata": {},
   "outputs": [
    {
     "name": "stdout",
     "output_type": "stream",
     "text": [
      "16 IMT.32.  Accidents to soldiers /sailors/ airmen employed as drivers  \n",
      "In consideration of the payment of an additional premium of Rs 100/ -* it is hereby understood and agreed that in the \n",
      "event of a ny Soldier/Sailor/Airman employed by the insured to drive the vehicle insured being injured or killed \n",
      "whilst so employed, this policy will extend to relieve the insured of his liability to indemnify Ministry of Defence \n",
      "under the respective Regulations.  \n",
      "Subject otherwise to the terms, conditions limitations and exceptions of this Policy.  \n",
      "* This additional premium is flat and irrespective of period of insurance not exceeding 12 months. Any extension of \n",
      "the policy period beyond 12 months will call for payment of further additional premium under this endorsement.  \n",
      " \n",
      "IMT. 33.  Loss of accessories  \n",
      "(Applicable to Motorised Two Wheeler Policies only)      \n",
      "In consideration of the payment of an additional premium of Rs...…… it is hereby understood and agreed that as \n",
      "from ../….../…..... notwithstanding anything to the contrary contained in Section I  but subject otherwise to the terms \n",
      "exceptions conditions and limitations of this Policy the insurer will indemnify the insured in respect of loss of or \n",
      "damage to accessorie s the property of the insured, specifically declared by the  insured  caused by burglary, \n",
      "housebreaking  or  theft.  \n",
      "Subject otherwise to the terms conditions limitations and exceptions of this policy.  \n",
      " \n",
      "IMT.34.  Use of commercial type vehicles for both comme rcial and private purposes  \n",
      "(Applicable to Commercial Vehicle Policies only)  \n",
      "In consideration of the payment of an additional premium of Rs.…….. and notwithstanding anything to the contrary \n",
      "contained herein it is hereby understood and agreed that  \n",
      "(i) The insure r will indemnify the insured against his legal liability under Common Law and  Statutory \n",
      "Liability under the  Fatal Accidents Act, 1855 in respect of death of or bodily injury to any person not \n",
      "being an employee of the insured nor carried for hire or rewar d, whilst being carried in or upon or entering \n",
      "or mounting or alighting from any motor vehicle described in the Schedule to this Policy.  \n",
      "(ii)  This Policy shall be operative whilst any vehicle described in the Schedule hereto is being used by the \n",
      "insured or by any other person with the permission of the Insured for social, domestic, or pleasure \n",
      "purposes.  \n",
      "Whilst any such vehicle is being so used the insurer will in terms and subject to the limitations of and for the \n",
      "purposes of Section II of this policy treat as though he were the Insured person using such vehicle provided \n",
      "that such person – \n",
      " 1)   is not entitled to indemnity under any other Policy.  \n",
      "2) shall as though he were the insured observe, fulfill and be subject to the terms, provisions, conditions and \n",
      "endo rsements of this Policy in so far as they apply.  \n",
      "3)   has not been refused any Motor Vehicle Insurance or continuance thereof by any insurer.  \n",
      "Subject otherwise to the terms, conditions limitations and exceptions of this Policy.  \n",
      "NOTE:  \n",
      " In case of Liability  only Policies delete (1) above  \n",
      " \n",
      "IMT. 35.  Hired vehicles – driven by hirer * \n",
      "(Applicable to four wheeled vehicles with carrying capacity not exceeding 6 passengers and Motorised Two \n",
      "wheelers)      \n",
      "It is hereby understood and agreed that notwithstanding any thing to the contrary contained in this Policy unless the \n",
      "vehicle insured is being driven by or is for the purpose of being driven by the insured in the charge of the within \n",
      "named insured or a driver in the insured‟s employment, the policy shall only be op erative whilst the vehicle insured \n",
      "is let on hire by the insured to any person (hereinafter called the Hirer) who: - \n",
      "(i) shall have entered into a hire contract with the insured and who prior to such hiring shall have \n",
      "satisfactorily completed and signed a suppl ementary proposal form**.  \n",
      " (ii)       shall have satisfied the insured -\n",
      "{'source': 'D:/Prompt Engineering/Generative AI/Terms and Conditions.pdf', 'page': 15}\n",
      "Document\n",
      "b)   the insurer shall not be liable unde r this Policy in respect of accident loss damage and/or liability caused \n",
      "sustained or incurred whilst the vehicle insured is towing a greater number of vehicles than is permitted by law.\n",
      "{'source': 'D:/Prompt Engineering/Generative AI/Terms and Conditions.pdf', 'page': 22}\n",
      "Document\n",
      "21 IMT.45. Indemnity to Hirer - Liability only Policy -- Negligence of the Owner or Hirer.  \n",
      "  Negligence of the Hirer  \n",
      "It is hereby declare d and agreed that in consideration of payment of an additional premium of Rs……t he Insurer \n",
      "will indemnify any hirer of the Motor Vehicle against liability as defined in this Policy arising in connection with \n",
      "the Motor Vehicle while let on hire.    \n",
      "Provided that any such hirer shall as though he were the Insured observe fulfill and be subject to the terms, \n",
      "exceptions, conditions and limitations of this Policy in so far as they apply.  \n",
      " \n",
      "IMT.46. Legal Liability to passengers excluding liability for accidents to employees of the Insured arising out \n",
      "of and in course of their employment (Applicable to Ambulance/Hearses under class D of Commercial \n",
      "vehicles and to Motor Trade vehicles )  \n",
      "In consideration of an additional premium of Rs….. and notwithstanding anything to  the contrary contained in \n",
      "Section II -I(c) but subject otherwise to the terms exceptions conditions and limitations of this policy the insurer will \n",
      "indemnify the insured against liability at Law for compensation (including legal costs of any claimant) for death of \n",
      "or bodily injury to any person other than a person excluded under Section II –I ( b ) being carried in or upon or \n",
      "entering or mounting or alighting from the vehicle insured.  \n",
      "Provided always that in the event of an accident occurring whilst the veh icle insured is carrying more than the \n",
      "number of persons mentioned in the Schedule hereto as being the licensed carrying capacity of that vehicle in \n",
      "addition to the conductor if any then the insured shall repay to the insurer ratable proportion of the tota l amount \n",
      "which would be payable by the insurer by reason of this endorsement if not more than the said number of persons \n",
      "were carried in the vehicle insured.  \n",
      "Provided further that in computing the number of persons for the purpose of this endorsement any three children not \n",
      "exceeding 15 years of age will be reckoned as two persons and any child in arms not exceeding 3 years of age will \n",
      "be disregarded.  \n",
      "Provided also that the provisions of condition 3 of the policy are also applicable to a claim or series of claims under \n",
      "this endorsement.  \n",
      "Provided further that in the event of policy being cancelled at the request of the insured no refund of premium paid \n",
      "in respect of this endorsement will be allowed.  \n",
      "Subject otherwise to the terms exceptions conditions and lim itations of this Policy.  \n",
      "(For use with “Liability Only” Policy)  \n",
      "In consideration of an additional premium of Rs……. and subject otherwise to the terms exceptions conditions and \n",
      "limitations of this Policy the insurer will indemnify the insured against liabil ity at law for compensation (including \n",
      "legal costs of any claimant) for death of or bodily injury to any person other than a person excluded under general \n",
      "exception being carried in or upon or entering or mounting or alighting from the vehicle insured.  \n",
      "Provided always that in the event of an accident occurring whilst the vehicle insured is carrying more than the \n",
      "number of persons mentioned in the Schedule hereto as being the licensed carrying capacity of that vehicle in \n",
      "addition to the conductor if any then  the insured shall repay to the insurer ratable proportion of the total amount \n",
      "which would be payable by the insurer by reason of this endorsement if not more than the said number of persons \n",
      "were carried in the vehicle insured.  \n",
      "Provided further that in com puting the number of persons for the purpose of this endorsement any 3 children not \n",
      "exceeding 15 years of age will be reckoned as two persons and any children in arms not exceeding 3 years of age \n",
      "will be disregarded.  \n",
      "Provided further that in the event of P olicy being cancelled at the request of the insured no refund of premium paid \n",
      "in respect of this endorsement will be allowed.\n",
      "{'source': 'D:/Prompt Engineering/Generative AI/Terms and Conditions.pdf', 'page': 20}\n",
      "Document\n",
      "satisfactorily completed and signed a suppl ementary proposal form**.  \n",
      " (ii)       shall have satisfied the insured - \n",
      "a)  that the vehicle insured will only be driven by a duly licensed driver whose license has not been \n",
      "endorsed   \n",
      "b) that such driver has not been refused Motor Insurance nor had his/h er  insurance policy been cancelled \n",
      "nor had special conditions imposed nor had increased premium demanded from him/her  by reason of \n",
      "claims experience.\n",
      "{'source': 'D:/Prompt Engineering/Generative AI/Terms and Conditions.pdf', 'page': 15}\n",
      "Document\n",
      "9 IMT 15.  PERSONAL ACCIDENT COVER TO T HE INSURED OR ANY NAMED PERSON OTHER THAN \n",
      "PAID DRIVER OR CLEANER (Applicable to private cars including three wheelers rated as private cars and \n",
      "motorized two wheelers with or without side car [not for hire or reward])  \n",
      "In consideration of the payment of an additional premium it is hereby agreed and understood that the Company \n",
      "undertakes to pay compensation on the scale provided below for bodily injury as hereinafter defined sustained by the \n",
      "insured person in direct connection with the vehicle insured or whil st mounting and dismounting from or traveling in \n",
      "vehicle insured and caused by violent accidental external and visible means which independently of any other cause \n",
      "shall within six calendar months of  the occurrence of such injury result in: - \n",
      "     \n",
      "                  Details of Injury             Scale of   Compensation  \n",
      "i) Death  100%  \n",
      "ii) Loss of two limbs  or  sight of two eyes  \n",
      "    or  one limb and sight of one eye  \n",
      " 100%  \n",
      "iii) Loss of one limb or sight of one eye  \n",
      " 50% \n",
      "iv) Permanent Total Disablement from  \n",
      "    injuries other than named above                                                                                100%  \n",
      "                                                                                       \n",
      " Provided always that  \n",
      " \n",
      "(1) compensation shall be p ayable under only one of the items (i) to (iv) above in respect of any such person arising \n",
      "out of any one occurrence and total liability of the insurer shall not in the aggregate exceed the sum of Rs.....…..* \n",
      "during any one period of insurance in respect o f any such person.  \n",
      "(2) no compensation shall be payable in respect of death or injury directly or indirectly wholly or in part arising or \n",
      "resulting from or traceable to (a) intentional self injury suicide or attempted suicide physical defect or infirmity o r \n",
      "(b) an accident happening whilst such person is under the influence of intoxicating liquor or drugs.  \n",
      "(3) such compensation shall be payable only with the approval of the insured named in the policy and directly to the \n",
      "injured person or his/her legal repr esentative(s) whose receipt shall be a  full discharge in respect of the injury of \n",
      "such person.  \n",
      "Subject otherwise to the terms exceptions conditions and limitations of this policy.  \n",
      "*  The Capital Sum Insured (CSI) per passenger is to be inserted.  \n",
      " \n",
      "IMT.16.  Personal accident to unnamed passengers other than insured and the paid driver and cleaner  \n",
      "{For vehicles rated as Private cars and Motorised two wheelers (not for hire or reward) with or without side \n",
      "car} \n",
      "In consideration of the payment of an additional p remium  it is hereby understood and agreed that the insurer \n",
      "undertakes to pay compensation  on the scale provided below for bodily injuries hereinafter defined sustained by any \n",
      "passenger other than the insured and/or the paid driver attendant or cleaner an d/or a person in the employ of the \n",
      "insured coming within the scope of the Workmen‟s Compensation Act, 1923 and subsequent amendments of the \n",
      "said Act and engaged in and upon the service of the insured at the time such injury is sustained   whilst mounting \n",
      "into,  dismounting  from or  traveling in but not driving the insured motor car and  caused by violent,  accidental, \n",
      "external and visible means  which independently of any other cause shall within three calendar months of the \n",
      "occurrence of such injury resul t in :   \n",
      "                 Details of Injury             Scale of Compensation  \n",
      "i) Death  \n",
      " 100%  \n",
      "ii) Loss of two limbs  or  sight of two eyes  \n",
      "    or  one limb and sight of one eye  \n",
      " 100%  \n",
      "iii) Loss of one limb or sight of one eye  \n",
      " 50% \n",
      "iv) Permanent Total D isablement from  \n",
      "    injuries other than named above                                                                                100%\n",
      "{'source': 'D:/Prompt Engineering/Generative AI/Terms and Conditions.pdf', 'page': 8}\n",
      "Document\n"
     ]
    }
   ],
   "source": [
    "for pages in unique_docs:\n",
    "    for line in pages:\n",
    "        print(line[1])"
   ]
  },
  {
   "cell_type": "code",
   "execution_count": null,
   "id": "6a7c6f12",
   "metadata": {},
   "outputs": [],
   "source": []
  }
 ],
 "metadata": {
  "kernelspec": {
   "display_name": "Python 3 (ipykernel)",
   "language": "python",
   "name": "python3"
  },
  "language_info": {
   "codemirror_mode": {
    "name": "ipython",
    "version": 3
   },
   "file_extension": ".py",
   "mimetype": "text/x-python",
   "name": "python",
   "nbconvert_exporter": "python",
   "pygments_lexer": "ipython3",
   "version": "3.11.5"
  }
 },
 "nbformat": 4,
 "nbformat_minor": 5
}
