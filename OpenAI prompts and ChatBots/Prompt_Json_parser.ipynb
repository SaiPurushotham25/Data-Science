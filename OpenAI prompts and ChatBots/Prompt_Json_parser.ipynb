{
 "cells": [
  {
   "cell_type": "code",
   "execution_count": 1,
   "id": "16ce6b7c-3de3-4a50-ad5a-55f0195dad76",
   "metadata": {},
   "outputs": [],
   "source": [
    "import os\n",
    "os.environ['OPENAI_API_KEY'] = ''"
   ]
  },
  {
   "cell_type": "code",
   "execution_count": 2,
   "id": "ea526d2c-cf06-4349-b9f0-8bb28fc64a5b",
   "metadata": {},
   "outputs": [],
   "source": [
    "from langchain.llms import OpenAI\n",
    "from langchain.prompts import PromptTemplate"
   ]
  },
  {
   "cell_type": "code",
   "execution_count": 3,
   "id": "bd5614da-9f04-4fbe-82a1-f8250fd2a3a4",
   "metadata": {},
   "outputs": [
    {
     "name": "stderr",
     "output_type": "stream",
     "text": [
      "D:\\anaconda\\Lib\\site-packages\\langchain_core\\_api\\deprecation.py:117: LangChainDeprecationWarning: The class `langchain_community.llms.openai.OpenAI` was deprecated in langchain-community 0.0.10 and will be removed in 0.2.0. An updated version of the class exists in the langchain-openai package and should be used instead. To use it run `pip install -U langchain-openai` and import as `from langchain_openai import OpenAI`.\n",
      "  warn_deprecated(\n"
     ]
    }
   ],
   "source": [
    "model = OpenAI()"
   ]
  },
  {
   "cell_type": "code",
   "execution_count": 4,
   "id": "f880c8c5-b853-4621-8edc-f93e549b0f03",
   "metadata": {},
   "outputs": [],
   "source": [
    "prompt_template = PromptTemplate.from_template(\n",
    "    \"As a {role} tellme about {content}.\"\n",
    ")"
   ]
  },
  {
   "cell_type": "code",
   "execution_count": 11,
   "id": "b12f93ec-73f1-4e71-877d-96b707f24751",
   "metadata": {},
   "outputs": [
    {
     "name": "stdout",
     "output_type": "stream",
     "text": [
      "As a Maths Teacher tellme about Trigometry.\n"
     ]
    }
   ],
   "source": [
    "filled_prompt = prompt_template.format(role=\"Maths Teacher\", content=\"Trigometry\")\n",
    "print(filled_prompt)"
   ]
  },
  {
   "cell_type": "code",
   "execution_count": 14,
   "id": "8b7383b3-6432-4806-b5a7-300c960c7020",
   "metadata": {},
   "outputs": [],
   "source": [
    "prompt_and_model = prompt_template | model"
   ]
  },
  {
   "cell_type": "code",
   "execution_count": 20,
   "id": "e4b8b34c-fba6-403c-87e6-3dfe63ccc381",
   "metadata": {},
   "outputs": [
    {
     "name": "stdout",
     "output_type": "stream",
     "text": [
      "\n",
      "\n",
      "Trigonometry is a branch of mathematics that deals with the study of triangles and the relationships between their sides and angles. It is an essential part of geometry and is widely used in various fields such as physics, engineering, and navigation.\n",
      "\n",
      "The word trigonometry is derived from the Greek words \"trigonon\" meaning triangle and \"metron\" meaning measure. The study of trigonometry dates back to ancient civilizations, where it was used for practical applications such as measuring land and building structures.\n",
      "\n",
      "Trigonometry involves the use of trigonometric functions such as sine, cosine, and tangent to solve problems related to triangles. These functions are defined as ratios of the sides of a right-angled triangle and can be used to find missing side lengths or angles.\n",
      "\n",
      "One of the fundamental concepts in trigonometry is the unit circle, which is a circle with a radius of 1 unit. The six trigonometric functions can be defined using this unit circle, and their values can be found using reference angles.\n",
      "\n",
      "Trigonometry also includes the study of identities, which are equations involving trigonometric functions that are true for all values of the variables. These identities are used to simplify and solve trigonometric equations.\n",
      "\n",
      "In addition to right-angled triangles, trigonometry"
     ]
    }
   ],
   "source": [
    "output = prompt_and_model.stream({\"role\": \"Maths Teacher\",\"content\":\"Trigometry\"})\n",
    "for i in output:\n",
    "    print(i,end='',flush=True)"
   ]
  },
  {
   "cell_type": "code",
   "execution_count": 10,
   "id": "c53ad395-48e6-4f6c-a655-d5a65d36275a",
   "metadata": {},
   "outputs": [
    {
     "name": "stdout",
     "output_type": "stream",
     "text": [
      "{'birthdate': 'October 2, 1869', 'birthplace': 'Porbandar, Gujarat, India'}\n"
     ]
    }
   ],
   "source": [
    "from langchain.output_parsers.json import SimpleJsonOutputParser\n",
    "\n",
    "# Create a JSON prompt\n",
    "json_prompt = PromptTemplate.from_template(\n",
    "    \"Return a JSON object with `birthdate` and `birthplace` key that answers the following question: {question}\"\n",
    ")\n",
    "\n",
    "# Initialize the JSON parser\n",
    "json_parser = SimpleJsonOutputParser()\n",
    "\n",
    "# Create a chain with the prompt, model, and parser\n",
    "json_chain = json_prompt | model | json_parser\n",
    "\n",
    "# Stream through the results\n",
    "result_list = json_chain.invoke({\"question\": \"When and where was Mahatma Gandhi born?\"})\n",
    "\n",
    "# The result is a list of JSON-like dictionaries\n",
    "print(result_list)"
   ]
  },
  {
   "cell_type": "code",
   "execution_count": null,
   "id": "84f923a4-8f90-4dc9-9460-4aac21e57d0f",
   "metadata": {},
   "outputs": [],
   "source": []
  }
 ],
 "metadata": {
  "kernelspec": {
   "display_name": "Python 3 (ipykernel)",
   "language": "python",
   "name": "python3"
  },
  "language_info": {
   "codemirror_mode": {
    "name": "ipython",
    "version": 3
   },
   "file_extension": ".py",
   "mimetype": "text/x-python",
   "name": "python",
   "nbconvert_exporter": "python",
   "pygments_lexer": "ipython3",
   "version": "3.11.5"
  }
 },
 "nbformat": 4,
 "nbformat_minor": 5
}
