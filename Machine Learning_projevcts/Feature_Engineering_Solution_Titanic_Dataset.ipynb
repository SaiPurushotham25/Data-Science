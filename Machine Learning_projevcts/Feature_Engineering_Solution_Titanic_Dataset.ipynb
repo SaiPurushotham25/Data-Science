{
 "cells": [
  {
   "cell_type": "code",
   "execution_count": null,
   "id": "84e896e9",
   "metadata": {},
   "outputs": [],
   "source": [
    "from matplotlib import pyplot as plt\n",
    "from matplotlib import style\n",
    "import seaborn as sns\n",
    "%matplotlib inline\n",
    "import pandas as pd"
   ]
  },
  {
   "cell_type": "markdown",
   "id": "865903e3",
   "metadata": {},
   "source": [
    "# Titanic DataSet"
   ]
  },
  {
   "cell_type": "code",
   "execution_count": null,
   "id": "50133eaf",
   "metadata": {},
   "outputs": [],
   "source": [
    "df=pd.read_csv(\"D:\\\\python\\\\titanic\\\\train.csv\")"
   ]
  },
  {
   "cell_type": "code",
   "execution_count": null,
   "id": "28eb8357",
   "metadata": {},
   "outputs": [],
   "source": [
    "df"
   ]
  },
  {
   "cell_type": "code",
   "execution_count": null,
   "id": "33048744",
   "metadata": {},
   "outputs": [],
   "source": [
    "df.shape"
   ]
  },
  {
   "cell_type": "code",
   "execution_count": null,
   "id": "26a8f55e",
   "metadata": {},
   "outputs": [],
   "source": [
    "df.columns"
   ]
  },
  {
   "cell_type": "markdown",
   "id": "2900df48",
   "metadata": {},
   "source": [
    "# separation of Continuous variable column and categorical variables"
   ]
  },
  {
   "cell_type": "code",
   "execution_count": null,
   "id": "eaa1ae11",
   "metadata": {},
   "outputs": [],
   "source": [
    "import numpy as np"
   ]
  },
  {
   "cell_type": "code",
   "execution_count": null,
   "id": "5df8d1cb",
   "metadata": {},
   "outputs": [],
   "source": [
    "df_num=df.select_dtypes(include=[np.number])"
   ]
  },
  {
   "cell_type": "markdown",
   "id": "c472021b",
   "metadata": {},
   "source": [
    "# Continuous Variable columns"
   ]
  },
  {
   "cell_type": "code",
   "execution_count": null,
   "id": "a7c4ae6e",
   "metadata": {},
   "outputs": [],
   "source": [
    "df_num.columns"
   ]
  },
  {
   "cell_type": "code",
   "execution_count": null,
   "id": "a684bad2",
   "metadata": {},
   "outputs": [],
   "source": [
    "df_cat=df.select_dtypes(include=\"object\")"
   ]
  },
  {
   "cell_type": "markdown",
   "id": "97744e56",
   "metadata": {},
   "source": [
    "# Categorical Variable Columns"
   ]
  },
  {
   "cell_type": "code",
   "execution_count": null,
   "id": "771131a7",
   "metadata": {},
   "outputs": [],
   "source": [
    "df_cat.columns"
   ]
  },
  {
   "cell_type": "markdown",
   "id": "d19de367",
   "metadata": {},
   "source": [
    "# IMPUTATION-finding the null values"
   ]
  },
  {
   "cell_type": "code",
   "execution_count": null,
   "id": "987fff2b",
   "metadata": {},
   "outputs": [],
   "source": [
    "df_num.isnull().sum()"
   ]
  },
  {
   "cell_type": "markdown",
   "id": "5312863e",
   "metadata": {},
   "source": [
    "# Applying median for all the null values"
   ]
  },
  {
   "cell_type": "code",
   "execution_count": null,
   "id": "09fa5f53",
   "metadata": {},
   "outputs": [],
   "source": [
    "median_age=df_num[\"Age\"].median()\n",
    "df_num[\"Age\"]=df_num[\"Age\"].fillna(median_age)"
   ]
  },
  {
   "cell_type": "code",
   "execution_count": null,
   "id": "fb19acaa",
   "metadata": {},
   "outputs": [],
   "source": [
    "df_num.isnull().sum()"
   ]
  },
  {
   "cell_type": "markdown",
   "id": "ec1d1b1c",
   "metadata": {},
   "source": [
    "# Removing the datapoints which are more than 75% and less than 25%"
   ]
  },
  {
   "cell_type": "code",
   "execution_count": null,
   "id": "a86dd455",
   "metadata": {},
   "outputs": [],
   "source": [
    "df_num[\"Fare\"].describe()"
   ]
  },
  {
   "cell_type": "code",
   "execution_count": null,
   "id": "eea84054",
   "metadata": {},
   "outputs": [],
   "source": [
    "df_Fare=df_num[(df_num[\"Fare\"]>7.91)&(df_num[\"Fare\"]<31)]"
   ]
  },
  {
   "cell_type": "markdown",
   "id": "16e1bca5",
   "metadata": {},
   "source": [
    "# Plotting Boxplot after Removal"
   ]
  },
  {
   "cell_type": "code",
   "execution_count": null,
   "id": "b960c324",
   "metadata": {},
   "outputs": [],
   "source": [
    "sns.boxplot(y=df_Fare[\"Fare\"])"
   ]
  },
  {
   "cell_type": "markdown",
   "id": "9d2f16dc",
   "metadata": {},
   "source": [
    "# Standard Scaler"
   ]
  },
  {
   "cell_type": "code",
   "execution_count": null,
   "id": "ea81f21f",
   "metadata": {},
   "outputs": [],
   "source": [
    "from sklearn.preprocessing import StandardScaler"
   ]
  },
  {
   "cell_type": "code",
   "execution_count": null,
   "id": "57a4896e",
   "metadata": {},
   "outputs": [],
   "source": [
    "sc=StandardScaler()"
   ]
  },
  {
   "cell_type": "code",
   "execution_count": null,
   "id": "41b2d375",
   "metadata": {},
   "outputs": [],
   "source": [
    "sco=sc.fit(df_Fare)"
   ]
  },
  {
   "cell_type": "code",
   "execution_count": null,
   "id": "f3d0b6b5",
   "metadata": {},
   "outputs": [],
   "source": [
    "df_num_standard_scaler=sco.fit_transform(df_Fare)"
   ]
  },
  {
   "cell_type": "code",
   "execution_count": null,
   "id": "3a0ca429",
   "metadata": {},
   "outputs": [],
   "source": [
    "sns.boxplot(df_num_standard_scaler)"
   ]
  },
  {
   "cell_type": "code",
   "execution_count": null,
   "id": "ba05c984",
   "metadata": {},
   "outputs": [],
   "source": [
    "from sklearn.preprocessing import MinMaxScaler"
   ]
  },
  {
   "cell_type": "code",
   "execution_count": null,
   "id": "9243820f",
   "metadata": {},
   "outputs": [],
   "source": [
    "mms=MinMaxScaler()"
   ]
  },
  {
   "cell_type": "code",
   "execution_count": null,
   "id": "f214971f",
   "metadata": {},
   "outputs": [],
   "source": [
    "mmso=mms.fit(df_Fare)"
   ]
  },
  {
   "cell_type": "code",
   "execution_count": null,
   "id": "4d8b35d8",
   "metadata": {},
   "outputs": [],
   "source": [
    "df_num_minmax_scaler=mmso.fit_transform(df_Fare)"
   ]
  },
  {
   "cell_type": "markdown",
   "id": "ff9210f3",
   "metadata": {},
   "source": [
    "# MinMax Scaler"
   ]
  },
  {
   "cell_type": "code",
   "execution_count": null,
   "id": "0e4ae99b",
   "metadata": {},
   "outputs": [],
   "source": [
    "sns.boxplot(df_num_minmax_scaler)"
   ]
  },
  {
   "cell_type": "markdown",
   "id": "b51e7c7c",
   "metadata": {},
   "source": [
    "# Categorical Variable Columns"
   ]
  },
  {
   "cell_type": "code",
   "execution_count": null,
   "id": "ba88472f",
   "metadata": {},
   "outputs": [],
   "source": [
    "df_cat.columns"
   ]
  },
  {
   "cell_type": "markdown",
   "id": "f2c91da9",
   "metadata": {},
   "source": [
    "# Finding Null values in Categorical variables"
   ]
  },
  {
   "cell_type": "code",
   "execution_count": null,
   "id": "b6fe49de",
   "metadata": {},
   "outputs": [],
   "source": [
    "df_cat.isnull().sum()"
   ]
  },
  {
   "cell_type": "markdown",
   "id": "77bc8e6a",
   "metadata": {},
   "source": [
    "# Replacing Null values with Mode or Dropping the values if there are more null values in the columns"
   ]
  },
  {
   "cell_type": "code",
   "execution_count": null,
   "id": "eb7960e9",
   "metadata": {},
   "outputs": [],
   "source": [
    "df_cat['Cabin'].fillna(df_cat['Cabin'].value_counts().idxmax(),inplace=True)"
   ]
  },
  {
   "cell_type": "code",
   "execution_count": null,
   "id": "1ff698ea",
   "metadata": {},
   "outputs": [],
   "source": [
    "df_cat['Embarked'].fillna(df_cat['Embarked'].value_counts().idxmax(),inplace=True)"
   ]
  },
  {
   "cell_type": "code",
   "execution_count": null,
   "id": "17c7fe95",
   "metadata": {},
   "outputs": [],
   "source": [
    "df_cat.head()"
   ]
  },
  {
   "cell_type": "code",
   "execution_count": null,
   "id": "f49a5069",
   "metadata": {},
   "outputs": [],
   "source": [
    "df_cat['Name'].unique()"
   ]
  },
  {
   "cell_type": "code",
   "execution_count": null,
   "id": "87f4501a",
   "metadata": {},
   "outputs": [],
   "source": [
    "df_cat['Sex'].unique()"
   ]
  },
  {
   "cell_type": "code",
   "execution_count": null,
   "id": "d013297d",
   "metadata": {},
   "outputs": [],
   "source": [
    "df_cat['Ticket'].unique()"
   ]
  },
  {
   "cell_type": "markdown",
   "id": "dcdad708",
   "metadata": {},
   "source": [
    "# Label Encoding"
   ]
  },
  {
   "cell_type": "code",
   "execution_count": null,
   "id": "0a270c3a",
   "metadata": {},
   "outputs": [],
   "source": [
    "from sklearn.preprocessing import LabelEncoder"
   ]
  },
  {
   "cell_type": "code",
   "execution_count": null,
   "id": "c4fc481a",
   "metadata": {},
   "outputs": [],
   "source": [
    "le=LabelEncoder()"
   ]
  },
  {
   "cell_type": "code",
   "execution_count": null,
   "id": "effd247b",
   "metadata": {},
   "outputs": [],
   "source": [
    "df_cat1=df_cat.apply(le.fit_transform)"
   ]
  },
  {
   "cell_type": "code",
   "execution_count": null,
   "id": "4d3f78a9",
   "metadata": {},
   "outputs": [],
   "source": [
    "df_cat1.head()"
   ]
  },
  {
   "cell_type": "code",
   "execution_count": null,
   "id": "fa3d8d39",
   "metadata": {},
   "outputs": [],
   "source": [
    "df_Fare.shape"
   ]
  },
  {
   "cell_type": "code",
   "execution_count": null,
   "id": "c328fd61",
   "metadata": {},
   "outputs": [],
   "source": [
    "df_cat1.shape"
   ]
  },
  {
   "cell_type": "code",
   "execution_count": null,
   "id": "c329b56f",
   "metadata": {},
   "outputs": [],
   "source": [
    "df_cat1_op=df_cat1.loc[df_Fare.index.values,:]"
   ]
  },
  {
   "cell_type": "code",
   "execution_count": null,
   "id": "fd1bec27",
   "metadata": {},
   "outputs": [],
   "source": [
    "df_cat1_op.shape"
   ]
  },
  {
   "cell_type": "code",
   "execution_count": null,
   "id": "05bfea4c",
   "metadata": {},
   "outputs": [],
   "source": [
    "df_Final=pd.concat([df_Fare,df_cat1_op],axis=1)"
   ]
  },
  {
   "cell_type": "code",
   "execution_count": null,
   "id": "7cfe51e1",
   "metadata": {},
   "outputs": [],
   "source": [
    "df_Final.shape"
   ]
  },
  {
   "cell_type": "markdown",
   "id": "1e74e8c7",
   "metadata": {},
   "source": [
    "# Final DataSet"
   ]
  },
  {
   "cell_type": "code",
   "execution_count": null,
   "id": "d5f33bfd",
   "metadata": {},
   "outputs": [],
   "source": [
    "df_Final"
   ]
  },
  {
   "cell_type": "code",
   "execution_count": null,
   "id": "230035ff",
   "metadata": {},
   "outputs": [],
   "source": []
  }
 ],
 "metadata": {
  "kernelspec": {
   "display_name": "Python 3 (ipykernel)",
   "language": "python",
   "name": "python3"
  },
  "language_info": {
   "codemirror_mode": {
    "name": "ipython",
    "version": 3
   },
   "file_extension": ".py",
   "mimetype": "text/x-python",
   "name": "python",
   "nbconvert_exporter": "python",
   "pygments_lexer": "ipython3",
   "version": "3.11.5"
  }
 },
 "nbformat": 4,
 "nbformat_minor": 5
}
