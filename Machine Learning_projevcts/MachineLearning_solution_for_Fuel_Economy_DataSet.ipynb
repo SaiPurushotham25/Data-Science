{
 "cells": [
  {
   "cell_type": "code",
   "execution_count": 1,
   "id": "0823091e",
   "metadata": {},
   "outputs": [],
   "source": [
    "from matplotlib import pyplot as plt\n",
    "from matplotlib import style\n",
    "import seaborn as sns\n",
    "%matplotlib inline\n",
    "import pandas as pd\n",
    "import warnings\n",
    "warnings.filterwarnings('ignore')"
   ]
  },
  {
   "cell_type": "code",
   "execution_count": 2,
   "id": "8bcabf0f",
   "metadata": {
    "scrolled": true
   },
   "outputs": [],
   "source": [
    "df=pd.read_csv(\"D:\\\\Prompt Engineering\\\\Datasets\\\\vehicles.csv\")"
   ]
  },
  {
   "cell_type": "markdown",
   "id": "b181a8fa",
   "metadata": {},
   "source": [
    "# Fuel Economy DataSet"
   ]
  },
  {
   "cell_type": "code",
   "execution_count": 3,
   "id": "64156c14",
   "metadata": {},
   "outputs": [
    {
     "data": {
      "text/html": [
       "<div>\n",
       "<style scoped>\n",
       "    .dataframe tbody tr th:only-of-type {\n",
       "        vertical-align: middle;\n",
       "    }\n",
       "\n",
       "    .dataframe tbody tr th {\n",
       "        vertical-align: top;\n",
       "    }\n",
       "\n",
       "    .dataframe thead th {\n",
       "        text-align: right;\n",
       "    }\n",
       "</style>\n",
       "<table border=\"1\" class=\"dataframe\">\n",
       "  <thead>\n",
       "    <tr style=\"text-align: right;\">\n",
       "      <th></th>\n",
       "      <th>barrels08</th>\n",
       "      <th>barrelsA08</th>\n",
       "      <th>charge120</th>\n",
       "      <th>charge240</th>\n",
       "      <th>city08</th>\n",
       "      <th>city08U</th>\n",
       "      <th>cityA08</th>\n",
       "      <th>cityA08U</th>\n",
       "      <th>cityCD</th>\n",
       "      <th>cityE</th>\n",
       "      <th>...</th>\n",
       "      <th>mfrCode</th>\n",
       "      <th>c240Dscr</th>\n",
       "      <th>charge240b</th>\n",
       "      <th>c240bDscr</th>\n",
       "      <th>createdOn</th>\n",
       "      <th>modifiedOn</th>\n",
       "      <th>startStop</th>\n",
       "      <th>phevCity</th>\n",
       "      <th>phevHwy</th>\n",
       "      <th>phevComb</th>\n",
       "    </tr>\n",
       "  </thead>\n",
       "  <tbody>\n",
       "    <tr>\n",
       "      <th>0</th>\n",
       "      <td>14.167143</td>\n",
       "      <td>0.0</td>\n",
       "      <td>0.0</td>\n",
       "      <td>0.0</td>\n",
       "      <td>19</td>\n",
       "      <td>0.0</td>\n",
       "      <td>0</td>\n",
       "      <td>0.0</td>\n",
       "      <td>0.0</td>\n",
       "      <td>0.0</td>\n",
       "      <td>...</td>\n",
       "      <td>NaN</td>\n",
       "      <td>NaN</td>\n",
       "      <td>0.0</td>\n",
       "      <td>NaN</td>\n",
       "      <td>Tue Jan 01 00:00:00 EST 2013</td>\n",
       "      <td>Tue Jan 01 00:00:00 EST 2013</td>\n",
       "      <td>NaN</td>\n",
       "      <td>0</td>\n",
       "      <td>0</td>\n",
       "      <td>0</td>\n",
       "    </tr>\n",
       "    <tr>\n",
       "      <th>1</th>\n",
       "      <td>27.046364</td>\n",
       "      <td>0.0</td>\n",
       "      <td>0.0</td>\n",
       "      <td>0.0</td>\n",
       "      <td>9</td>\n",
       "      <td>0.0</td>\n",
       "      <td>0</td>\n",
       "      <td>0.0</td>\n",
       "      <td>0.0</td>\n",
       "      <td>0.0</td>\n",
       "      <td>...</td>\n",
       "      <td>NaN</td>\n",
       "      <td>NaN</td>\n",
       "      <td>0.0</td>\n",
       "      <td>NaN</td>\n",
       "      <td>Tue Jan 01 00:00:00 EST 2013</td>\n",
       "      <td>Tue Jan 01 00:00:00 EST 2013</td>\n",
       "      <td>NaN</td>\n",
       "      <td>0</td>\n",
       "      <td>0</td>\n",
       "      <td>0</td>\n",
       "    </tr>\n",
       "    <tr>\n",
       "      <th>2</th>\n",
       "      <td>11.018889</td>\n",
       "      <td>0.0</td>\n",
       "      <td>0.0</td>\n",
       "      <td>0.0</td>\n",
       "      <td>23</td>\n",
       "      <td>0.0</td>\n",
       "      <td>0</td>\n",
       "      <td>0.0</td>\n",
       "      <td>0.0</td>\n",
       "      <td>0.0</td>\n",
       "      <td>...</td>\n",
       "      <td>NaN</td>\n",
       "      <td>NaN</td>\n",
       "      <td>0.0</td>\n",
       "      <td>NaN</td>\n",
       "      <td>Tue Jan 01 00:00:00 EST 2013</td>\n",
       "      <td>Tue Jan 01 00:00:00 EST 2013</td>\n",
       "      <td>NaN</td>\n",
       "      <td>0</td>\n",
       "      <td>0</td>\n",
       "      <td>0</td>\n",
       "    </tr>\n",
       "    <tr>\n",
       "      <th>3</th>\n",
       "      <td>27.046364</td>\n",
       "      <td>0.0</td>\n",
       "      <td>0.0</td>\n",
       "      <td>0.0</td>\n",
       "      <td>10</td>\n",
       "      <td>0.0</td>\n",
       "      <td>0</td>\n",
       "      <td>0.0</td>\n",
       "      <td>0.0</td>\n",
       "      <td>0.0</td>\n",
       "      <td>...</td>\n",
       "      <td>NaN</td>\n",
       "      <td>NaN</td>\n",
       "      <td>0.0</td>\n",
       "      <td>NaN</td>\n",
       "      <td>Tue Jan 01 00:00:00 EST 2013</td>\n",
       "      <td>Tue Jan 01 00:00:00 EST 2013</td>\n",
       "      <td>NaN</td>\n",
       "      <td>0</td>\n",
       "      <td>0</td>\n",
       "      <td>0</td>\n",
       "    </tr>\n",
       "    <tr>\n",
       "      <th>4</th>\n",
       "      <td>15.658421</td>\n",
       "      <td>0.0</td>\n",
       "      <td>0.0</td>\n",
       "      <td>0.0</td>\n",
       "      <td>17</td>\n",
       "      <td>0.0</td>\n",
       "      <td>0</td>\n",
       "      <td>0.0</td>\n",
       "      <td>0.0</td>\n",
       "      <td>0.0</td>\n",
       "      <td>...</td>\n",
       "      <td>NaN</td>\n",
       "      <td>NaN</td>\n",
       "      <td>0.0</td>\n",
       "      <td>NaN</td>\n",
       "      <td>Tue Jan 01 00:00:00 EST 2013</td>\n",
       "      <td>Tue Jan 01 00:00:00 EST 2013</td>\n",
       "      <td>NaN</td>\n",
       "      <td>0</td>\n",
       "      <td>0</td>\n",
       "      <td>0</td>\n",
       "    </tr>\n",
       "    <tr>\n",
       "      <th>...</th>\n",
       "      <td>...</td>\n",
       "      <td>...</td>\n",
       "      <td>...</td>\n",
       "      <td>...</td>\n",
       "      <td>...</td>\n",
       "      <td>...</td>\n",
       "      <td>...</td>\n",
       "      <td>...</td>\n",
       "      <td>...</td>\n",
       "      <td>...</td>\n",
       "      <td>...</td>\n",
       "      <td>...</td>\n",
       "      <td>...</td>\n",
       "      <td>...</td>\n",
       "      <td>...</td>\n",
       "      <td>...</td>\n",
       "      <td>...</td>\n",
       "      <td>...</td>\n",
       "      <td>...</td>\n",
       "      <td>...</td>\n",
       "      <td>...</td>\n",
       "    </tr>\n",
       "    <tr>\n",
       "      <th>47070</th>\n",
       "      <td>13.523182</td>\n",
       "      <td>0.0</td>\n",
       "      <td>0.0</td>\n",
       "      <td>0.0</td>\n",
       "      <td>19</td>\n",
       "      <td>0.0</td>\n",
       "      <td>0</td>\n",
       "      <td>0.0</td>\n",
       "      <td>0.0</td>\n",
       "      <td>0.0</td>\n",
       "      <td>...</td>\n",
       "      <td>NaN</td>\n",
       "      <td>NaN</td>\n",
       "      <td>0.0</td>\n",
       "      <td>NaN</td>\n",
       "      <td>Tue Jan 01 00:00:00 EST 2013</td>\n",
       "      <td>Tue Jan 01 00:00:00 EST 2013</td>\n",
       "      <td>NaN</td>\n",
       "      <td>0</td>\n",
       "      <td>0</td>\n",
       "      <td>0</td>\n",
       "    </tr>\n",
       "    <tr>\n",
       "      <th>47071</th>\n",
       "      <td>12.935217</td>\n",
       "      <td>0.0</td>\n",
       "      <td>0.0</td>\n",
       "      <td>0.0</td>\n",
       "      <td>20</td>\n",
       "      <td>0.0</td>\n",
       "      <td>0</td>\n",
       "      <td>0.0</td>\n",
       "      <td>0.0</td>\n",
       "      <td>0.0</td>\n",
       "      <td>...</td>\n",
       "      <td>NaN</td>\n",
       "      <td>NaN</td>\n",
       "      <td>0.0</td>\n",
       "      <td>NaN</td>\n",
       "      <td>Tue Jan 01 00:00:00 EST 2013</td>\n",
       "      <td>Tue Jan 01 00:00:00 EST 2013</td>\n",
       "      <td>NaN</td>\n",
       "      <td>0</td>\n",
       "      <td>0</td>\n",
       "      <td>0</td>\n",
       "    </tr>\n",
       "    <tr>\n",
       "      <th>47072</th>\n",
       "      <td>14.167143</td>\n",
       "      <td>0.0</td>\n",
       "      <td>0.0</td>\n",
       "      <td>0.0</td>\n",
       "      <td>18</td>\n",
       "      <td>0.0</td>\n",
       "      <td>0</td>\n",
       "      <td>0.0</td>\n",
       "      <td>0.0</td>\n",
       "      <td>0.0</td>\n",
       "      <td>...</td>\n",
       "      <td>NaN</td>\n",
       "      <td>NaN</td>\n",
       "      <td>0.0</td>\n",
       "      <td>NaN</td>\n",
       "      <td>Tue Jan 01 00:00:00 EST 2013</td>\n",
       "      <td>Tue Jan 01 00:00:00 EST 2013</td>\n",
       "      <td>NaN</td>\n",
       "      <td>0</td>\n",
       "      <td>0</td>\n",
       "      <td>0</td>\n",
       "    </tr>\n",
       "    <tr>\n",
       "      <th>47073</th>\n",
       "      <td>14.167143</td>\n",
       "      <td>0.0</td>\n",
       "      <td>0.0</td>\n",
       "      <td>0.0</td>\n",
       "      <td>18</td>\n",
       "      <td>0.0</td>\n",
       "      <td>0</td>\n",
       "      <td>0.0</td>\n",
       "      <td>0.0</td>\n",
       "      <td>0.0</td>\n",
       "      <td>...</td>\n",
       "      <td>NaN</td>\n",
       "      <td>NaN</td>\n",
       "      <td>0.0</td>\n",
       "      <td>NaN</td>\n",
       "      <td>Tue Jan 01 00:00:00 EST 2013</td>\n",
       "      <td>Tue Jan 01 00:00:00 EST 2013</td>\n",
       "      <td>NaN</td>\n",
       "      <td>0</td>\n",
       "      <td>0</td>\n",
       "      <td>0</td>\n",
       "    </tr>\n",
       "    <tr>\n",
       "      <th>47074</th>\n",
       "      <td>16.528333</td>\n",
       "      <td>0.0</td>\n",
       "      <td>0.0</td>\n",
       "      <td>0.0</td>\n",
       "      <td>16</td>\n",
       "      <td>0.0</td>\n",
       "      <td>0</td>\n",
       "      <td>0.0</td>\n",
       "      <td>0.0</td>\n",
       "      <td>0.0</td>\n",
       "      <td>...</td>\n",
       "      <td>NaN</td>\n",
       "      <td>NaN</td>\n",
       "      <td>0.0</td>\n",
       "      <td>NaN</td>\n",
       "      <td>Tue Jan 01 00:00:00 EST 2013</td>\n",
       "      <td>Tue Jan 01 00:00:00 EST 2013</td>\n",
       "      <td>NaN</td>\n",
       "      <td>0</td>\n",
       "      <td>0</td>\n",
       "      <td>0</td>\n",
       "    </tr>\n",
       "  </tbody>\n",
       "</table>\n",
       "<p>47075 rows × 84 columns</p>\n",
       "</div>"
      ],
      "text/plain": [
       "       barrels08  barrelsA08  charge120  charge240  city08  city08U  cityA08  \\\n",
       "0      14.167143         0.0        0.0        0.0      19      0.0        0   \n",
       "1      27.046364         0.0        0.0        0.0       9      0.0        0   \n",
       "2      11.018889         0.0        0.0        0.0      23      0.0        0   \n",
       "3      27.046364         0.0        0.0        0.0      10      0.0        0   \n",
       "4      15.658421         0.0        0.0        0.0      17      0.0        0   \n",
       "...          ...         ...        ...        ...     ...      ...      ...   \n",
       "47070  13.523182         0.0        0.0        0.0      19      0.0        0   \n",
       "47071  12.935217         0.0        0.0        0.0      20      0.0        0   \n",
       "47072  14.167143         0.0        0.0        0.0      18      0.0        0   \n",
       "47073  14.167143         0.0        0.0        0.0      18      0.0        0   \n",
       "47074  16.528333         0.0        0.0        0.0      16      0.0        0   \n",
       "\n",
       "       cityA08U  cityCD  cityE  ...  mfrCode  c240Dscr  charge240b  c240bDscr  \\\n",
       "0           0.0     0.0    0.0  ...      NaN       NaN         0.0        NaN   \n",
       "1           0.0     0.0    0.0  ...      NaN       NaN         0.0        NaN   \n",
       "2           0.0     0.0    0.0  ...      NaN       NaN         0.0        NaN   \n",
       "3           0.0     0.0    0.0  ...      NaN       NaN         0.0        NaN   \n",
       "4           0.0     0.0    0.0  ...      NaN       NaN         0.0        NaN   \n",
       "...         ...     ...    ...  ...      ...       ...         ...        ...   \n",
       "47070       0.0     0.0    0.0  ...      NaN       NaN         0.0        NaN   \n",
       "47071       0.0     0.0    0.0  ...      NaN       NaN         0.0        NaN   \n",
       "47072       0.0     0.0    0.0  ...      NaN       NaN         0.0        NaN   \n",
       "47073       0.0     0.0    0.0  ...      NaN       NaN         0.0        NaN   \n",
       "47074       0.0     0.0    0.0  ...      NaN       NaN         0.0        NaN   \n",
       "\n",
       "                          createdOn                    modifiedOn  startStop  \\\n",
       "0      Tue Jan 01 00:00:00 EST 2013  Tue Jan 01 00:00:00 EST 2013        NaN   \n",
       "1      Tue Jan 01 00:00:00 EST 2013  Tue Jan 01 00:00:00 EST 2013        NaN   \n",
       "2      Tue Jan 01 00:00:00 EST 2013  Tue Jan 01 00:00:00 EST 2013        NaN   \n",
       "3      Tue Jan 01 00:00:00 EST 2013  Tue Jan 01 00:00:00 EST 2013        NaN   \n",
       "4      Tue Jan 01 00:00:00 EST 2013  Tue Jan 01 00:00:00 EST 2013        NaN   \n",
       "...                             ...                           ...        ...   \n",
       "47070  Tue Jan 01 00:00:00 EST 2013  Tue Jan 01 00:00:00 EST 2013        NaN   \n",
       "47071  Tue Jan 01 00:00:00 EST 2013  Tue Jan 01 00:00:00 EST 2013        NaN   \n",
       "47072  Tue Jan 01 00:00:00 EST 2013  Tue Jan 01 00:00:00 EST 2013        NaN   \n",
       "47073  Tue Jan 01 00:00:00 EST 2013  Tue Jan 01 00:00:00 EST 2013        NaN   \n",
       "47074  Tue Jan 01 00:00:00 EST 2013  Tue Jan 01 00:00:00 EST 2013        NaN   \n",
       "\n",
       "       phevCity  phevHwy  phevComb  \n",
       "0             0        0         0  \n",
       "1             0        0         0  \n",
       "2             0        0         0  \n",
       "3             0        0         0  \n",
       "4             0        0         0  \n",
       "...         ...      ...       ...  \n",
       "47070         0        0         0  \n",
       "47071         0        0         0  \n",
       "47072         0        0         0  \n",
       "47073         0        0         0  \n",
       "47074         0        0         0  \n",
       "\n",
       "[47075 rows x 84 columns]"
      ]
     },
     "execution_count": 3,
     "metadata": {},
     "output_type": "execute_result"
    }
   ],
   "source": [
    "df"
   ]
  },
  {
   "cell_type": "code",
   "execution_count": 4,
   "id": "487bfd68",
   "metadata": {},
   "outputs": [
    {
     "data": {
      "text/plain": [
       "(47075, 84)"
      ]
     },
     "execution_count": 4,
     "metadata": {},
     "output_type": "execute_result"
    }
   ],
   "source": [
    "df.shape"
   ]
  },
  {
   "cell_type": "markdown",
   "id": "be9310fc",
   "metadata": {},
   "source": [
    "# separation of Continuous variable column and categorical variables"
   ]
  },
  {
   "cell_type": "code",
   "execution_count": 5,
   "id": "73fab623",
   "metadata": {},
   "outputs": [],
   "source": [
    "import numpy as np"
   ]
  },
  {
   "cell_type": "code",
   "execution_count": 6,
   "id": "67c8a8a0",
   "metadata": {},
   "outputs": [],
   "source": [
    "df_num=df.select_dtypes(include=[np.number])"
   ]
  },
  {
   "cell_type": "markdown",
   "id": "f3e13d41",
   "metadata": {},
   "source": [
    "# Continous Variable Columns"
   ]
  },
  {
   "cell_type": "code",
   "execution_count": 7,
   "id": "7f099096",
   "metadata": {
    "scrolled": true
   },
   "outputs": [
    {
     "data": {
      "text/plain": [
       "Index(['barrels08', 'barrelsA08', 'charge120', 'charge240', 'city08',\n",
       "       'city08U', 'cityA08', 'cityA08U', 'cityCD', 'cityE', 'cityUF', 'co2',\n",
       "       'co2A', 'co2TailpipeAGpm', 'co2TailpipeGpm', 'comb08', 'comb08U',\n",
       "       'combA08', 'combA08U', 'combE', 'combinedCD', 'combinedUF', 'cylinders',\n",
       "       'displ', 'engId', 'feScore', 'fuelCost08', 'fuelCostA08', 'ghgScore',\n",
       "       'ghgScoreA', 'highway08', 'highway08U', 'highwayA08', 'highwayA08U',\n",
       "       'highwayCD', 'highwayE', 'highwayUF', 'hlv', 'hpv', 'id', 'lv2', 'lv4',\n",
       "       'pv2', 'pv4', 'range', 'rangeCity', 'rangeCityA', 'rangeHwy',\n",
       "       'rangeHwyA', 'UCity', 'UCityA', 'UHighway', 'UHighwayA', 'year',\n",
       "       'youSaveSpend', 'charge240b', 'phevCity', 'phevHwy', 'phevComb'],\n",
       "      dtype='object')"
      ]
     },
     "execution_count": 7,
     "metadata": {},
     "output_type": "execute_result"
    }
   ],
   "source": [
    "df_num.columns"
   ]
  },
  {
   "cell_type": "code",
   "execution_count": 8,
   "id": "22ff957c",
   "metadata": {},
   "outputs": [],
   "source": [
    "df_cat=df.select_dtypes(include=['object'])"
   ]
  },
  {
   "cell_type": "markdown",
   "id": "df604642",
   "metadata": {},
   "source": [
    "# Categorical Variable Columns"
   ]
  },
  {
   "cell_type": "code",
   "execution_count": 9,
   "id": "fbae4189",
   "metadata": {},
   "outputs": [
    {
     "data": {
      "text/plain": [
       "Index(['drive', 'eng_dscr', 'fuelType', 'fuelType1', 'make', 'model',\n",
       "       'mpgData', 'trany', 'VClass', 'baseModel', 'guzzler', 'trans_dscr',\n",
       "       'tCharger', 'sCharger', 'atvType', 'fuelType2', 'rangeA', 'evMotor',\n",
       "       'mfrCode', 'c240Dscr', 'c240bDscr', 'createdOn', 'modifiedOn',\n",
       "       'startStop'],\n",
       "      dtype='object')"
      ]
     },
     "execution_count": 9,
     "metadata": {},
     "output_type": "execute_result"
    }
   ],
   "source": [
    "df_cat.columns"
   ]
  },
  {
   "cell_type": "markdown",
   "id": "9237d051",
   "metadata": {},
   "source": [
    "# IMPUTATION-finding the null values"
   ]
  },
  {
   "cell_type": "code",
   "execution_count": 10,
   "id": "72c152ab",
   "metadata": {},
   "outputs": [
    {
     "data": {
      "text/plain": [
       "barrels08            0\n",
       "barrelsA08           0\n",
       "charge120            0\n",
       "charge240            0\n",
       "city08               0\n",
       "city08U              0\n",
       "cityA08              0\n",
       "cityA08U             0\n",
       "cityCD               0\n",
       "cityE                0\n",
       "cityUF               0\n",
       "co2                  0\n",
       "co2A                 0\n",
       "co2TailpipeAGpm      0\n",
       "co2TailpipeGpm       0\n",
       "comb08               0\n",
       "comb08U              0\n",
       "combA08              0\n",
       "combA08U             0\n",
       "combE                0\n",
       "combinedCD           0\n",
       "combinedUF           0\n",
       "cylinders          652\n",
       "displ              650\n",
       "engId                0\n",
       "feScore              0\n",
       "fuelCost08           0\n",
       "fuelCostA08          0\n",
       "ghgScore             0\n",
       "ghgScoreA            0\n",
       "highway08            0\n",
       "highway08U           0\n",
       "highwayA08           0\n",
       "highwayA08U          0\n",
       "highwayCD            0\n",
       "highwayE             0\n",
       "highwayUF            0\n",
       "hlv                  0\n",
       "hpv                  0\n",
       "id                   0\n",
       "lv2                  0\n",
       "lv4                  0\n",
       "pv2                  0\n",
       "pv4                  0\n",
       "range                0\n",
       "rangeCity            0\n",
       "rangeCityA           0\n",
       "rangeHwy             0\n",
       "rangeHwyA            0\n",
       "UCity                0\n",
       "UCityA               0\n",
       "UHighway             0\n",
       "UHighwayA            0\n",
       "year                 0\n",
       "youSaveSpend         0\n",
       "charge240b           0\n",
       "phevCity             0\n",
       "phevHwy              0\n",
       "phevComb             0\n",
       "dtype: int64"
      ]
     },
     "execution_count": 10,
     "metadata": {},
     "output_type": "execute_result"
    }
   ],
   "source": [
    "df_num.isnull().sum()"
   ]
  },
  {
   "cell_type": "markdown",
   "id": "1ab50c3d",
   "metadata": {},
   "source": [
    "# Replacing Null values with Median or Dropping the values if there are more null values in the columns"
   ]
  },
  {
   "cell_type": "code",
   "execution_count": 11,
   "id": "91197c72",
   "metadata": {},
   "outputs": [],
   "source": [
    "df_num_median=df_num['cylinders'].median()\n",
    "df_num['cylinders']=df_num['cylinders'].fillna(df_num_median)"
   ]
  },
  {
   "cell_type": "code",
   "execution_count": 12,
   "id": "93e02a88",
   "metadata": {},
   "outputs": [],
   "source": [
    "df_num_median=df_num['displ'].median()\n",
    "df_num['displ']=df_num['displ'].fillna(df_num_median)"
   ]
  },
  {
   "cell_type": "code",
   "execution_count": 13,
   "id": "dad3eb10",
   "metadata": {},
   "outputs": [
    {
     "data": {
      "text/plain": [
       "barrels08          0\n",
       "barrelsA08         0\n",
       "charge120          0\n",
       "charge240          0\n",
       "city08             0\n",
       "city08U            0\n",
       "cityA08            0\n",
       "cityA08U           0\n",
       "cityCD             0\n",
       "cityE              0\n",
       "cityUF             0\n",
       "co2                0\n",
       "co2A               0\n",
       "co2TailpipeAGpm    0\n",
       "co2TailpipeGpm     0\n",
       "comb08             0\n",
       "comb08U            0\n",
       "combA08            0\n",
       "combA08U           0\n",
       "combE              0\n",
       "combinedCD         0\n",
       "combinedUF         0\n",
       "cylinders          0\n",
       "displ              0\n",
       "engId              0\n",
       "feScore            0\n",
       "fuelCost08         0\n",
       "fuelCostA08        0\n",
       "ghgScore           0\n",
       "ghgScoreA          0\n",
       "highway08          0\n",
       "highway08U         0\n",
       "highwayA08         0\n",
       "highwayA08U        0\n",
       "highwayCD          0\n",
       "highwayE           0\n",
       "highwayUF          0\n",
       "hlv                0\n",
       "hpv                0\n",
       "id                 0\n",
       "lv2                0\n",
       "lv4                0\n",
       "pv2                0\n",
       "pv4                0\n",
       "range              0\n",
       "rangeCity          0\n",
       "rangeCityA         0\n",
       "rangeHwy           0\n",
       "rangeHwyA          0\n",
       "UCity              0\n",
       "UCityA             0\n",
       "UHighway           0\n",
       "UHighwayA          0\n",
       "year               0\n",
       "youSaveSpend       0\n",
       "charge240b         0\n",
       "phevCity           0\n",
       "phevHwy            0\n",
       "phevComb           0\n",
       "dtype: int64"
      ]
     },
     "execution_count": 13,
     "metadata": {},
     "output_type": "execute_result"
    }
   ],
   "source": [
    "df_num.isnull().sum()"
   ]
  },
  {
   "cell_type": "code",
   "execution_count": 14,
   "id": "73b448b9",
   "metadata": {},
   "outputs": [],
   "source": [
    "df_num_corr=df_num.corr()"
   ]
  },
  {
   "cell_type": "markdown",
   "id": "5d49ec29",
   "metadata": {},
   "source": [
    "# Correlationship of \"Fuelcost08\" label"
   ]
  },
  {
   "cell_type": "code",
   "execution_count": 15,
   "id": "f31fd2e8",
   "metadata": {},
   "outputs": [
    {
     "data": {
      "text/plain": [
       "barrels08          0.896425\n",
       "barrelsA08         0.037270\n",
       "charge120               NaN\n",
       "charge240         -0.277031\n",
       "city08            -0.619022\n",
       "city08U           -0.408385\n",
       "cityA08           -0.072389\n",
       "cityA08U          -0.075857\n",
       "cityCD             0.002539\n",
       "cityE             -0.212248\n",
       "cityUF            -0.067456\n",
       "co2                0.009157\n",
       "co2A               0.013409\n",
       "co2TailpipeAGpm    0.057514\n",
       "co2TailpipeGpm     0.902229\n",
       "comb08            -0.660271\n",
       "comb08U           -0.401372\n",
       "combA08           -0.069137\n",
       "combA08U          -0.073657\n",
       "combE             -0.219053\n",
       "combinedCD         0.003630\n",
       "combinedUF        -0.066422\n",
       "cylinders          0.739967\n",
       "displ              0.738853\n",
       "engId             -0.062961\n",
       "feScore           -0.371680\n",
       "fuelCost08         1.000000\n",
       "fuelCostA08        0.056624\n",
       "ghgScore          -0.371119\n",
       "ghgScoreA         -0.021783\n",
       "highway08         -0.699962\n",
       "highway08U        -0.381142\n",
       "highwayA08        -0.063966\n",
       "highwayA08U       -0.070126\n",
       "highwayCD          0.005968\n",
       "highwayE          -0.226422\n",
       "highwayUF         -0.064922\n",
       "hlv               -0.223097\n",
       "hpv               -0.249805\n",
       "id                -0.158173\n",
       "lv2               -0.032154\n",
       "lv4               -0.210728\n",
       "pv2               -0.008442\n",
       "pv4               -0.230605\n",
       "range             -0.271325\n",
       "rangeCity         -0.196450\n",
       "rangeCityA        -0.062397\n",
       "rangeHwy          -0.193954\n",
       "rangeHwyA         -0.060370\n",
       "UCity             -0.604782\n",
       "UCityA            -0.075473\n",
       "UHighway          -0.713573\n",
       "UHighwayA         -0.027682\n",
       "year              -0.145039\n",
       "youSaveSpend      -0.998086\n",
       "charge240b        -0.123287\n",
       "phevCity          -0.080933\n",
       "phevHwy           -0.076720\n",
       "phevComb          -0.079398\n",
       "Name: fuelCost08, dtype: float64"
      ]
     },
     "execution_count": 15,
     "metadata": {},
     "output_type": "execute_result"
    }
   ],
   "source": [
    "df_num_corr['fuelCost08']"
   ]
  },
  {
   "cell_type": "code",
   "execution_count": 16,
   "id": "60450409",
   "metadata": {},
   "outputs": [],
   "source": [
    "fuel_economy=[]\n",
    "fuel_economy.extend(df_num_corr[(df_num_corr['fuelCost08']>0.3)].index.values)\n",
    "fuel_economy.extend(df_num_corr[(df_num_corr['fuelCost08']<-0.3)].index.values)"
   ]
  },
  {
   "cell_type": "markdown",
   "id": "905845f3",
   "metadata": {},
   "source": [
    "# Removing outliers rows of label value"
   ]
  },
  {
   "cell_type": "code",
   "execution_count": 17,
   "id": "a3916221",
   "metadata": {},
   "outputs": [
    {
     "data": {
      "text/plain": [
       "['barrels08',\n",
       " 'co2TailpipeGpm',\n",
       " 'cylinders',\n",
       " 'displ',\n",
       " 'fuelCost08',\n",
       " 'city08',\n",
       " 'city08U',\n",
       " 'comb08',\n",
       " 'comb08U',\n",
       " 'feScore',\n",
       " 'ghgScore',\n",
       " 'highway08',\n",
       " 'highway08U',\n",
       " 'UCity',\n",
       " 'UHighway',\n",
       " 'youSaveSpend']"
      ]
     },
     "execution_count": 17,
     "metadata": {},
     "output_type": "execute_result"
    }
   ],
   "source": [
    "fuel_economy"
   ]
  },
  {
   "cell_type": "code",
   "execution_count": 18,
   "id": "dc2ff002",
   "metadata": {},
   "outputs": [],
   "source": [
    "df_num_fil=df_num[fuel_economy]"
   ]
  },
  {
   "cell_type": "code",
   "execution_count": 19,
   "id": "18b59607",
   "metadata": {},
   "outputs": [
    {
     "data": {
      "text/html": [
       "<div>\n",
       "<style scoped>\n",
       "    .dataframe tbody tr th:only-of-type {\n",
       "        vertical-align: middle;\n",
       "    }\n",
       "\n",
       "    .dataframe tbody tr th {\n",
       "        vertical-align: top;\n",
       "    }\n",
       "\n",
       "    .dataframe thead th {\n",
       "        text-align: right;\n",
       "    }\n",
       "</style>\n",
       "<table border=\"1\" class=\"dataframe\">\n",
       "  <thead>\n",
       "    <tr style=\"text-align: right;\">\n",
       "      <th></th>\n",
       "      <th>barrels08</th>\n",
       "      <th>co2TailpipeGpm</th>\n",
       "      <th>cylinders</th>\n",
       "      <th>displ</th>\n",
       "      <th>fuelCost08</th>\n",
       "      <th>city08</th>\n",
       "      <th>city08U</th>\n",
       "      <th>comb08</th>\n",
       "      <th>comb08U</th>\n",
       "      <th>feScore</th>\n",
       "      <th>ghgScore</th>\n",
       "      <th>highway08</th>\n",
       "      <th>highway08U</th>\n",
       "      <th>UCity</th>\n",
       "      <th>UHighway</th>\n",
       "      <th>youSaveSpend</th>\n",
       "    </tr>\n",
       "  </thead>\n",
       "  <tbody>\n",
       "    <tr>\n",
       "      <th>0</th>\n",
       "      <td>14.167143</td>\n",
       "      <td>423.190476</td>\n",
       "      <td>4.0</td>\n",
       "      <td>2.0</td>\n",
       "      <td>2500</td>\n",
       "      <td>19</td>\n",
       "      <td>0.0</td>\n",
       "      <td>21</td>\n",
       "      <td>0.0</td>\n",
       "      <td>-1</td>\n",
       "      <td>-1</td>\n",
       "      <td>25</td>\n",
       "      <td>0.0</td>\n",
       "      <td>23.3333</td>\n",
       "      <td>35.0000</td>\n",
       "      <td>-3250</td>\n",
       "    </tr>\n",
       "    <tr>\n",
       "      <th>1</th>\n",
       "      <td>27.046364</td>\n",
       "      <td>807.909091</td>\n",
       "      <td>12.0</td>\n",
       "      <td>4.9</td>\n",
       "      <td>4750</td>\n",
       "      <td>9</td>\n",
       "      <td>0.0</td>\n",
       "      <td>11</td>\n",
       "      <td>0.0</td>\n",
       "      <td>-1</td>\n",
       "      <td>-1</td>\n",
       "      <td>14</td>\n",
       "      <td>0.0</td>\n",
       "      <td>11.0000</td>\n",
       "      <td>19.0000</td>\n",
       "      <td>-14500</td>\n",
       "    </tr>\n",
       "    <tr>\n",
       "      <th>2</th>\n",
       "      <td>11.018889</td>\n",
       "      <td>329.148148</td>\n",
       "      <td>4.0</td>\n",
       "      <td>2.2</td>\n",
       "      <td>1950</td>\n",
       "      <td>23</td>\n",
       "      <td>0.0</td>\n",
       "      <td>27</td>\n",
       "      <td>0.0</td>\n",
       "      <td>-1</td>\n",
       "      <td>-1</td>\n",
       "      <td>33</td>\n",
       "      <td>0.0</td>\n",
       "      <td>29.0000</td>\n",
       "      <td>47.0000</td>\n",
       "      <td>-500</td>\n",
       "    </tr>\n",
       "    <tr>\n",
       "      <th>3</th>\n",
       "      <td>27.046364</td>\n",
       "      <td>807.909091</td>\n",
       "      <td>8.0</td>\n",
       "      <td>5.2</td>\n",
       "      <td>4750</td>\n",
       "      <td>10</td>\n",
       "      <td>0.0</td>\n",
       "      <td>11</td>\n",
       "      <td>0.0</td>\n",
       "      <td>-1</td>\n",
       "      <td>-1</td>\n",
       "      <td>12</td>\n",
       "      <td>0.0</td>\n",
       "      <td>12.2222</td>\n",
       "      <td>16.6667</td>\n",
       "      <td>-14500</td>\n",
       "    </tr>\n",
       "    <tr>\n",
       "      <th>4</th>\n",
       "      <td>15.658421</td>\n",
       "      <td>467.736842</td>\n",
       "      <td>4.0</td>\n",
       "      <td>2.2</td>\n",
       "      <td>3450</td>\n",
       "      <td>17</td>\n",
       "      <td>0.0</td>\n",
       "      <td>19</td>\n",
       "      <td>0.0</td>\n",
       "      <td>-1</td>\n",
       "      <td>-1</td>\n",
       "      <td>23</td>\n",
       "      <td>0.0</td>\n",
       "      <td>21.0000</td>\n",
       "      <td>32.0000</td>\n",
       "      <td>-8000</td>\n",
       "    </tr>\n",
       "    <tr>\n",
       "      <th>...</th>\n",
       "      <td>...</td>\n",
       "      <td>...</td>\n",
       "      <td>...</td>\n",
       "      <td>...</td>\n",
       "      <td>...</td>\n",
       "      <td>...</td>\n",
       "      <td>...</td>\n",
       "      <td>...</td>\n",
       "      <td>...</td>\n",
       "      <td>...</td>\n",
       "      <td>...</td>\n",
       "      <td>...</td>\n",
       "      <td>...</td>\n",
       "      <td>...</td>\n",
       "      <td>...</td>\n",
       "      <td>...</td>\n",
       "    </tr>\n",
       "    <tr>\n",
       "      <th>47070</th>\n",
       "      <td>13.523182</td>\n",
       "      <td>403.954545</td>\n",
       "      <td>4.0</td>\n",
       "      <td>2.2</td>\n",
       "      <td>2350</td>\n",
       "      <td>19</td>\n",
       "      <td>0.0</td>\n",
       "      <td>22</td>\n",
       "      <td>0.0</td>\n",
       "      <td>-1</td>\n",
       "      <td>-1</td>\n",
       "      <td>26</td>\n",
       "      <td>0.0</td>\n",
       "      <td>24.0000</td>\n",
       "      <td>37.0000</td>\n",
       "      <td>-2500</td>\n",
       "    </tr>\n",
       "    <tr>\n",
       "      <th>47071</th>\n",
       "      <td>12.935217</td>\n",
       "      <td>386.391304</td>\n",
       "      <td>4.0</td>\n",
       "      <td>2.2</td>\n",
       "      <td>2250</td>\n",
       "      <td>20</td>\n",
       "      <td>0.0</td>\n",
       "      <td>23</td>\n",
       "      <td>0.0</td>\n",
       "      <td>-1</td>\n",
       "      <td>-1</td>\n",
       "      <td>28</td>\n",
       "      <td>0.0</td>\n",
       "      <td>25.0000</td>\n",
       "      <td>39.0000</td>\n",
       "      <td>-2000</td>\n",
       "    </tr>\n",
       "    <tr>\n",
       "      <th>47072</th>\n",
       "      <td>14.167143</td>\n",
       "      <td>423.190476</td>\n",
       "      <td>4.0</td>\n",
       "      <td>2.2</td>\n",
       "      <td>2500</td>\n",
       "      <td>18</td>\n",
       "      <td>0.0</td>\n",
       "      <td>21</td>\n",
       "      <td>0.0</td>\n",
       "      <td>-1</td>\n",
       "      <td>-1</td>\n",
       "      <td>24</td>\n",
       "      <td>0.0</td>\n",
       "      <td>23.0000</td>\n",
       "      <td>34.0000</td>\n",
       "      <td>-3250</td>\n",
       "    </tr>\n",
       "    <tr>\n",
       "      <th>47073</th>\n",
       "      <td>14.167143</td>\n",
       "      <td>423.190476</td>\n",
       "      <td>4.0</td>\n",
       "      <td>2.2</td>\n",
       "      <td>2500</td>\n",
       "      <td>18</td>\n",
       "      <td>0.0</td>\n",
       "      <td>21</td>\n",
       "      <td>0.0</td>\n",
       "      <td>-1</td>\n",
       "      <td>-1</td>\n",
       "      <td>24</td>\n",
       "      <td>0.0</td>\n",
       "      <td>23.0000</td>\n",
       "      <td>34.0000</td>\n",
       "      <td>-3250</td>\n",
       "    </tr>\n",
       "    <tr>\n",
       "      <th>47074</th>\n",
       "      <td>16.528333</td>\n",
       "      <td>493.722222</td>\n",
       "      <td>4.0</td>\n",
       "      <td>2.2</td>\n",
       "      <td>3650</td>\n",
       "      <td>16</td>\n",
       "      <td>0.0</td>\n",
       "      <td>18</td>\n",
       "      <td>0.0</td>\n",
       "      <td>-1</td>\n",
       "      <td>-1</td>\n",
       "      <td>21</td>\n",
       "      <td>0.0</td>\n",
       "      <td>20.0000</td>\n",
       "      <td>29.0000</td>\n",
       "      <td>-9000</td>\n",
       "    </tr>\n",
       "  </tbody>\n",
       "</table>\n",
       "<p>47075 rows × 16 columns</p>\n",
       "</div>"
      ],
      "text/plain": [
       "       barrels08  co2TailpipeGpm  cylinders  displ  fuelCost08  city08  \\\n",
       "0      14.167143      423.190476        4.0    2.0        2500      19   \n",
       "1      27.046364      807.909091       12.0    4.9        4750       9   \n",
       "2      11.018889      329.148148        4.0    2.2        1950      23   \n",
       "3      27.046364      807.909091        8.0    5.2        4750      10   \n",
       "4      15.658421      467.736842        4.0    2.2        3450      17   \n",
       "...          ...             ...        ...    ...         ...     ...   \n",
       "47070  13.523182      403.954545        4.0    2.2        2350      19   \n",
       "47071  12.935217      386.391304        4.0    2.2        2250      20   \n",
       "47072  14.167143      423.190476        4.0    2.2        2500      18   \n",
       "47073  14.167143      423.190476        4.0    2.2        2500      18   \n",
       "47074  16.528333      493.722222        4.0    2.2        3650      16   \n",
       "\n",
       "       city08U  comb08  comb08U  feScore  ghgScore  highway08  highway08U  \\\n",
       "0          0.0      21      0.0       -1        -1         25         0.0   \n",
       "1          0.0      11      0.0       -1        -1         14         0.0   \n",
       "2          0.0      27      0.0       -1        -1         33         0.0   \n",
       "3          0.0      11      0.0       -1        -1         12         0.0   \n",
       "4          0.0      19      0.0       -1        -1         23         0.0   \n",
       "...        ...     ...      ...      ...       ...        ...         ...   \n",
       "47070      0.0      22      0.0       -1        -1         26         0.0   \n",
       "47071      0.0      23      0.0       -1        -1         28         0.0   \n",
       "47072      0.0      21      0.0       -1        -1         24         0.0   \n",
       "47073      0.0      21      0.0       -1        -1         24         0.0   \n",
       "47074      0.0      18      0.0       -1        -1         21         0.0   \n",
       "\n",
       "         UCity  UHighway  youSaveSpend  \n",
       "0      23.3333   35.0000         -3250  \n",
       "1      11.0000   19.0000        -14500  \n",
       "2      29.0000   47.0000          -500  \n",
       "3      12.2222   16.6667        -14500  \n",
       "4      21.0000   32.0000         -8000  \n",
       "...        ...       ...           ...  \n",
       "47070  24.0000   37.0000         -2500  \n",
       "47071  25.0000   39.0000         -2000  \n",
       "47072  23.0000   34.0000         -3250  \n",
       "47073  23.0000   34.0000         -3250  \n",
       "47074  20.0000   29.0000         -9000  \n",
       "\n",
       "[47075 rows x 16 columns]"
      ]
     },
     "execution_count": 19,
     "metadata": {},
     "output_type": "execute_result"
    }
   ],
   "source": [
    "df_num_fil"
   ]
  },
  {
   "cell_type": "markdown",
   "id": "9ef1e047",
   "metadata": {},
   "source": [
    "# Removing the datapoints which are more than 75% and less than 25%"
   ]
  },
  {
   "cell_type": "code",
   "execution_count": 20,
   "id": "4d952bd0",
   "metadata": {},
   "outputs": [
    {
     "data": {
      "text/plain": [
       "count    47075.000000\n",
       "mean      2919.360595\n",
       "std        856.481562\n",
       "min        550.000000\n",
       "25%       2350.000000\n",
       "50%       2900.000000\n",
       "75%       3450.000000\n",
       "max       9450.000000\n",
       "Name: fuelCost08, dtype: float64"
      ]
     },
     "execution_count": 20,
     "metadata": {},
     "output_type": "execute_result"
    }
   ],
   "source": [
    "df_num_fil['fuelCost08'].describe()"
   ]
  },
  {
   "cell_type": "code",
   "execution_count": 21,
   "id": "f0e69362",
   "metadata": {},
   "outputs": [],
   "source": [
    "df_FC08=df_num_fil[(df_num_fil['fuelCost08']>2350)&(df_num_fil['fuelCost08']<3450)]"
   ]
  },
  {
   "cell_type": "markdown",
   "id": "c3d70a9b",
   "metadata": {},
   "source": [
    "# Plotting Boxplot after Removal"
   ]
  },
  {
   "cell_type": "code",
   "execution_count": 22,
   "id": "320a5026",
   "metadata": {},
   "outputs": [
    {
     "data": {
      "text/plain": [
       "<Axes: ylabel='fuelCost08'>"
      ]
     },
     "execution_count": 22,
     "metadata": {},
     "output_type": "execute_result"
    },
    {
     "data": {
      "image/png": "[encoded data removed]",
      "text/plain": [
       "<Figure size 640x480 with 1 Axes>"
      ]
     },
     "metadata": {},
     "output_type": "display_data"
    }
   ],
   "source": [
    "sns.boxplot(y=df_FC08['fuelCost08'])"
   ]
  },
  {
   "cell_type": "code",
   "execution_count": 23,
   "id": "c16af0a2",
   "metadata": {},
   "outputs": [
    {
     "data": {
      "text/plain": [
       "(20834, 16)"
      ]
     },
     "execution_count": 23,
     "metadata": {},
     "output_type": "execute_result"
    }
   ],
   "source": [
    "df_FC08.shape"
   ]
  },
  {
   "cell_type": "markdown",
   "id": "dd7e9221",
   "metadata": {},
   "source": [
    "# Removing the datapoints which are more than 75% and less than 25%"
   ]
  },
  {
   "cell_type": "code",
   "execution_count": 24,
   "id": "deb80b19",
   "metadata": {},
   "outputs": [
    {
     "data": {
      "text/plain": [
       "count    20834.000000\n",
       "mean        15.123124\n",
       "std          2.033122\n",
       "min          0.081083\n",
       "25%         14.167143\n",
       "50%         14.875500\n",
       "75%         16.528333\n",
       "max         18.594375\n",
       "Name: barrels08, dtype: float64"
      ]
     },
     "execution_count": 24,
     "metadata": {},
     "output_type": "execute_result"
    }
   ],
   "source": [
    "df_FC08['barrels08'].describe()"
   ]
  },
  {
   "cell_type": "markdown",
   "id": "70ea6359",
   "metadata": {},
   "source": [
    "# Removing the datapoints which are more than 75% and less than 25%"
   ]
  },
  {
   "cell_type": "code",
   "execution_count": 25,
   "id": "91edc6ab",
   "metadata": {},
   "outputs": [
    {
     "data": {
      "text/plain": [
       "count    20834.000000\n",
       "mean       451.572637\n",
       "std         59.253437\n",
       "min          0.000000\n",
       "25%        423.190476\n",
       "50%        444.350000\n",
       "75%        493.722222\n",
       "max        573.000000\n",
       "Name: co2TailpipeGpm, dtype: float64"
      ]
     },
     "execution_count": 25,
     "metadata": {},
     "output_type": "execute_result"
    }
   ],
   "source": [
    "df_FC08['co2TailpipeGpm'].describe()"
   ]
  },
  {
   "cell_type": "markdown",
   "id": "75d54631",
   "metadata": {},
   "source": [
    "# Removing the datapoints which are more than 75% and less than 25%"
   ]
  },
  {
   "cell_type": "code",
   "execution_count": 26,
   "id": "2b6e916a",
   "metadata": {},
   "outputs": [
    {
     "data": {
      "text/plain": [
       "count    20834.000000\n",
       "mean         5.526351\n",
       "std          1.234398\n",
       "min          2.000000\n",
       "25%          4.000000\n",
       "50%          6.000000\n",
       "75%          6.000000\n",
       "max          8.000000\n",
       "Name: cylinders, dtype: float64"
      ]
     },
     "execution_count": 26,
     "metadata": {},
     "output_type": "execute_result"
    }
   ],
   "source": [
    "df_FC08['cylinders'].describe()"
   ]
  },
  {
   "cell_type": "markdown",
   "id": "0a908646",
   "metadata": {},
   "source": [
    "# Removing the datapoints which are more than 75% and less than 25%"
   ]
  },
  {
   "cell_type": "code",
   "execution_count": 27,
   "id": "af0f2bc1",
   "metadata": {},
   "outputs": [
    {
     "data": {
      "text/plain": [
       "count    20834.000000\n",
       "mean         3.138826\n",
       "std          0.965087\n",
       "min          1.000000\n",
       "25%          2.400000\n",
       "50%          3.000000\n",
       "75%          3.700000\n",
       "max          6.200000\n",
       "Name: displ, dtype: float64"
      ]
     },
     "execution_count": 27,
     "metadata": {},
     "output_type": "execute_result"
    }
   ],
   "source": [
    "df_FC08['displ'].describe()"
   ]
  },
  {
   "cell_type": "markdown",
   "id": "6bfe41f0",
   "metadata": {},
   "source": [
    "# Removing the datapoints which are more than 75% and less than 25%"
   ]
  },
  {
   "cell_type": "code",
   "execution_count": 28,
   "id": "eb9ee12a",
   "metadata": {},
   "outputs": [
    {
     "data": {
      "text/plain": [
       "count    20834.000000\n",
       "mean        17.673514\n",
       "std          2.372676\n",
       "min         10.000000\n",
       "25%         16.000000\n",
       "50%         17.000000\n",
       "75%         19.000000\n",
       "max         28.000000\n",
       "Name: city08, dtype: float64"
      ]
     },
     "execution_count": 28,
     "metadata": {},
     "output_type": "execute_result"
    }
   ],
   "source": [
    "df_FC08['city08'].describe()"
   ]
  },
  {
   "cell_type": "markdown",
   "id": "3265332e",
   "metadata": {},
   "source": [
    "# Removing the datapoints which are more than 75% and less than 25%"
   ]
  },
  {
   "cell_type": "code",
   "execution_count": 29,
   "id": "45d2e7bc",
   "metadata": {},
   "outputs": [
    {
     "data": {
      "text/plain": [
       "count    20834.000000\n",
       "mean         6.875694\n",
       "std          9.230153\n",
       "min          0.000000\n",
       "25%          0.000000\n",
       "50%          0.000000\n",
       "75%         17.527200\n",
       "max         28.046100\n",
       "Name: city08U, dtype: float64"
      ]
     },
     "execution_count": 29,
     "metadata": {},
     "output_type": "execute_result"
    }
   ],
   "source": [
    "df_FC08['city08U'].describe()"
   ]
  },
  {
   "cell_type": "markdown",
   "id": "bc10d68d",
   "metadata": {},
   "source": [
    "# Removing the datapoints which are more than 75% and less than 25%"
   ]
  },
  {
   "cell_type": "code",
   "execution_count": 30,
   "id": "348a49c8",
   "metadata": {},
   "outputs": [
    {
     "data": {
      "text/plain": [
       "count    20834.000000\n",
       "mean        20.015216\n",
       "std          2.638513\n",
       "min         13.000000\n",
       "25%         18.000000\n",
       "50%         20.000000\n",
       "75%         21.000000\n",
       "max         28.000000\n",
       "Name: comb08, dtype: float64"
      ]
     },
     "execution_count": 30,
     "metadata": {},
     "output_type": "execute_result"
    }
   ],
   "source": [
    "df_FC08['comb08'].describe()"
   ]
  },
  {
   "cell_type": "markdown",
   "id": "0fcd09c8",
   "metadata": {},
   "source": [
    "# Removing the datapoints which are more than 75% and less than 25%"
   ]
  },
  {
   "cell_type": "code",
   "execution_count": 31,
   "id": "9b9f5a8e",
   "metadata": {},
   "outputs": [
    {
     "data": {
      "text/plain": [
       "count    20834.000000\n",
       "mean         7.808366\n",
       "std         10.474486\n",
       "min          0.000000\n",
       "25%          0.000000\n",
       "50%          0.000000\n",
       "75%         20.054300\n",
       "max         28.227100\n",
       "Name: comb08U, dtype: float64"
      ]
     },
     "execution_count": 31,
     "metadata": {},
     "output_type": "execute_result"
    }
   ],
   "source": [
    "df_FC08['comb08U'].describe()"
   ]
  },
  {
   "cell_type": "code",
   "execution_count": 32,
   "id": "37251648",
   "metadata": {},
   "outputs": [],
   "source": [
    "df_COM=df_FC08[(df_FC08['comb08U']>0)&(df_FC08['comb08U']<20.05)]"
   ]
  },
  {
   "cell_type": "markdown",
   "id": "0a42e5a6",
   "metadata": {},
   "source": [
    "# Plotting Boxplot after Removal"
   ]
  },
  {
   "cell_type": "code",
   "execution_count": 33,
   "id": "93017bb5",
   "metadata": {},
   "outputs": [
    {
     "data": {
      "text/plain": [
       "<Axes: ylabel='comb08U'>"
      ]
     },
     "execution_count": 33,
     "metadata": {},
     "output_type": "execute_result"
    },
    {
     "data": {
      "image/png": "[encoded data removed]",
      "text/plain": [
       "<Figure size 640x480 with 1 Axes>"
      ]
     },
     "metadata": {},
     "output_type": "display_data"
    }
   ],
   "source": [
    "sns.boxplot(y=df_COM['comb08U'])"
   ]
  },
  {
   "cell_type": "code",
   "execution_count": 34,
   "id": "ddef922d",
   "metadata": {},
   "outputs": [
    {
     "data": {
      "text/plain": [
       "(2352, 16)"
      ]
     },
     "execution_count": 34,
     "metadata": {},
     "output_type": "execute_result"
    }
   ],
   "source": [
    "df_COM.shape"
   ]
  },
  {
   "cell_type": "markdown",
   "id": "c9b9b58b",
   "metadata": {},
   "source": [
    "# Removing the datapoints which are more than 75% and less than 25%"
   ]
  },
  {
   "cell_type": "code",
   "execution_count": 35,
   "id": "11f48f76",
   "metadata": {},
   "outputs": [
    {
     "data": {
      "text/plain": [
       "count    2352.000000\n",
       "mean        2.753401\n",
       "std         1.884249\n",
       "min        -1.000000\n",
       "25%         3.000000\n",
       "50%         3.000000\n",
       "75%         4.000000\n",
       "max         6.000000\n",
       "Name: feScore, dtype: float64"
      ]
     },
     "execution_count": 35,
     "metadata": {},
     "output_type": "execute_result"
    }
   ],
   "source": [
    "df_COM['feScore'].describe()"
   ]
  },
  {
   "cell_type": "markdown",
   "id": "fb6479a9",
   "metadata": {},
   "source": [
    "# Removing the datapoints which are more than 75% and less than 25%"
   ]
  },
  {
   "cell_type": "code",
   "execution_count": 36,
   "id": "6664a3aa",
   "metadata": {},
   "outputs": [
    {
     "data": {
      "text/plain": [
       "count    2352.000000\n",
       "mean        2.755102\n",
       "std         1.884922\n",
       "min        -1.000000\n",
       "25%         3.000000\n",
       "50%         3.000000\n",
       "75%         4.000000\n",
       "max         7.000000\n",
       "Name: ghgScore, dtype: float64"
      ]
     },
     "execution_count": 36,
     "metadata": {},
     "output_type": "execute_result"
    }
   ],
   "source": [
    "df_COM['ghgScore'].describe()"
   ]
  },
  {
   "cell_type": "markdown",
   "id": "4f46db24",
   "metadata": {},
   "source": [
    "# Removing the datapoints which are more than 75% and less than 25%"
   ]
  },
  {
   "cell_type": "code",
   "execution_count": 37,
   "id": "90af9706",
   "metadata": {},
   "outputs": [
    {
     "data": {
      "text/plain": [
       "count    2352.000000\n",
       "mean       22.101616\n",
       "std         2.101296\n",
       "min        16.000000\n",
       "25%        21.000000\n",
       "50%        22.000000\n",
       "75%        24.000000\n",
       "max        27.000000\n",
       "Name: highway08, dtype: float64"
      ]
     },
     "execution_count": 37,
     "metadata": {},
     "output_type": "execute_result"
    }
   ],
   "source": [
    "df_COM['highway08'].describe()"
   ]
  },
  {
   "cell_type": "code",
   "execution_count": 38,
   "id": "e49c1144",
   "metadata": {},
   "outputs": [
    {
     "data": {
      "text/plain": [
       "(2352, 16)"
      ]
     },
     "execution_count": 38,
     "metadata": {},
     "output_type": "execute_result"
    }
   ],
   "source": [
    "df_COM.shape"
   ]
  },
  {
   "cell_type": "markdown",
   "id": "ed4f09ff",
   "metadata": {},
   "source": [
    "# Standard Scaler"
   ]
  },
  {
   "cell_type": "code",
   "execution_count": 39,
   "id": "f0acde19",
   "metadata": {},
   "outputs": [],
   "source": [
    "from sklearn.preprocessing import StandardScaler"
   ]
  },
  {
   "cell_type": "code",
   "execution_count": 40,
   "id": "476a23a6",
   "metadata": {},
   "outputs": [],
   "source": [
    "sc=StandardScaler()"
   ]
  },
  {
   "cell_type": "code",
   "execution_count": 41,
   "id": "431de019",
   "metadata": {},
   "outputs": [],
   "source": [
    "sco=sc.fit(df_COM)"
   ]
  },
  {
   "cell_type": "code",
   "execution_count": 42,
   "id": "35db8cde",
   "metadata": {},
   "outputs": [],
   "source": [
    "standard_num_scaled=sco.fit_transform(df_COM)"
   ]
  },
  {
   "cell_type": "code",
   "execution_count": 43,
   "id": "d920a049",
   "metadata": {},
   "outputs": [
    {
     "data": {
      "text/plain": [
       "<Axes: >"
      ]
     },
     "execution_count": 43,
     "metadata": {},
     "output_type": "execute_result"
    },
    {
     "data": {
      "image/png": "[encoded data removed]",
      "text/plain": [
       "<Figure size 640x480 with 1 Axes>"
      ]
     },
     "metadata": {},
     "output_type": "display_data"
    }
   ],
   "source": [
    "sns.boxplot(standard_num_scaled)"
   ]
  },
  {
   "cell_type": "code",
   "execution_count": 44,
   "id": "c96b9420",
   "metadata": {},
   "outputs": [],
   "source": [
    "from sklearn.preprocessing import MinMaxScaler"
   ]
  },
  {
   "cell_type": "code",
   "execution_count": 45,
   "id": "ca4179e0",
   "metadata": {},
   "outputs": [],
   "source": [
    "mms=MinMaxScaler()"
   ]
  },
  {
   "cell_type": "code",
   "execution_count": 46,
   "id": "74e1a00d",
   "metadata": {},
   "outputs": [],
   "source": [
    "min_num_scaled=mms.fit_transform(df_COM)"
   ]
  },
  {
   "cell_type": "code",
   "execution_count": 47,
   "id": "1dcccaa3",
   "metadata": {},
   "outputs": [
    {
     "data": {
      "text/plain": [
       "<Axes: >"
      ]
     },
     "execution_count": 47,
     "metadata": {},
     "output_type": "execute_result"
    },
    {
     "data": {
      "image/png": "[encoded data removed]",
      "text/plain": [
       "<Figure size 640x480 with 1 Axes>"
      ]
     },
     "metadata": {},
     "output_type": "display_data"
    }
   ],
   "source": [
    "sns.boxplot(min_num_scaled)"
   ]
  },
  {
   "cell_type": "code",
   "execution_count": null,
   "id": "bf294459",
   "metadata": {},
   "outputs": [],
   "source": []
  },
  {
   "cell_type": "markdown",
   "id": "06887dd0",
   "metadata": {},
   "source": [
    "# Categorical Variable Columns"
   ]
  },
  {
   "cell_type": "code",
   "execution_count": 48,
   "id": "a40b5552",
   "metadata": {},
   "outputs": [
    {
     "data": {
      "text/plain": [
       "Index(['drive', 'eng_dscr', 'fuelType', 'fuelType1', 'make', 'model',\n",
       "       'mpgData', 'trany', 'VClass', 'baseModel', 'guzzler', 'trans_dscr',\n",
       "       'tCharger', 'sCharger', 'atvType', 'fuelType2', 'rangeA', 'evMotor',\n",
       "       'mfrCode', 'c240Dscr', 'c240bDscr', 'createdOn', 'modifiedOn',\n",
       "       'startStop'],\n",
       "      dtype='object')"
      ]
     },
     "execution_count": 48,
     "metadata": {},
     "output_type": "execute_result"
    }
   ],
   "source": [
    "df_cat.columns"
   ]
  },
  {
   "cell_type": "markdown",
   "id": "913d8aff",
   "metadata": {},
   "source": [
    "# Finding Null values in Categorical variables"
   ]
  },
  {
   "cell_type": "code",
   "execution_count": 49,
   "id": "30dfb5ee",
   "metadata": {},
   "outputs": [
    {
     "data": {
      "text/plain": [
       "drive          1186\n",
       "eng_dscr      17306\n",
       "fuelType          0\n",
       "fuelType1         0\n",
       "make              0\n",
       "model             0\n",
       "mpgData         236\n",
       "trany            11\n",
       "VClass            0\n",
       "baseModel         0\n",
       "guzzler       44322\n",
       "trans_dscr    32031\n",
       "tCharger      36954\n",
       "sCharger      46072\n",
       "atvType       41979\n",
       "fuelType2     45184\n",
       "rangeA        45189\n",
       "evMotor       44858\n",
       "mfrCode       30808\n",
       "c240Dscr      46934\n",
       "c240bDscr     46940\n",
       "createdOn         0\n",
       "modifiedOn        0\n",
       "startStop     31689\n",
       "dtype: int64"
      ]
     },
     "execution_count": 49,
     "metadata": {},
     "output_type": "execute_result"
    }
   ],
   "source": [
    "df_cat.isnull().sum()"
   ]
  },
  {
   "cell_type": "markdown",
   "id": "57f2a17f",
   "metadata": {},
   "source": [
    "# Replacing Null values with Mode or Dropping the values if there are more null values in the columns"
   ]
  },
  {
   "cell_type": "code",
   "execution_count": 50,
   "id": "5ce11f16",
   "metadata": {},
   "outputs": [],
   "source": [
    "df_cat.drop(['eng_dscr'],axis=1,inplace=True)"
   ]
  },
  {
   "cell_type": "code",
   "execution_count": 51,
   "id": "bd19d266",
   "metadata": {},
   "outputs": [],
   "source": [
    "df_cat.drop(['guzzler'],axis=1,inplace=True)"
   ]
  },
  {
   "cell_type": "code",
   "execution_count": 52,
   "id": "89aecf27",
   "metadata": {},
   "outputs": [],
   "source": [
    "df_cat.drop(['trans_dscr'],axis=1,inplace=True)"
   ]
  },
  {
   "cell_type": "code",
   "execution_count": 53,
   "id": "b5c3d2c0",
   "metadata": {},
   "outputs": [],
   "source": [
    "df_cat.drop(['tCharger'],axis=1,inplace=True)"
   ]
  },
  {
   "cell_type": "code",
   "execution_count": 54,
   "id": "84aabf60",
   "metadata": {},
   "outputs": [],
   "source": [
    "df_cat.drop(['sCharger'],axis=1,inplace=True)"
   ]
  },
  {
   "cell_type": "code",
   "execution_count": 55,
   "id": "652dfbf3",
   "metadata": {},
   "outputs": [],
   "source": [
    "df_cat.drop(['atvType'],axis=1,inplace=True)"
   ]
  },
  {
   "cell_type": "code",
   "execution_count": 56,
   "id": "494db8bd",
   "metadata": {},
   "outputs": [],
   "source": [
    "df_cat.drop(['fuelType2'],axis=1,inplace=True)"
   ]
  },
  {
   "cell_type": "code",
   "execution_count": 57,
   "id": "9b8dc5ec",
   "metadata": {},
   "outputs": [],
   "source": [
    "df_cat.drop(['rangeA'],axis=1,inplace=True)"
   ]
  },
  {
   "cell_type": "code",
   "execution_count": 58,
   "id": "4610be01",
   "metadata": {},
   "outputs": [],
   "source": [
    "df_cat.drop(['evMotor'],axis=1,inplace=True)"
   ]
  },
  {
   "cell_type": "code",
   "execution_count": 59,
   "id": "6b9acd5e",
   "metadata": {},
   "outputs": [],
   "source": [
    "df_cat.drop(['mfrCode'],axis=1,inplace=True)"
   ]
  },
  {
   "cell_type": "code",
   "execution_count": 60,
   "id": "954188c8",
   "metadata": {},
   "outputs": [],
   "source": [
    "df_cat.drop(['c240Dscr'],axis=1,inplace=True)"
   ]
  },
  {
   "cell_type": "code",
   "execution_count": 61,
   "id": "94863ae0",
   "metadata": {},
   "outputs": [],
   "source": [
    "df_cat.drop(['c240bDscr'],axis=1,inplace=True)"
   ]
  },
  {
   "cell_type": "code",
   "execution_count": 62,
   "id": "d75ec1e6",
   "metadata": {},
   "outputs": [],
   "source": [
    "df_cat.drop(['startStop'],axis=1,inplace=True)"
   ]
  },
  {
   "cell_type": "code",
   "execution_count": 63,
   "id": "58aed143",
   "metadata": {},
   "outputs": [],
   "source": [
    "df_cat['drive'].fillna(df_cat['drive'].value_counts().idxmax(),inplace=True)"
   ]
  },
  {
   "cell_type": "code",
   "execution_count": 64,
   "id": "a7673816",
   "metadata": {},
   "outputs": [],
   "source": [
    "df_cat['mpgData'].fillna(df_cat['mpgData'].value_counts().idxmax,inplace=True)"
   ]
  },
  {
   "cell_type": "code",
   "execution_count": 65,
   "id": "9652544b",
   "metadata": {},
   "outputs": [],
   "source": [
    "df_cat['trany'].fillna(df_cat['trany'].value_counts().idxmax,inplace=True)"
   ]
  },
  {
   "cell_type": "code",
   "execution_count": 66,
   "id": "619ad6d4",
   "metadata": {},
   "outputs": [
    {
     "data": {
      "text/plain": [
       "drive         0\n",
       "fuelType      0\n",
       "fuelType1     0\n",
       "make          0\n",
       "model         0\n",
       "mpgData       0\n",
       "trany         0\n",
       "VClass        0\n",
       "baseModel     0\n",
       "createdOn     0\n",
       "modifiedOn    0\n",
       "dtype: int64"
      ]
     },
     "execution_count": 66,
     "metadata": {},
     "output_type": "execute_result"
    }
   ],
   "source": [
    "df_cat.isnull().sum()"
   ]
  },
  {
   "cell_type": "markdown",
   "id": "57e28a52",
   "metadata": {},
   "source": [
    "# Checking Unique Values"
   ]
  },
  {
   "cell_type": "code",
   "execution_count": 67,
   "id": "720c9cfe",
   "metadata": {},
   "outputs": [
    {
     "data": {
      "text/plain": [
       "drive            7\n",
       "fuelType        14\n",
       "fuelType1        6\n",
       "make           144\n",
       "model         4941\n",
       "mpgData          3\n",
       "trany           41\n",
       "VClass          34\n",
       "baseModel     1442\n",
       "createdOn      449\n",
       "modifiedOn     289\n",
       "dtype: int64"
      ]
     },
     "execution_count": 67,
     "metadata": {},
     "output_type": "execute_result"
    }
   ],
   "source": [
    "df_cat[['drive', 'fuelType', 'fuelType1', 'make', 'model', 'mpgData', 'trany',\n",
    "       'VClass', 'baseModel', 'createdOn', 'modifiedOn']].nunique()"
   ]
  },
  {
   "cell_type": "code",
   "execution_count": 68,
   "id": "609fe4a7",
   "metadata": {},
   "outputs": [
    {
     "data": {
      "text/plain": [
       "Index(['drive', 'fuelType', 'fuelType1', 'make', 'model', 'mpgData', 'trany',\n",
       "       'VClass', 'baseModel', 'createdOn', 'modifiedOn'],\n",
       "      dtype='object')"
      ]
     },
     "execution_count": 68,
     "metadata": {},
     "output_type": "execute_result"
    }
   ],
   "source": [
    "df_cat.columns"
   ]
  },
  {
   "cell_type": "markdown",
   "id": "f649ffcf",
   "metadata": {},
   "source": [
    "# Label Encoding"
   ]
  },
  {
   "cell_type": "code",
   "execution_count": 69,
   "id": "741ee579",
   "metadata": {},
   "outputs": [],
   "source": [
    "from sklearn.preprocessing import LabelEncoder"
   ]
  },
  {
   "cell_type": "code",
   "execution_count": 70,
   "id": "227d7155",
   "metadata": {},
   "outputs": [],
   "source": [
    "le=LabelEncoder()"
   ]
  },
  {
   "cell_type": "code",
   "execution_count": 71,
   "id": "c320a002",
   "metadata": {},
   "outputs": [],
   "source": [
    "df_cat=df_cat[['drive', 'fuelType', 'fuelType1', 'make', 'model','baseModel','VClass','createdOn','modifiedOn']]"
   ]
  },
  {
   "cell_type": "code",
   "execution_count": 72,
   "id": "5597009d",
   "metadata": {},
   "outputs": [],
   "source": [
    "df_cat=df_cat.apply(le.fit_transform)"
   ]
  },
  {
   "cell_type": "code",
   "execution_count": 73,
   "id": "35fa42aa",
   "metadata": {},
   "outputs": [
    {
     "data": {
      "text/plain": [
       "(47075, 9)"
      ]
     },
     "execution_count": 73,
     "metadata": {},
     "output_type": "execute_result"
    }
   ],
   "source": [
    "df_cat.shape"
   ]
  },
  {
   "cell_type": "code",
   "execution_count": 74,
   "id": "a81cc64d",
   "metadata": {},
   "outputs": [
    {
     "data": {
      "text/plain": [
       "(2352, 16)"
      ]
     },
     "execution_count": 74,
     "metadata": {},
     "output_type": "execute_result"
    }
   ],
   "source": [
    "df_COM.shape"
   ]
  },
  {
   "cell_type": "code",
   "execution_count": 75,
   "id": "e33f05df",
   "metadata": {},
   "outputs": [],
   "source": [
    "df_cat=df_cat.loc[df_COM.index.values,:]"
   ]
  },
  {
   "cell_type": "code",
   "execution_count": 76,
   "id": "b6ce5b8a",
   "metadata": {},
   "outputs": [
    {
     "data": {
      "text/plain": [
       "(2352, 9)"
      ]
     },
     "execution_count": 76,
     "metadata": {},
     "output_type": "execute_result"
    }
   ],
   "source": [
    "df_cat.shape"
   ]
  },
  {
   "cell_type": "code",
   "execution_count": 77,
   "id": "5ca409f9",
   "metadata": {},
   "outputs": [],
   "source": [
    "d1=pd.DataFrame(standard_num_scaled,columns=df_num_fil.columns)"
   ]
  },
  {
   "cell_type": "code",
   "execution_count": 78,
   "id": "3e317dd8",
   "metadata": {},
   "outputs": [],
   "source": [
    "d1.reset_index(inplace=True)"
   ]
  },
  {
   "cell_type": "code",
   "execution_count": 79,
   "id": "3c24601e",
   "metadata": {},
   "outputs": [],
   "source": [
    "df_cat.reset_index(inplace=True)"
   ]
  },
  {
   "cell_type": "code",
   "execution_count": 80,
   "id": "3943e926",
   "metadata": {},
   "outputs": [],
   "source": [
    "df_Final=pd.concat([d1,df_cat],axis=1)"
   ]
  },
  {
   "cell_type": "markdown",
   "id": "83deb246",
   "metadata": {},
   "source": [
    "# Final Dataset"
   ]
  },
  {
   "cell_type": "code",
   "execution_count": 81,
   "id": "d3b68ba8",
   "metadata": {},
   "outputs": [
    {
     "data": {
      "text/html": [
       "<div>\n",
       "<style scoped>\n",
       "    .dataframe tbody tr th:only-of-type {\n",
       "        vertical-align: middle;\n",
       "    }\n",
       "\n",
       "    .dataframe tbody tr th {\n",
       "        vertical-align: top;\n",
       "    }\n",
       "\n",
       "    .dataframe thead th {\n",
       "        text-align: right;\n",
       "    }\n",
       "</style>\n",
       "<table border=\"1\" class=\"dataframe\">\n",
       "  <thead>\n",
       "    <tr style=\"text-align: right;\">\n",
       "      <th></th>\n",
       "      <th>index</th>\n",
       "      <th>barrels08</th>\n",
       "      <th>co2TailpipeGpm</th>\n",
       "      <th>cylinders</th>\n",
       "      <th>displ</th>\n",
       "      <th>fuelCost08</th>\n",
       "      <th>city08</th>\n",
       "      <th>city08U</th>\n",
       "      <th>comb08</th>\n",
       "      <th>comb08U</th>\n",
       "      <th>...</th>\n",
       "      <th>index</th>\n",
       "      <th>drive</th>\n",
       "      <th>fuelType</th>\n",
       "      <th>fuelType1</th>\n",
       "      <th>make</th>\n",
       "      <th>model</th>\n",
       "      <th>baseModel</th>\n",
       "      <th>VClass</th>\n",
       "      <th>createdOn</th>\n",
       "      <th>modifiedOn</th>\n",
       "    </tr>\n",
       "  </thead>\n",
       "  <tbody>\n",
       "    <tr>\n",
       "      <th>0</th>\n",
       "      <td>0</td>\n",
       "      <td>0.215967</td>\n",
       "      <td>0.206996</td>\n",
       "      <td>-0.548492</td>\n",
       "      <td>-1.135140</td>\n",
       "      <td>-0.234392</td>\n",
       "      <td>-0.159667</td>\n",
       "      <td>-0.396597</td>\n",
       "      <td>-0.297592</td>\n",
       "      <td>-0.488768</td>\n",
       "      <td>...</td>\n",
       "      <td>18166</td>\n",
       "      <td>3</td>\n",
       "      <td>11</td>\n",
       "      <td>5</td>\n",
       "      <td>140</td>\n",
       "      <td>4697</td>\n",
       "      <td>1382</td>\n",
       "      <td>21</td>\n",
       "      <td>254</td>\n",
       "      <td>235</td>\n",
       "    </tr>\n",
       "    <tr>\n",
       "      <th>1</th>\n",
       "      <td>1</td>\n",
       "      <td>1.237896</td>\n",
       "      <td>0.633240</td>\n",
       "      <td>-0.548492</td>\n",
       "      <td>-1.135140</td>\n",
       "      <td>1.675388</td>\n",
       "      <td>0.711650</td>\n",
       "      <td>0.731617</td>\n",
       "      <td>1.207648</td>\n",
       "      <td>1.289562</td>\n",
       "      <td>...</td>\n",
       "      <td>18209</td>\n",
       "      <td>3</td>\n",
       "      <td>1</td>\n",
       "      <td>0</td>\n",
       "      <td>6</td>\n",
       "      <td>3335</td>\n",
       "      <td>987</td>\n",
       "      <td>21</td>\n",
       "      <td>254</td>\n",
       "      <td>17</td>\n",
       "    </tr>\n",
       "    <tr>\n",
       "      <th>2</th>\n",
       "      <td>2</td>\n",
       "      <td>1.237896</td>\n",
       "      <td>0.633240</td>\n",
       "      <td>-0.548492</td>\n",
       "      <td>-1.135140</td>\n",
       "      <td>1.675388</td>\n",
       "      <td>0.711650</td>\n",
       "      <td>0.731617</td>\n",
       "      <td>1.207648</td>\n",
       "      <td>1.289562</td>\n",
       "      <td>...</td>\n",
       "      <td>18210</td>\n",
       "      <td>3</td>\n",
       "      <td>1</td>\n",
       "      <td>0</td>\n",
       "      <td>139</td>\n",
       "      <td>4309</td>\n",
       "      <td>1263</td>\n",
       "      <td>21</td>\n",
       "      <td>254</td>\n",
       "      <td>17</td>\n",
       "    </tr>\n",
       "    <tr>\n",
       "      <th>3</th>\n",
       "      <td>3</td>\n",
       "      <td>-1.052667</td>\n",
       "      <td>-1.170470</td>\n",
       "      <td>-0.548492</td>\n",
       "      <td>-1.135140</td>\n",
       "      <td>1.463190</td>\n",
       "      <td>0.711650</td>\n",
       "      <td>0.470255</td>\n",
       "      <td>1.207648</td>\n",
       "      <td>1.234998</td>\n",
       "      <td>...</td>\n",
       "      <td>20419</td>\n",
       "      <td>3</td>\n",
       "      <td>7</td>\n",
       "      <td>4</td>\n",
       "      <td>6</td>\n",
       "      <td>3674</td>\n",
       "      <td>1093</td>\n",
       "      <td>28</td>\n",
       "      <td>254</td>\n",
       "      <td>167</td>\n",
       "    </tr>\n",
       "    <tr>\n",
       "      <th>4</th>\n",
       "      <td>4</td>\n",
       "      <td>-0.451735</td>\n",
       "      <td>-0.517986</td>\n",
       "      <td>-0.548492</td>\n",
       "      <td>-1.135140</td>\n",
       "      <td>-0.870985</td>\n",
       "      <td>-0.159667</td>\n",
       "      <td>-0.226711</td>\n",
       "      <td>0.455028</td>\n",
       "      <td>0.226571</td>\n",
       "      <td>...</td>\n",
       "      <td>20534</td>\n",
       "      <td>3</td>\n",
       "      <td>11</td>\n",
       "      <td>5</td>\n",
       "      <td>140</td>\n",
       "      <td>3728</td>\n",
       "      <td>1099</td>\n",
       "      <td>2</td>\n",
       "      <td>254</td>\n",
       "      <td>167</td>\n",
       "    </tr>\n",
       "    <tr>\n",
       "      <th>...</th>\n",
       "      <td>...</td>\n",
       "      <td>...</td>\n",
       "      <td>...</td>\n",
       "      <td>...</td>\n",
       "      <td>...</td>\n",
       "      <td>...</td>\n",
       "      <td>...</td>\n",
       "      <td>...</td>\n",
       "      <td>...</td>\n",
       "      <td>...</td>\n",
       "      <td>...</td>\n",
       "      <td>...</td>\n",
       "      <td>...</td>\n",
       "      <td>...</td>\n",
       "      <td>...</td>\n",
       "      <td>...</td>\n",
       "      <td>...</td>\n",
       "      <td>...</td>\n",
       "      <td>...</td>\n",
       "      <td>...</td>\n",
       "      <td>...</td>\n",
       "    </tr>\n",
       "    <tr>\n",
       "      <th>2347</th>\n",
       "      <td>2347</td>\n",
       "      <td>1.801758</td>\n",
       "      <td>1.972422</td>\n",
       "      <td>1.235815</td>\n",
       "      <td>1.220218</td>\n",
       "      <td>1.250993</td>\n",
       "      <td>-1.030985</td>\n",
       "      <td>-1.408765</td>\n",
       "      <td>-1.802832</td>\n",
       "      <td>-1.950235</td>\n",
       "      <td>...</td>\n",
       "      <td>41143</td>\n",
       "      <td>1</td>\n",
       "      <td>11</td>\n",
       "      <td>5</td>\n",
       "      <td>42</td>\n",
       "      <td>4832</td>\n",
       "      <td>1410</td>\n",
       "      <td>27</td>\n",
       "      <td>111</td>\n",
       "      <td>76</td>\n",
       "    </tr>\n",
       "    <tr>\n",
       "      <th>2348</th>\n",
       "      <td>2348</td>\n",
       "      <td>0.962221</td>\n",
       "      <td>0.772738</td>\n",
       "      <td>-0.548492</td>\n",
       "      <td>-0.111071</td>\n",
       "      <td>0.402201</td>\n",
       "      <td>-0.159667</td>\n",
       "      <td>-0.250495</td>\n",
       "      <td>-1.050212</td>\n",
       "      <td>-0.953734</td>\n",
       "      <td>...</td>\n",
       "      <td>41153</td>\n",
       "      <td>5</td>\n",
       "      <td>11</td>\n",
       "      <td>5</td>\n",
       "      <td>133</td>\n",
       "      <td>291</td>\n",
       "      <td>71</td>\n",
       "      <td>27</td>\n",
       "      <td>111</td>\n",
       "      <td>76</td>\n",
       "    </tr>\n",
       "    <tr>\n",
       "      <th>2349</th>\n",
       "      <td>2349</td>\n",
       "      <td>0.962221</td>\n",
       "      <td>0.912236</td>\n",
       "      <td>-0.548492</td>\n",
       "      <td>-0.111071</td>\n",
       "      <td>0.402201</td>\n",
       "      <td>-0.159667</td>\n",
       "      <td>-0.311393</td>\n",
       "      <td>-1.050212</td>\n",
       "      <td>-1.062239</td>\n",
       "      <td>...</td>\n",
       "      <td>41154</td>\n",
       "      <td>3</td>\n",
       "      <td>11</td>\n",
       "      <td>5</td>\n",
       "      <td>133</td>\n",
       "      <td>291</td>\n",
       "      <td>71</td>\n",
       "      <td>27</td>\n",
       "      <td>111</td>\n",
       "      <td>76</td>\n",
       "    </tr>\n",
       "    <tr>\n",
       "      <th>2350</th>\n",
       "      <td>2350</td>\n",
       "      <td>1.801758</td>\n",
       "      <td>1.470229</td>\n",
       "      <td>-2.332799</td>\n",
       "      <td>-1.442361</td>\n",
       "      <td>1.250993</td>\n",
       "      <td>-0.159667</td>\n",
       "      <td>0.212900</td>\n",
       "      <td>-1.802832</td>\n",
       "      <td>-1.503431</td>\n",
       "      <td>...</td>\n",
       "      <td>41238</td>\n",
       "      <td>1</td>\n",
       "      <td>11</td>\n",
       "      <td>5</td>\n",
       "      <td>24</td>\n",
       "      <td>1383</td>\n",
       "      <td>375</td>\n",
       "      <td>10</td>\n",
       "      <td>111</td>\n",
       "      <td>76</td>\n",
       "    </tr>\n",
       "    <tr>\n",
       "      <th>2351</th>\n",
       "      <td>2351</td>\n",
       "      <td>1.801758</td>\n",
       "      <td>1.470229</td>\n",
       "      <td>-2.332799</td>\n",
       "      <td>-1.442361</td>\n",
       "      <td>1.250993</td>\n",
       "      <td>-0.159667</td>\n",
       "      <td>0.212900</td>\n",
       "      <td>-1.802832</td>\n",
       "      <td>-1.503431</td>\n",
       "      <td>...</td>\n",
       "      <td>41239</td>\n",
       "      <td>1</td>\n",
       "      <td>11</td>\n",
       "      <td>5</td>\n",
       "      <td>42</td>\n",
       "      <td>1215</td>\n",
       "      <td>316</td>\n",
       "      <td>10</td>\n",
       "      <td>111</td>\n",
       "      <td>76</td>\n",
       "    </tr>\n",
       "  </tbody>\n",
       "</table>\n",
       "<p>2352 rows × 27 columns</p>\n",
       "</div>"
      ],
      "text/plain": [
       "      index  barrels08  co2TailpipeGpm  cylinders     displ  fuelCost08  \\\n",
       "0         0   0.215967        0.206996  -0.548492 -1.135140   -0.234392   \n",
       "1         1   1.237896        0.633240  -0.548492 -1.135140    1.675388   \n",
       "2         2   1.237896        0.633240  -0.548492 -1.135140    1.675388   \n",
       "3         3  -1.052667       -1.170470  -0.548492 -1.135140    1.463190   \n",
       "4         4  -0.451735       -0.517986  -0.548492 -1.135140   -0.870985   \n",
       "...     ...        ...             ...        ...       ...         ...   \n",
       "2347   2347   1.801758        1.972422   1.235815  1.220218    1.250993   \n",
       "2348   2348   0.962221        0.772738  -0.548492 -0.111071    0.402201   \n",
       "2349   2349   0.962221        0.912236  -0.548492 -0.111071    0.402201   \n",
       "2350   2350   1.801758        1.470229  -2.332799 -1.442361    1.250993   \n",
       "2351   2351   1.801758        1.470229  -2.332799 -1.442361    1.250993   \n",
       "\n",
       "        city08   city08U    comb08   comb08U  ...  index  drive  fuelType  \\\n",
       "0    -0.159667 -0.396597 -0.297592 -0.488768  ...  18166      3        11   \n",
       "1     0.711650  0.731617  1.207648  1.289562  ...  18209      3         1   \n",
       "2     0.711650  0.731617  1.207648  1.289562  ...  18210      3         1   \n",
       "3     0.711650  0.470255  1.207648  1.234998  ...  20419      3         7   \n",
       "4    -0.159667 -0.226711  0.455028  0.226571  ...  20534      3        11   \n",
       "...        ...       ...       ...       ...  ...    ...    ...       ...   \n",
       "2347 -1.030985 -1.408765 -1.802832 -1.950235  ...  41143      1        11   \n",
       "2348 -0.159667 -0.250495 -1.050212 -0.953734  ...  41153      5        11   \n",
       "2349 -0.159667 -0.311393 -1.050212 -1.062239  ...  41154      3        11   \n",
       "2350 -0.159667  0.212900 -1.802832 -1.503431  ...  41238      1        11   \n",
       "2351 -0.159667  0.212900 -1.802832 -1.503431  ...  41239      1        11   \n",
       "\n",
       "      fuelType1  make  model  baseModel  VClass  createdOn  modifiedOn  \n",
       "0             5   140   4697       1382      21        254         235  \n",
       "1             0     6   3335        987      21        254          17  \n",
       "2             0   139   4309       1263      21        254          17  \n",
       "3             4     6   3674       1093      28        254         167  \n",
       "4             5   140   3728       1099       2        254         167  \n",
       "...         ...   ...    ...        ...     ...        ...         ...  \n",
       "2347          5    42   4832       1410      27        111          76  \n",
       "2348          5   133    291         71      27        111          76  \n",
       "2349          5   133    291         71      27        111          76  \n",
       "2350          5    24   1383        375      10        111          76  \n",
       "2351          5    42   1215        316      10        111          76  \n",
       "\n",
       "[2352 rows x 27 columns]"
      ]
     },
     "execution_count": 81,
     "metadata": {},
     "output_type": "execute_result"
    }
   ],
   "source": [
    "df_Final"
   ]
  },
  {
   "cell_type": "markdown",
   "id": "17615c04",
   "metadata": {},
   "source": [
    "# Model Training"
   ]
  },
  {
   "cell_type": "code",
   "execution_count": 82,
   "id": "cac79ab2",
   "metadata": {},
   "outputs": [],
   "source": [
    "Y=df_Final['fuelCost08']"
   ]
  },
  {
   "cell_type": "code",
   "execution_count": 83,
   "id": "cd3fd70f",
   "metadata": {},
   "outputs": [],
   "source": [
    "X=df_Final.drop(['fuelCost08'],axis=1)"
   ]
  },
  {
   "cell_type": "markdown",
   "id": "606ad6e1",
   "metadata": {},
   "source": [
    "# Spliting the Data for Training(70%) and Testing(30%)"
   ]
  },
  {
   "cell_type": "code",
   "execution_count": 84,
   "id": "8f17b62c",
   "metadata": {},
   "outputs": [],
   "source": [
    "from sklearn.model_selection import train_test_split\n",
    "X_train,X_test,y_train,y_test=train_test_split(X,Y,test_size=0.3,random_state=50)"
   ]
  },
  {
   "cell_type": "markdown",
   "id": "cb49f98f",
   "metadata": {},
   "source": [
    "# LinearRegression Training Score"
   ]
  },
  {
   "cell_type": "code",
   "execution_count": 85,
   "id": "41b3cba9",
   "metadata": {},
   "outputs": [
    {
     "data": {
      "text/plain": [
       "0.9959679579694888"
      ]
     },
     "execution_count": 85,
     "metadata": {},
     "output_type": "execute_result"
    }
   ],
   "source": [
    "from sklearn.linear_model import LinearRegression\n",
    "linreg=LinearRegression()\n",
    "lm=linreg.fit(X_train,y_train)\n",
    "lm.score(X_train,y_train)"
   ]
  },
  {
   "cell_type": "markdown",
   "id": "ea733b48",
   "metadata": {},
   "source": [
    "# DecisionTreeRegressor Training Score"
   ]
  },
  {
   "cell_type": "code",
   "execution_count": 86,
   "id": "9ce9116a",
   "metadata": {},
   "outputs": [
    {
     "data": {
      "text/plain": [
       "1.0"
      ]
     },
     "execution_count": 86,
     "metadata": {},
     "output_type": "execute_result"
    }
   ],
   "source": [
    "from sklearn.tree import DecisionTreeRegressor\n",
    "dtr=DecisionTreeRegressor(criterion='friedman_mse',max_depth=5)\n",
    "dt1=dtr.fit(X_train,y_train)\n",
    "dt1.score(X_train,y_train)"
   ]
  },
  {
   "cell_type": "markdown",
   "id": "1eb8a7c3",
   "metadata": {},
   "source": [
    "# RandomForestRegressor Training Score"
   ]
  },
  {
   "cell_type": "code",
   "execution_count": 87,
   "id": "998a172b",
   "metadata": {},
   "outputs": [
    {
     "data": {
      "text/plain": [
       "0.9930449335764263"
      ]
     },
     "execution_count": 87,
     "metadata": {},
     "output_type": "execute_result"
    }
   ],
   "source": [
    "from sklearn.ensemble import RandomForestRegressor\n",
    "rf=RandomForestRegressor(n_estimators=50,max_depth=3)\n",
    "rf1=rf.fit(X_train,y_train)\n",
    "rf1.score(X_train,y_train)"
   ]
  },
  {
   "cell_type": "markdown",
   "id": "7d792483",
   "metadata": {},
   "source": [
    "# Model Validation"
   ]
  },
  {
   "cell_type": "code",
   "execution_count": 88,
   "id": "b85fb44c",
   "metadata": {},
   "outputs": [],
   "source": [
    "from sklearn.metrics import accuracy_score,r2_score"
   ]
  },
  {
   "cell_type": "markdown",
   "id": "c75019fb",
   "metadata": {},
   "source": [
    "# LinearRegression Testing Score"
   ]
  },
  {
   "cell_type": "code",
   "execution_count": 89,
   "id": "e8da89a0",
   "metadata": {},
   "outputs": [
    {
     "data": {
      "text/plain": [
       "0.9979834508224307"
      ]
     },
     "execution_count": 89,
     "metadata": {},
     "output_type": "execute_result"
    }
   ],
   "source": [
    "lm_y_pred=lm.predict(X_test)\n",
    "r2_score(y_test,lm_y_pred)"
   ]
  },
  {
   "cell_type": "markdown",
   "id": "5f6f691e",
   "metadata": {},
   "source": [
    "# DecisionTreeRegressor Testing Score"
   ]
  },
  {
   "cell_type": "code",
   "execution_count": 90,
   "id": "d780be78",
   "metadata": {},
   "outputs": [
    {
     "data": {
      "text/plain": [
       "1.0"
      ]
     },
     "execution_count": 90,
     "metadata": {},
     "output_type": "execute_result"
    }
   ],
   "source": [
    "dt_y_pred=dt1.predict(X_test)\n",
    "r2_score(y_test,dt_y_pred)"
   ]
  },
  {
   "cell_type": "markdown",
   "id": "15918c17",
   "metadata": {},
   "source": [
    "# RandomForestRegressor Testing Score"
   ]
  },
  {
   "cell_type": "code",
   "execution_count": 91,
   "id": "528858f5",
   "metadata": {},
   "outputs": [
    {
     "data": {
      "text/plain": [
       "0.9982866652991859"
      ]
     },
     "execution_count": 91,
     "metadata": {},
     "output_type": "execute_result"
    }
   ],
   "source": [
    "rf_y_pred=rf1.predict(X_test)\n",
    "r2_score(y_test,rf_y_pred)"
   ]
  },
  {
   "cell_type": "code",
   "execution_count": null,
   "id": "ef9c9739",
   "metadata": {},
   "outputs": [],
   "source": []
  },
  {
   "cell_type": "code",
   "execution_count": null,
   "id": "c13fc7e5",
   "metadata": {},
   "outputs": [],
   "source": []
  },
  {
   "cell_type": "code",
   "execution_count": null,
   "id": "458d3a05",
   "metadata": {},
   "outputs": [],
   "source": []
  }
 ],
 "metadata": {
  "kernelspec": {
   "display_name": "Python 3 (ipykernel)",
   "language": "python",
   "name": "python3"
  },
  "language_info": {
   "codemirror_mode": {
    "name": "ipython",
    "version": 3
   },
   "file_extension": ".py",
   "mimetype": "text/x-python",
   "name": "python",
   "nbconvert_exporter": "python",
   "pygments_lexer": "ipython3",
   "version": "3.11.5"
  }
 },
 "nbformat": 4,
 "nbformat_minor": 5
}
