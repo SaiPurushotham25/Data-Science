{
 "cells": [
  {
   "cell_type": "code",
   "execution_count": 1,
   "id": "1409ce66",
   "metadata": {},
   "outputs": [],
   "source": [
    "from matplotlib import pyplot as plt\n",
    "from matplotlib import style\n",
    "import seaborn as sns\n",
    "%matplotlib inline\n",
    "import pandas as pd\n",
    "df=pd.read_csv('D:\\\\prompt Engineering\\\\Datasets\\\\FeedGrains.csv')"
   ]
  },
  {
   "cell_type": "markdown",
   "id": "4f526baa",
   "metadata": {},
   "source": [
    "# FeedGrains DataSet"
   ]
  },
  {
   "cell_type": "code",
   "execution_count": 2,
   "id": "3d9f00c5",
   "metadata": {
    "scrolled": true
   },
   "outputs": [
    {
     "data": {
      "text/html": [
       "<div>\n",
       "<style scoped>\n",
       "    .dataframe tbody tr th:only-of-type {\n",
       "        vertical-align: middle;\n",
       "    }\n",
       "\n",
       "    .dataframe tbody tr th {\n",
       "        vertical-align: top;\n",
       "    }\n",
       "\n",
       "    .dataframe thead th {\n",
       "        text-align: right;\n",
       "    }\n",
       "</style>\n",
       "<table border=\"1\" class=\"dataframe\">\n",
       "  <thead>\n",
       "    <tr style=\"text-align: right;\">\n",
       "      <th></th>\n",
       "      <th>SC_Group_ID</th>\n",
       "      <th>SC_Group_Desc</th>\n",
       "      <th>SC_GroupCommod_ID</th>\n",
       "      <th>SC_GroupCommod_Desc</th>\n",
       "      <th>SC_Geography_ID</th>\n",
       "      <th>SortOrder</th>\n",
       "      <th>SC_GeographyIndented_Desc</th>\n",
       "      <th>SC_Commodity_ID</th>\n",
       "      <th>SC_Commodity_Desc</th>\n",
       "      <th>SC_Attribute_ID</th>\n",
       "      <th>SC_Attribute_Desc</th>\n",
       "      <th>SC_Unit_ID</th>\n",
       "      <th>SC_Unit_Desc</th>\n",
       "      <th>Year_ID</th>\n",
       "      <th>SC_Frequency_ID</th>\n",
       "      <th>SC_Frequency_Desc</th>\n",
       "      <th>Timeperiod_ID</th>\n",
       "      <th>Timeperiod_Desc</th>\n",
       "      <th>Amount</th>\n",
       "    </tr>\n",
       "  </thead>\n",
       "  <tbody>\n",
       "    <tr>\n",
       "      <th>0</th>\n",
       "      <td>2</td>\n",
       "      <td>Supply and use</td>\n",
       "      <td>9.0</td>\n",
       "      <td>Barley</td>\n",
       "      <td>1</td>\n",
       "      <td>0.80</td>\n",
       "      <td>United States</td>\n",
       "      <td>1</td>\n",
       "      <td>Barley</td>\n",
       "      <td>1</td>\n",
       "      <td>Planted acreage</td>\n",
       "      <td>2</td>\n",
       "      <td>Million acres</td>\n",
       "      <td>1926</td>\n",
       "      <td>3</td>\n",
       "      <td>Annual</td>\n",
       "      <td>69</td>\n",
       "      <td>Commodity Market Year</td>\n",
       "      <td>8.796000</td>\n",
       "    </tr>\n",
       "    <tr>\n",
       "      <th>1</th>\n",
       "      <td>2</td>\n",
       "      <td>Supply and use</td>\n",
       "      <td>9.0</td>\n",
       "      <td>Barley</td>\n",
       "      <td>1</td>\n",
       "      <td>0.80</td>\n",
       "      <td>United States</td>\n",
       "      <td>1</td>\n",
       "      <td>Barley</td>\n",
       "      <td>1</td>\n",
       "      <td>Planted acreage</td>\n",
       "      <td>2</td>\n",
       "      <td>Million acres</td>\n",
       "      <td>1927</td>\n",
       "      <td>3</td>\n",
       "      <td>Annual</td>\n",
       "      <td>69</td>\n",
       "      <td>Commodity Market Year</td>\n",
       "      <td>9.513000</td>\n",
       "    </tr>\n",
       "    <tr>\n",
       "      <th>2</th>\n",
       "      <td>2</td>\n",
       "      <td>Supply and use</td>\n",
       "      <td>9.0</td>\n",
       "      <td>Barley</td>\n",
       "      <td>1</td>\n",
       "      <td>0.80</td>\n",
       "      <td>United States</td>\n",
       "      <td>1</td>\n",
       "      <td>Barley</td>\n",
       "      <td>1</td>\n",
       "      <td>Planted acreage</td>\n",
       "      <td>2</td>\n",
       "      <td>Million acres</td>\n",
       "      <td>1928</td>\n",
       "      <td>3</td>\n",
       "      <td>Annual</td>\n",
       "      <td>69</td>\n",
       "      <td>Commodity Market Year</td>\n",
       "      <td>12.828000</td>\n",
       "    </tr>\n",
       "    <tr>\n",
       "      <th>3</th>\n",
       "      <td>2</td>\n",
       "      <td>Supply and use</td>\n",
       "      <td>9.0</td>\n",
       "      <td>Barley</td>\n",
       "      <td>1</td>\n",
       "      <td>0.80</td>\n",
       "      <td>United States</td>\n",
       "      <td>1</td>\n",
       "      <td>Barley</td>\n",
       "      <td>1</td>\n",
       "      <td>Planted acreage</td>\n",
       "      <td>2</td>\n",
       "      <td>Million acres</td>\n",
       "      <td>1929</td>\n",
       "      <td>3</td>\n",
       "      <td>Annual</td>\n",
       "      <td>69</td>\n",
       "      <td>Commodity Market Year</td>\n",
       "      <td>14.703000</td>\n",
       "    </tr>\n",
       "    <tr>\n",
       "      <th>4</th>\n",
       "      <td>2</td>\n",
       "      <td>Supply and use</td>\n",
       "      <td>9.0</td>\n",
       "      <td>Barley</td>\n",
       "      <td>1</td>\n",
       "      <td>0.80</td>\n",
       "      <td>United States</td>\n",
       "      <td>1</td>\n",
       "      <td>Barley</td>\n",
       "      <td>1</td>\n",
       "      <td>Planted acreage</td>\n",
       "      <td>2</td>\n",
       "      <td>Million acres</td>\n",
       "      <td>1930</td>\n",
       "      <td>3</td>\n",
       "      <td>Annual</td>\n",
       "      <td>69</td>\n",
       "      <td>Commodity Market Year</td>\n",
       "      <td>13.581000</td>\n",
       "    </tr>\n",
       "    <tr>\n",
       "      <th>...</th>\n",
       "      <td>...</td>\n",
       "      <td>...</td>\n",
       "      <td>...</td>\n",
       "      <td>...</td>\n",
       "      <td>...</td>\n",
       "      <td>...</td>\n",
       "      <td>...</td>\n",
       "      <td>...</td>\n",
       "      <td>...</td>\n",
       "      <td>...</td>\n",
       "      <td>...</td>\n",
       "      <td>...</td>\n",
       "      <td>...</td>\n",
       "      <td>...</td>\n",
       "      <td>...</td>\n",
       "      <td>...</td>\n",
       "      <td>...</td>\n",
       "      <td>...</td>\n",
       "      <td>...</td>\n",
       "    </tr>\n",
       "    <tr>\n",
       "      <th>505977</th>\n",
       "      <td>3</td>\n",
       "      <td>Exports and imports</td>\n",
       "      <td>9.0</td>\n",
       "      <td>Barley</td>\n",
       "      <td>300</td>\n",
       "      <td>1.02</td>\n",
       "      <td>Caribbean Basin (CBERA)</td>\n",
       "      <td>77</td>\n",
       "      <td>Barley products</td>\n",
       "      <td>19</td>\n",
       "      <td>Imports, to U.S. from specified source</td>\n",
       "      <td>7</td>\n",
       "      <td>1,000 metric tons</td>\n",
       "      <td>2023</td>\n",
       "      <td>1</td>\n",
       "      <td>Monthly</td>\n",
       "      <td>5</td>\n",
       "      <td>May</td>\n",
       "      <td>0.004767</td>\n",
       "    </tr>\n",
       "    <tr>\n",
       "      <th>505978</th>\n",
       "      <td>3</td>\n",
       "      <td>Exports and imports</td>\n",
       "      <td>9.0</td>\n",
       "      <td>Barley</td>\n",
       "      <td>300</td>\n",
       "      <td>1.02</td>\n",
       "      <td>Caribbean Basin (CBERA)</td>\n",
       "      <td>77</td>\n",
       "      <td>Barley products</td>\n",
       "      <td>19</td>\n",
       "      <td>Imports, to U.S. from specified source</td>\n",
       "      <td>7</td>\n",
       "      <td>1,000 metric tons</td>\n",
       "      <td>2023</td>\n",
       "      <td>1</td>\n",
       "      <td>Monthly</td>\n",
       "      <td>6</td>\n",
       "      <td>Jun</td>\n",
       "      <td>0.060129</td>\n",
       "    </tr>\n",
       "    <tr>\n",
       "      <th>505979</th>\n",
       "      <td>3</td>\n",
       "      <td>Exports and imports</td>\n",
       "      <td>9.0</td>\n",
       "      <td>Barley</td>\n",
       "      <td>300</td>\n",
       "      <td>1.02</td>\n",
       "      <td>Caribbean Basin (CBERA)</td>\n",
       "      <td>77</td>\n",
       "      <td>Barley products</td>\n",
       "      <td>19</td>\n",
       "      <td>Imports, to U.S. from specified source</td>\n",
       "      <td>7</td>\n",
       "      <td>1,000 metric tons</td>\n",
       "      <td>2023</td>\n",
       "      <td>1</td>\n",
       "      <td>Monthly</td>\n",
       "      <td>7</td>\n",
       "      <td>Jul</td>\n",
       "      <td>0.021359</td>\n",
       "    </tr>\n",
       "    <tr>\n",
       "      <th>505980</th>\n",
       "      <td>3</td>\n",
       "      <td>Exports and imports</td>\n",
       "      <td>9.0</td>\n",
       "      <td>Barley</td>\n",
       "      <td>300</td>\n",
       "      <td>1.02</td>\n",
       "      <td>Caribbean Basin (CBERA)</td>\n",
       "      <td>77</td>\n",
       "      <td>Barley products</td>\n",
       "      <td>19</td>\n",
       "      <td>Imports, to U.S. from specified source</td>\n",
       "      <td>7</td>\n",
       "      <td>1,000 metric tons</td>\n",
       "      <td>2023</td>\n",
       "      <td>1</td>\n",
       "      <td>Monthly</td>\n",
       "      <td>8</td>\n",
       "      <td>Aug</td>\n",
       "      <td>0.007153</td>\n",
       "    </tr>\n",
       "    <tr>\n",
       "      <th>505981</th>\n",
       "      <td>3</td>\n",
       "      <td>Exports and imports</td>\n",
       "      <td>9.0</td>\n",
       "      <td>Barley</td>\n",
       "      <td>300</td>\n",
       "      <td>1.02</td>\n",
       "      <td>Caribbean Basin (CBERA)</td>\n",
       "      <td>77</td>\n",
       "      <td>Barley products</td>\n",
       "      <td>19</td>\n",
       "      <td>Imports, to U.S. from specified source</td>\n",
       "      <td>7</td>\n",
       "      <td>1,000 metric tons</td>\n",
       "      <td>2023</td>\n",
       "      <td>3</td>\n",
       "      <td>Annual</td>\n",
       "      <td>19</td>\n",
       "      <td>MY Jun-May</td>\n",
       "      <td>0.088641</td>\n",
       "    </tr>\n",
       "  </tbody>\n",
       "</table>\n",
       "<p>505982 rows × 19 columns</p>\n",
       "</div>"
      ],
      "text/plain": [
       "        SC_Group_ID        SC_Group_Desc  SC_GroupCommod_ID  \\\n",
       "0                 2       Supply and use                9.0   \n",
       "1                 2       Supply and use                9.0   \n",
       "2                 2       Supply and use                9.0   \n",
       "3                 2       Supply and use                9.0   \n",
       "4                 2       Supply and use                9.0   \n",
       "...             ...                  ...                ...   \n",
       "505977            3  Exports and imports                9.0   \n",
       "505978            3  Exports and imports                9.0   \n",
       "505979            3  Exports and imports                9.0   \n",
       "505980            3  Exports and imports                9.0   \n",
       "505981            3  Exports and imports                9.0   \n",
       "\n",
       "       SC_GroupCommod_Desc  SC_Geography_ID  SortOrder  \\\n",
       "0                   Barley                1       0.80   \n",
       "1                   Barley                1       0.80   \n",
       "2                   Barley                1       0.80   \n",
       "3                   Barley                1       0.80   \n",
       "4                   Barley                1       0.80   \n",
       "...                    ...              ...        ...   \n",
       "505977              Barley              300       1.02   \n",
       "505978              Barley              300       1.02   \n",
       "505979              Barley              300       1.02   \n",
       "505980              Barley              300       1.02   \n",
       "505981              Barley              300       1.02   \n",
       "\n",
       "        SC_GeographyIndented_Desc  SC_Commodity_ID SC_Commodity_Desc  \\\n",
       "0                   United States                1            Barley   \n",
       "1                   United States                1            Barley   \n",
       "2                   United States                1            Barley   \n",
       "3                   United States                1            Barley   \n",
       "4                   United States                1            Barley   \n",
       "...                           ...              ...               ...   \n",
       "505977    Caribbean Basin (CBERA)               77   Barley products   \n",
       "505978    Caribbean Basin (CBERA)               77   Barley products   \n",
       "505979    Caribbean Basin (CBERA)               77   Barley products   \n",
       "505980    Caribbean Basin (CBERA)               77   Barley products   \n",
       "505981    Caribbean Basin (CBERA)               77   Barley products   \n",
       "\n",
       "        SC_Attribute_ID                       SC_Attribute_Desc  SC_Unit_ID  \\\n",
       "0                     1                         Planted acreage           2   \n",
       "1                     1                         Planted acreage           2   \n",
       "2                     1                         Planted acreage           2   \n",
       "3                     1                         Planted acreage           2   \n",
       "4                     1                         Planted acreage           2   \n",
       "...                 ...                                     ...         ...   \n",
       "505977               19  Imports, to U.S. from specified source           7   \n",
       "505978               19  Imports, to U.S. from specified source           7   \n",
       "505979               19  Imports, to U.S. from specified source           7   \n",
       "505980               19  Imports, to U.S. from specified source           7   \n",
       "505981               19  Imports, to U.S. from specified source           7   \n",
       "\n",
       "             SC_Unit_Desc  Year_ID  SC_Frequency_ID SC_Frequency_Desc  \\\n",
       "0           Million acres     1926                3            Annual   \n",
       "1           Million acres     1927                3            Annual   \n",
       "2           Million acres     1928                3            Annual   \n",
       "3           Million acres     1929                3            Annual   \n",
       "4           Million acres     1930                3            Annual   \n",
       "...                   ...      ...              ...               ...   \n",
       "505977  1,000 metric tons     2023                1           Monthly   \n",
       "505978  1,000 metric tons     2023                1           Monthly   \n",
       "505979  1,000 metric tons     2023                1           Monthly   \n",
       "505980  1,000 metric tons     2023                1           Monthly   \n",
       "505981  1,000 metric tons     2023                3            Annual   \n",
       "\n",
       "        Timeperiod_ID        Timeperiod_Desc     Amount  \n",
       "0                  69  Commodity Market Year   8.796000  \n",
       "1                  69  Commodity Market Year   9.513000  \n",
       "2                  69  Commodity Market Year  12.828000  \n",
       "3                  69  Commodity Market Year  14.703000  \n",
       "4                  69  Commodity Market Year  13.581000  \n",
       "...               ...                    ...        ...  \n",
       "505977              5                    May   0.004767  \n",
       "505978              6                    Jun   0.060129  \n",
       "505979              7                    Jul   0.021359  \n",
       "505980              8                    Aug   0.007153  \n",
       "505981             19             MY Jun-May   0.088641  \n",
       "\n",
       "[505982 rows x 19 columns]"
      ]
     },
     "execution_count": 2,
     "metadata": {},
     "output_type": "execute_result"
    }
   ],
   "source": [
    "df"
   ]
  },
  {
   "cell_type": "code",
   "execution_count": 3,
   "id": "ad5b902d",
   "metadata": {},
   "outputs": [],
   "source": [
    "import numpy as np"
   ]
  },
  {
   "cell_type": "code",
   "execution_count": 4,
   "id": "52fe7a33",
   "metadata": {},
   "outputs": [],
   "source": [
    "df_num=df.select_dtypes(include=[np.number])"
   ]
  },
  {
   "cell_type": "markdown",
   "id": "361cca15",
   "metadata": {},
   "source": [
    "# Continous Variable Columns"
   ]
  },
  {
   "cell_type": "code",
   "execution_count": 5,
   "id": "f3c99132",
   "metadata": {},
   "outputs": [
    {
     "data": {
      "text/plain": [
       "Index(['SC_Group_ID', 'SC_GroupCommod_ID', 'SC_Geography_ID', 'SortOrder',\n",
       "       'SC_Commodity_ID', 'SC_Attribute_ID', 'SC_Unit_ID', 'Year_ID',\n",
       "       'SC_Frequency_ID', 'Timeperiod_ID', 'Amount'],\n",
       "      dtype='object')"
      ]
     },
     "execution_count": 5,
     "metadata": {},
     "output_type": "execute_result"
    }
   ],
   "source": [
    "df_num.columns"
   ]
  },
  {
   "cell_type": "code",
   "execution_count": 6,
   "id": "1d87f061",
   "metadata": {},
   "outputs": [],
   "source": [
    "df_cat=df.select_dtypes(include=['object'])"
   ]
  },
  {
   "cell_type": "markdown",
   "id": "29dabaa6",
   "metadata": {},
   "source": [
    "# Categorical Variable Columns"
   ]
  },
  {
   "cell_type": "code",
   "execution_count": 7,
   "id": "495ce80a",
   "metadata": {},
   "outputs": [
    {
     "data": {
      "text/plain": [
       "Index(['SC_Group_Desc', 'SC_GroupCommod_Desc', 'SC_GeographyIndented_Desc',\n",
       "       'SC_Commodity_Desc', 'SC_Attribute_Desc', 'SC_Unit_Desc',\n",
       "       'SC_Frequency_Desc', 'Timeperiod_Desc'],\n",
       "      dtype='object')"
      ]
     },
     "execution_count": 7,
     "metadata": {},
     "output_type": "execute_result"
    }
   ],
   "source": [
    "df_cat.columns"
   ]
  },
  {
   "cell_type": "markdown",
   "id": "2c70c272",
   "metadata": {},
   "source": [
    "# IMPUTATION-finding the null values"
   ]
  },
  {
   "cell_type": "code",
   "execution_count": 8,
   "id": "244299d2",
   "metadata": {},
   "outputs": [
    {
     "data": {
      "text/plain": [
       "SC_Group_ID             0\n",
       "SC_GroupCommod_ID    7282\n",
       "SC_Geography_ID         0\n",
       "SortOrder               0\n",
       "SC_Commodity_ID         0\n",
       "SC_Attribute_ID         0\n",
       "SC_Unit_ID              0\n",
       "Year_ID                 0\n",
       "SC_Frequency_ID         0\n",
       "Timeperiod_ID           0\n",
       "Amount                  0\n",
       "dtype: int64"
      ]
     },
     "execution_count": 8,
     "metadata": {},
     "output_type": "execute_result"
    }
   ],
   "source": [
    "df_num.isnull().sum()"
   ]
  },
  {
   "cell_type": "markdown",
   "id": "11d74e92",
   "metadata": {},
   "source": [
    "# Replacing Null values with Mode or Dropping the values if there are more null values in the columns"
   ]
  },
  {
   "cell_type": "code",
   "execution_count": 9,
   "id": "d42e9066",
   "metadata": {},
   "outputs": [],
   "source": [
    "df_num['SC_GroupCommod_ID'].fillna(df_num['SC_GroupCommod_ID'].value_counts().idxmax(),inplace=True)"
   ]
  },
  {
   "cell_type": "code",
   "execution_count": 10,
   "id": "000c182b",
   "metadata": {},
   "outputs": [
    {
     "data": {
      "text/plain": [
       "SC_Group_ID          0\n",
       "SC_GroupCommod_ID    0\n",
       "SC_Geography_ID      0\n",
       "SortOrder            0\n",
       "SC_Commodity_ID      0\n",
       "SC_Attribute_ID      0\n",
       "SC_Unit_ID           0\n",
       "Year_ID              0\n",
       "SC_Frequency_ID      0\n",
       "Timeperiod_ID        0\n",
       "Amount               0\n",
       "dtype: int64"
      ]
     },
     "execution_count": 10,
     "metadata": {},
     "output_type": "execute_result"
    }
   ],
   "source": [
    "df_num.isnull().sum()"
   ]
  },
  {
   "cell_type": "code",
   "execution_count": 11,
   "id": "f458a361",
   "metadata": {},
   "outputs": [
    {
     "data": {
      "text/plain": [
       "Index(['SC_Group_ID', 'SC_GroupCommod_ID', 'SC_Geography_ID', 'SortOrder',\n",
       "       'SC_Commodity_ID', 'SC_Attribute_ID', 'SC_Unit_ID', 'Year_ID',\n",
       "       'SC_Frequency_ID', 'Timeperiod_ID', 'Amount'],\n",
       "      dtype='object')"
      ]
     },
     "execution_count": 11,
     "metadata": {},
     "output_type": "execute_result"
    }
   ],
   "source": [
    "df_num.columns"
   ]
  },
  {
   "cell_type": "markdown",
   "id": "b91df98a",
   "metadata": {},
   "source": [
    "# Removing the datapoints which are more than 75% and less than 25%"
   ]
  },
  {
   "cell_type": "code",
   "execution_count": 12,
   "id": "72a86384",
   "metadata": {},
   "outputs": [
    {
     "data": {
      "text/plain": [
       "count    5.059820e+05\n",
       "mean     7.188182e+05\n",
       "std      2.458086e+07\n",
       "min     -1.310973e+03\n",
       "25%      6.612301e-02\n",
       "50%      1.664000e+00\n",
       "75%      3.544414e+01\n",
       "max      2.872986e+09\n",
       "Name: Amount, dtype: float64"
      ]
     },
     "execution_count": 12,
     "metadata": {},
     "output_type": "execute_result"
    }
   ],
   "source": [
    "df_num['Amount'].describe()"
   ]
  },
  {
   "cell_type": "code",
   "execution_count": 13,
   "id": "56405c90",
   "metadata": {},
   "outputs": [
    {
     "data": {
      "text/plain": [
       "<Axes: ylabel='Amount'>"
      ]
     },
     "execution_count": 13,
     "metadata": {},
     "output_type": "execute_result"
    },
    {
     "data": {
      "image/png": "[encoded data removed]",
      "text/plain": [
       "<Figure size 640x480 with 1 Axes>"
      ]
     },
     "metadata": {},
     "output_type": "display_data"
    }
   ],
   "source": [
    "sns.boxplot(y=df_num['Amount'])"
   ]
  },
  {
   "cell_type": "markdown",
   "id": "dd2182a0",
   "metadata": {},
   "source": [
    "# Removing the datapoints which are more than 75% and less than 25%"
   ]
  },
  {
   "cell_type": "code",
   "execution_count": 14,
   "id": "ad288780",
   "metadata": {},
   "outputs": [],
   "source": [
    "df_AMO=df_num[(df_num['Amount']>0.066)&(df_num['Amount']<35.444)]"
   ]
  },
  {
   "cell_type": "markdown",
   "id": "32dcf1a7",
   "metadata": {},
   "source": [
    "# Plotting Boxplot after Removal"
   ]
  },
  {
   "cell_type": "code",
   "execution_count": 15,
   "id": "1bec1997",
   "metadata": {},
   "outputs": [
    {
     "data": {
      "text/plain": [
       "<Axes: ylabel='Amount'>"
      ]
     },
     "execution_count": 15,
     "metadata": {},
     "output_type": "execute_result"
    },
    {
     "data": {
      "image/png": "[encoded data removed]",
      "text/plain": [
       "<Figure size 640x480 with 1 Axes>"
      ]
     },
     "metadata": {},
     "output_type": "display_data"
    }
   ],
   "source": [
    "sns.boxplot(y=df_AMO['Amount'])"
   ]
  },
  {
   "cell_type": "code",
   "execution_count": 16,
   "id": "f804a009",
   "metadata": {},
   "outputs": [
    {
     "data": {
      "text/plain": [
       "count    253059.000000\n",
       "mean          1.282472\n",
       "std           0.677299\n",
       "min           1.000000\n",
       "25%           1.000000\n",
       "50%           1.000000\n",
       "75%           1.000000\n",
       "max           3.000000\n",
       "Name: SC_Frequency_ID, dtype: float64"
      ]
     },
     "execution_count": 16,
     "metadata": {},
     "output_type": "execute_result"
    }
   ],
   "source": [
    "df_AMO['SC_Frequency_ID'].describe()"
   ]
  },
  {
   "cell_type": "markdown",
   "id": "a09b7044",
   "metadata": {},
   "source": [
    "# Standard Scaler"
   ]
  },
  {
   "cell_type": "code",
   "execution_count": 17,
   "id": "59ce3627",
   "metadata": {},
   "outputs": [],
   "source": [
    "from sklearn.preprocessing import StandardScaler "
   ]
  },
  {
   "cell_type": "code",
   "execution_count": 18,
   "id": "0baad2ee",
   "metadata": {},
   "outputs": [],
   "source": [
    "sc=StandardScaler()"
   ]
  },
  {
   "cell_type": "code",
   "execution_count": 19,
   "id": "e8304c1b",
   "metadata": {},
   "outputs": [],
   "source": [
    "sco=sc.fit(df_AMO)"
   ]
  },
  {
   "cell_type": "code",
   "execution_count": 20,
   "id": "2a23d38e",
   "metadata": {},
   "outputs": [],
   "source": [
    "standard_num_scaler=sco.fit_transform(df_AMO)"
   ]
  },
  {
   "cell_type": "code",
   "execution_count": 21,
   "id": "871031e3",
   "metadata": {},
   "outputs": [
    {
     "data": {
      "text/plain": [
       "<Axes: >"
      ]
     },
     "execution_count": 21,
     "metadata": {},
     "output_type": "execute_result"
    },
    {
     "data": {
      "image/png": "[encoded data removed]",
      "text/plain": [
       "<Figure size 640x480 with 1 Axes>"
      ]
     },
     "metadata": {},
     "output_type": "display_data"
    }
   ],
   "source": [
    "sns.boxplot(standard_num_scaler)"
   ]
  },
  {
   "cell_type": "markdown",
   "id": "fcc11c2f",
   "metadata": {},
   "source": [
    "# MinMaxScaler"
   ]
  },
  {
   "cell_type": "code",
   "execution_count": 22,
   "id": "6edd9ad6",
   "metadata": {},
   "outputs": [],
   "source": [
    "from sklearn.preprocessing import MinMaxScaler"
   ]
  },
  {
   "cell_type": "code",
   "execution_count": 23,
   "id": "5af1c6d6",
   "metadata": {},
   "outputs": [],
   "source": [
    "mms=MinMaxScaler()"
   ]
  },
  {
   "cell_type": "code",
   "execution_count": 24,
   "id": "66c47d22",
   "metadata": {},
   "outputs": [],
   "source": [
    "min_num_scaled=mms.fit_transform(df_AMO)"
   ]
  },
  {
   "cell_type": "code",
   "execution_count": 25,
   "id": "9a6f7b63",
   "metadata": {},
   "outputs": [
    {
     "data": {
      "text/plain": [
       "<Axes: >"
      ]
     },
     "execution_count": 25,
     "metadata": {},
     "output_type": "execute_result"
    },
    {
     "data": {
      "image/png": "[encoded data removed]",
      "text/plain": [
       "<Figure size 640x480 with 1 Axes>"
      ]
     },
     "metadata": {},
     "output_type": "display_data"
    }
   ],
   "source": [
    "sns.boxplot(min_num_scaled)"
   ]
  },
  {
   "cell_type": "markdown",
   "id": "770911b2",
   "metadata": {},
   "source": [
    "# Categorical Variable Columns"
   ]
  },
  {
   "cell_type": "code",
   "execution_count": 26,
   "id": "90bc1da5",
   "metadata": {},
   "outputs": [
    {
     "data": {
      "text/plain": [
       "Index(['SC_Group_Desc', 'SC_GroupCommod_Desc', 'SC_GeographyIndented_Desc',\n",
       "       'SC_Commodity_Desc', 'SC_Attribute_Desc', 'SC_Unit_Desc',\n",
       "       'SC_Frequency_Desc', 'Timeperiod_Desc'],\n",
       "      dtype='object')"
      ]
     },
     "execution_count": 26,
     "metadata": {},
     "output_type": "execute_result"
    }
   ],
   "source": [
    "df_cat.columns"
   ]
  },
  {
   "cell_type": "markdown",
   "id": "375d80d1",
   "metadata": {},
   "source": [
    "# Finding Null values in Categorical variables"
   ]
  },
  {
   "cell_type": "code",
   "execution_count": 27,
   "id": "1f834e19",
   "metadata": {},
   "outputs": [
    {
     "data": {
      "text/plain": [
       "SC_Group_Desc                   0\n",
       "SC_GroupCommod_Desc          7282\n",
       "SC_GeographyIndented_Desc       0\n",
       "SC_Commodity_Desc               0\n",
       "SC_Attribute_Desc               0\n",
       "SC_Unit_Desc                    0\n",
       "SC_Frequency_Desc               0\n",
       "Timeperiod_Desc                 0\n",
       "dtype: int64"
      ]
     },
     "execution_count": 27,
     "metadata": {},
     "output_type": "execute_result"
    }
   ],
   "source": [
    "df_cat.isnull().sum()"
   ]
  },
  {
   "cell_type": "code",
   "execution_count": 28,
   "id": "9cb47012",
   "metadata": {},
   "outputs": [],
   "source": [
    "df_cat['SC_GroupCommod_Desc'].fillna(df_cat['SC_GroupCommod_Desc'].value_counts().idxmax(),inplace=True)"
   ]
  },
  {
   "cell_type": "code",
   "execution_count": 29,
   "id": "efcbf6e4",
   "metadata": {},
   "outputs": [
    {
     "data": {
      "text/plain": [
       "SC_Group_Desc                0\n",
       "SC_GroupCommod_Desc          0\n",
       "SC_GeographyIndented_Desc    0\n",
       "SC_Commodity_Desc            0\n",
       "SC_Attribute_Desc            0\n",
       "SC_Unit_Desc                 0\n",
       "SC_Frequency_Desc            0\n",
       "Timeperiod_Desc              0\n",
       "dtype: int64"
      ]
     },
     "execution_count": 29,
     "metadata": {},
     "output_type": "execute_result"
    }
   ],
   "source": [
    "df_cat.isnull().sum()"
   ]
  },
  {
   "cell_type": "markdown",
   "id": "0e102bb6",
   "metadata": {},
   "source": [
    "# Checking Unique Values"
   ]
  },
  {
   "cell_type": "code",
   "execution_count": 30,
   "id": "193cca93",
   "metadata": {},
   "outputs": [
    {
     "data": {
      "text/plain": [
       "SC_Group_Desc                  7\n",
       "SC_GroupCommod_Desc           13\n",
       "SC_GeographyIndented_Desc    272\n",
       "SC_Commodity_Desc             78\n",
       "SC_Attribute_Desc             41\n",
       "SC_Unit_Desc                  20\n",
       "SC_Frequency_Desc              3\n",
       "Timeperiod_Desc               48\n",
       "dtype: int64"
      ]
     },
     "execution_count": 30,
     "metadata": {},
     "output_type": "execute_result"
    }
   ],
   "source": [
    "df_cat[['SC_Group_Desc', 'SC_GroupCommod_Desc', 'SC_GeographyIndented_Desc',\n",
    "       'SC_Commodity_Desc', 'SC_Attribute_Desc', 'SC_Unit_Desc',\n",
    "       'SC_Frequency_Desc', 'Timeperiod_Desc']].nunique()"
   ]
  },
  {
   "cell_type": "markdown",
   "id": "60e62c1a",
   "metadata": {},
   "source": [
    "# Label Encoding"
   ]
  },
  {
   "cell_type": "code",
   "execution_count": 57,
   "id": "2ee2e13c",
   "metadata": {},
   "outputs": [],
   "source": [
    "from sklearn.preprocessing import LabelEncoder"
   ]
  },
  {
   "cell_type": "code",
   "execution_count": 58,
   "id": "291bd9fd",
   "metadata": {},
   "outputs": [],
   "source": [
    "le=LabelEncoder()"
   ]
  },
  {
   "cell_type": "code",
   "execution_count": 59,
   "id": "c497b62b",
   "metadata": {},
   "outputs": [],
   "source": [
    "df_cat=df_cat.apply(le.fit_transform)"
   ]
  },
  {
   "cell_type": "code",
   "execution_count": 60,
   "id": "0cd03db2",
   "metadata": {},
   "outputs": [
    {
     "data": {
      "text/html": [
       "<div>\n",
       "<style scoped>\n",
       "    .dataframe tbody tr th:only-of-type {\n",
       "        vertical-align: middle;\n",
       "    }\n",
       "\n",
       "    .dataframe tbody tr th {\n",
       "        vertical-align: top;\n",
       "    }\n",
       "\n",
       "    .dataframe thead th {\n",
       "        text-align: right;\n",
       "    }\n",
       "</style>\n",
       "<table border=\"1\" class=\"dataframe\">\n",
       "  <thead>\n",
       "    <tr style=\"text-align: right;\">\n",
       "      <th></th>\n",
       "      <th>SC_Group_Desc</th>\n",
       "      <th>SC_GroupCommod_Desc</th>\n",
       "      <th>SC_GeographyIndented_Desc</th>\n",
       "      <th>SC_Commodity_Desc</th>\n",
       "      <th>SC_Attribute_Desc</th>\n",
       "      <th>SC_Unit_Desc</th>\n",
       "      <th>SC_Frequency_Desc</th>\n",
       "      <th>Timeperiod_Desc</th>\n",
       "    </tr>\n",
       "  </thead>\n",
       "  <tbody>\n",
       "    <tr>\n",
       "      <th>0</th>\n",
       "      <td>5</td>\n",
       "      <td>1</td>\n",
       "      <td>270</td>\n",
       "      <td>3</td>\n",
       "      <td>24</td>\n",
       "      <td>13</td>\n",
       "      <td>0</td>\n",
       "      <td>7</td>\n",
       "    </tr>\n",
       "    <tr>\n",
       "      <th>1</th>\n",
       "      <td>5</td>\n",
       "      <td>1</td>\n",
       "      <td>270</td>\n",
       "      <td>3</td>\n",
       "      <td>24</td>\n",
       "      <td>13</td>\n",
       "      <td>0</td>\n",
       "      <td>7</td>\n",
       "    </tr>\n",
       "    <tr>\n",
       "      <th>2</th>\n",
       "      <td>5</td>\n",
       "      <td>1</td>\n",
       "      <td>270</td>\n",
       "      <td>3</td>\n",
       "      <td>24</td>\n",
       "      <td>13</td>\n",
       "      <td>0</td>\n",
       "      <td>7</td>\n",
       "    </tr>\n",
       "    <tr>\n",
       "      <th>3</th>\n",
       "      <td>5</td>\n",
       "      <td>1</td>\n",
       "      <td>270</td>\n",
       "      <td>3</td>\n",
       "      <td>24</td>\n",
       "      <td>13</td>\n",
       "      <td>0</td>\n",
       "      <td>7</td>\n",
       "    </tr>\n",
       "    <tr>\n",
       "      <th>4</th>\n",
       "      <td>5</td>\n",
       "      <td>1</td>\n",
       "      <td>270</td>\n",
       "      <td>3</td>\n",
       "      <td>24</td>\n",
       "      <td>13</td>\n",
       "      <td>0</td>\n",
       "      <td>7</td>\n",
       "    </tr>\n",
       "  </tbody>\n",
       "</table>\n",
       "</div>"
      ],
      "text/plain": [
       "   SC_Group_Desc  SC_GroupCommod_Desc  SC_GeographyIndented_Desc  \\\n",
       "0              5                    1                        270   \n",
       "1              5                    1                        270   \n",
       "2              5                    1                        270   \n",
       "3              5                    1                        270   \n",
       "4              5                    1                        270   \n",
       "\n",
       "   SC_Commodity_Desc  SC_Attribute_Desc  SC_Unit_Desc  SC_Frequency_Desc  \\\n",
       "0                  3                 24            13                  0   \n",
       "1                  3                 24            13                  0   \n",
       "2                  3                 24            13                  0   \n",
       "3                  3                 24            13                  0   \n",
       "4                  3                 24            13                  0   \n",
       "\n",
       "   Timeperiod_Desc  \n",
       "0                7  \n",
       "1                7  \n",
       "2                7  \n",
       "3                7  \n",
       "4                7  "
      ]
     },
     "execution_count": 60,
     "metadata": {},
     "output_type": "execute_result"
    }
   ],
   "source": [
    "df_cat1.head()"
   ]
  },
  {
   "cell_type": "code",
   "execution_count": 61,
   "id": "31d59f3c",
   "metadata": {},
   "outputs": [],
   "source": [
    "df_cat=df_cat.loc[df_AMO.index.values,:]"
   ]
  },
  {
   "cell_type": "markdown",
   "id": "bcdf256b",
   "metadata": {},
   "source": [
    "# Concatenate Numerical Values and Categorical Values"
   ]
  },
  {
   "cell_type": "code",
   "execution_count": 62,
   "id": "f80edd52",
   "metadata": {},
   "outputs": [],
   "source": [
    "d1=pd.DataFrame(min_num_scaled,columns=df_num.columns)"
   ]
  },
  {
   "cell_type": "code",
   "execution_count": 63,
   "id": "fe1b9cbe",
   "metadata": {},
   "outputs": [],
   "source": [
    "d1.reset_index(inplace=True)"
   ]
  },
  {
   "cell_type": "code",
   "execution_count": 64,
   "id": "24cae808",
   "metadata": {},
   "outputs": [],
   "source": [
    "df_cat.reset_index(inplace=True)"
   ]
  },
  {
   "cell_type": "code",
   "execution_count": 76,
   "id": "5bf9d167",
   "metadata": {},
   "outputs": [],
   "source": [
    "df_Final=pd.concat([d1,df_cat],axis=1)"
   ]
  },
  {
   "cell_type": "markdown",
   "id": "2d5cde3e",
   "metadata": {},
   "source": [
    "# Final Dataset"
   ]
  },
  {
   "cell_type": "code",
   "execution_count": 77,
   "id": "9b3cd9a3",
   "metadata": {},
   "outputs": [
    {
     "data": {
      "text/html": [
       "<div>\n",
       "<style scoped>\n",
       "    .dataframe tbody tr th:only-of-type {\n",
       "        vertical-align: middle;\n",
       "    }\n",
       "\n",
       "    .dataframe tbody tr th {\n",
       "        vertical-align: top;\n",
       "    }\n",
       "\n",
       "    .dataframe thead th {\n",
       "        text-align: right;\n",
       "    }\n",
       "</style>\n",
       "<table border=\"1\" class=\"dataframe\">\n",
       "  <thead>\n",
       "    <tr style=\"text-align: right;\">\n",
       "      <th></th>\n",
       "      <th>index</th>\n",
       "      <th>SC_Group_ID</th>\n",
       "      <th>SC_GroupCommod_ID</th>\n",
       "      <th>SC_Geography_ID</th>\n",
       "      <th>SortOrder</th>\n",
       "      <th>SC_Commodity_ID</th>\n",
       "      <th>SC_Attribute_ID</th>\n",
       "      <th>SC_Unit_ID</th>\n",
       "      <th>Year_ID</th>\n",
       "      <th>SC_Frequency_ID</th>\n",
       "      <th>...</th>\n",
       "      <th>level_0</th>\n",
       "      <th>index</th>\n",
       "      <th>SC_Group_Desc</th>\n",
       "      <th>SC_GroupCommod_Desc</th>\n",
       "      <th>SC_GeographyIndented_Desc</th>\n",
       "      <th>SC_Commodity_Desc</th>\n",
       "      <th>SC_Attribute_Desc</th>\n",
       "      <th>SC_Unit_Desc</th>\n",
       "      <th>SC_Frequency_Desc</th>\n",
       "      <th>Timeperiod_Desc</th>\n",
       "    </tr>\n",
       "  </thead>\n",
       "  <tbody>\n",
       "    <tr>\n",
       "      <th>0</th>\n",
       "      <td>0</td>\n",
       "      <td>0.166667</td>\n",
       "      <td>0.083333</td>\n",
       "      <td>0.000000</td>\n",
       "      <td>0.002737</td>\n",
       "      <td>0.00000</td>\n",
       "      <td>0.000000</td>\n",
       "      <td>0.022222</td>\n",
       "      <td>0.382166</td>\n",
       "      <td>1.0</td>\n",
       "      <td>...</td>\n",
       "      <td>0</td>\n",
       "      <td>0</td>\n",
       "      <td>5</td>\n",
       "      <td>1</td>\n",
       "      <td>270</td>\n",
       "      <td>3</td>\n",
       "      <td>24</td>\n",
       "      <td>13</td>\n",
       "      <td>0</td>\n",
       "      <td>7</td>\n",
       "    </tr>\n",
       "    <tr>\n",
       "      <th>1</th>\n",
       "      <td>1</td>\n",
       "      <td>0.166667</td>\n",
       "      <td>0.083333</td>\n",
       "      <td>0.000000</td>\n",
       "      <td>0.002737</td>\n",
       "      <td>0.00000</td>\n",
       "      <td>0.000000</td>\n",
       "      <td>0.022222</td>\n",
       "      <td>0.388535</td>\n",
       "      <td>1.0</td>\n",
       "      <td>...</td>\n",
       "      <td>1</td>\n",
       "      <td>1</td>\n",
       "      <td>5</td>\n",
       "      <td>1</td>\n",
       "      <td>270</td>\n",
       "      <td>3</td>\n",
       "      <td>24</td>\n",
       "      <td>13</td>\n",
       "      <td>0</td>\n",
       "      <td>7</td>\n",
       "    </tr>\n",
       "    <tr>\n",
       "      <th>2</th>\n",
       "      <td>2</td>\n",
       "      <td>0.166667</td>\n",
       "      <td>0.083333</td>\n",
       "      <td>0.000000</td>\n",
       "      <td>0.002737</td>\n",
       "      <td>0.00000</td>\n",
       "      <td>0.000000</td>\n",
       "      <td>0.022222</td>\n",
       "      <td>0.394904</td>\n",
       "      <td>1.0</td>\n",
       "      <td>...</td>\n",
       "      <td>2</td>\n",
       "      <td>2</td>\n",
       "      <td>5</td>\n",
       "      <td>1</td>\n",
       "      <td>270</td>\n",
       "      <td>3</td>\n",
       "      <td>24</td>\n",
       "      <td>13</td>\n",
       "      <td>0</td>\n",
       "      <td>7</td>\n",
       "    </tr>\n",
       "    <tr>\n",
       "      <th>3</th>\n",
       "      <td>3</td>\n",
       "      <td>0.166667</td>\n",
       "      <td>0.083333</td>\n",
       "      <td>0.000000</td>\n",
       "      <td>0.002737</td>\n",
       "      <td>0.00000</td>\n",
       "      <td>0.000000</td>\n",
       "      <td>0.022222</td>\n",
       "      <td>0.401274</td>\n",
       "      <td>1.0</td>\n",
       "      <td>...</td>\n",
       "      <td>3</td>\n",
       "      <td>3</td>\n",
       "      <td>5</td>\n",
       "      <td>1</td>\n",
       "      <td>270</td>\n",
       "      <td>3</td>\n",
       "      <td>24</td>\n",
       "      <td>13</td>\n",
       "      <td>0</td>\n",
       "      <td>7</td>\n",
       "    </tr>\n",
       "    <tr>\n",
       "      <th>4</th>\n",
       "      <td>4</td>\n",
       "      <td>0.166667</td>\n",
       "      <td>0.083333</td>\n",
       "      <td>0.000000</td>\n",
       "      <td>0.002737</td>\n",
       "      <td>0.00000</td>\n",
       "      <td>0.000000</td>\n",
       "      <td>0.022222</td>\n",
       "      <td>0.407643</td>\n",
       "      <td>1.0</td>\n",
       "      <td>...</td>\n",
       "      <td>4</td>\n",
       "      <td>4</td>\n",
       "      <td>5</td>\n",
       "      <td>1</td>\n",
       "      <td>270</td>\n",
       "      <td>3</td>\n",
       "      <td>24</td>\n",
       "      <td>13</td>\n",
       "      <td>0</td>\n",
       "      <td>7</td>\n",
       "    </tr>\n",
       "    <tr>\n",
       "      <th>...</th>\n",
       "      <td>...</td>\n",
       "      <td>...</td>\n",
       "      <td>...</td>\n",
       "      <td>...</td>\n",
       "      <td>...</td>\n",
       "      <td>...</td>\n",
       "      <td>...</td>\n",
       "      <td>...</td>\n",
       "      <td>...</td>\n",
       "      <td>...</td>\n",
       "      <td>...</td>\n",
       "      <td>...</td>\n",
       "      <td>...</td>\n",
       "      <td>...</td>\n",
       "      <td>...</td>\n",
       "      <td>...</td>\n",
       "      <td>...</td>\n",
       "      <td>...</td>\n",
       "      <td>...</td>\n",
       "      <td>...</td>\n",
       "      <td>...</td>\n",
       "    </tr>\n",
       "    <tr>\n",
       "      <th>253054</th>\n",
       "      <td>253054</td>\n",
       "      <td>0.333333</td>\n",
       "      <td>0.166667</td>\n",
       "      <td>0.882006</td>\n",
       "      <td>0.003509</td>\n",
       "      <td>0.35545</td>\n",
       "      <td>0.383333</td>\n",
       "      <td>0.133333</td>\n",
       "      <td>1.000000</td>\n",
       "      <td>0.0</td>\n",
       "      <td>...</td>\n",
       "      <td>505885</td>\n",
       "      <td>505885</td>\n",
       "      <td>1</td>\n",
       "      <td>2</td>\n",
       "      <td>249</td>\n",
       "      <td>11</td>\n",
       "      <td>7</td>\n",
       "      <td>2</td>\n",
       "      <td>1</td>\n",
       "      <td>12</td>\n",
       "    </tr>\n",
       "    <tr>\n",
       "      <th>253055</th>\n",
       "      <td>253055</td>\n",
       "      <td>0.333333</td>\n",
       "      <td>0.166667</td>\n",
       "      <td>0.882006</td>\n",
       "      <td>0.003509</td>\n",
       "      <td>0.35545</td>\n",
       "      <td>0.383333</td>\n",
       "      <td>0.133333</td>\n",
       "      <td>1.000000</td>\n",
       "      <td>0.0</td>\n",
       "      <td>...</td>\n",
       "      <td>505886</td>\n",
       "      <td>505886</td>\n",
       "      <td>1</td>\n",
       "      <td>2</td>\n",
       "      <td>249</td>\n",
       "      <td>11</td>\n",
       "      <td>7</td>\n",
       "      <td>2</td>\n",
       "      <td>1</td>\n",
       "      <td>1</td>\n",
       "    </tr>\n",
       "    <tr>\n",
       "      <th>253056</th>\n",
       "      <td>253056</td>\n",
       "      <td>0.333333</td>\n",
       "      <td>0.166667</td>\n",
       "      <td>0.882006</td>\n",
       "      <td>0.003509</td>\n",
       "      <td>0.35545</td>\n",
       "      <td>0.383333</td>\n",
       "      <td>0.133333</td>\n",
       "      <td>1.000000</td>\n",
       "      <td>0.0</td>\n",
       "      <td>...</td>\n",
       "      <td>505887</td>\n",
       "      <td>505887</td>\n",
       "      <td>1</td>\n",
       "      <td>2</td>\n",
       "      <td>249</td>\n",
       "      <td>11</td>\n",
       "      <td>7</td>\n",
       "      <td>2</td>\n",
       "      <td>1</td>\n",
       "      <td>47</td>\n",
       "    </tr>\n",
       "    <tr>\n",
       "      <th>253057</th>\n",
       "      <td>253057</td>\n",
       "      <td>0.333333</td>\n",
       "      <td>0.083333</td>\n",
       "      <td>0.882006</td>\n",
       "      <td>0.003509</td>\n",
       "      <td>0.36019</td>\n",
       "      <td>0.300000</td>\n",
       "      <td>0.133333</td>\n",
       "      <td>0.783439</td>\n",
       "      <td>1.0</td>\n",
       "      <td>...</td>\n",
       "      <td>505899</td>\n",
       "      <td>505899</td>\n",
       "      <td>1</td>\n",
       "      <td>1</td>\n",
       "      <td>249</td>\n",
       "      <td>7</td>\n",
       "      <td>22</td>\n",
       "      <td>2</td>\n",
       "      <td>0</td>\n",
       "      <td>26</td>\n",
       "    </tr>\n",
       "    <tr>\n",
       "      <th>253058</th>\n",
       "      <td>253058</td>\n",
       "      <td>0.333333</td>\n",
       "      <td>0.083333</td>\n",
       "      <td>0.882006</td>\n",
       "      <td>0.003509</td>\n",
       "      <td>0.36019</td>\n",
       "      <td>0.300000</td>\n",
       "      <td>0.133333</td>\n",
       "      <td>1.000000</td>\n",
       "      <td>1.0</td>\n",
       "      <td>...</td>\n",
       "      <td>505981</td>\n",
       "      <td>505981</td>\n",
       "      <td>1</td>\n",
       "      <td>1</td>\n",
       "      <td>249</td>\n",
       "      <td>7</td>\n",
       "      <td>22</td>\n",
       "      <td>2</td>\n",
       "      <td>0</td>\n",
       "      <td>26</td>\n",
       "    </tr>\n",
       "  </tbody>\n",
       "</table>\n",
       "<p>253059 rows × 22 columns</p>\n",
       "</div>"
      ],
      "text/plain": [
       "         index  SC_Group_ID  SC_GroupCommod_ID  SC_Geography_ID  SortOrder  \\\n",
       "0            0     0.166667           0.083333         0.000000   0.002737   \n",
       "1            1     0.166667           0.083333         0.000000   0.002737   \n",
       "2            2     0.166667           0.083333         0.000000   0.002737   \n",
       "3            3     0.166667           0.083333         0.000000   0.002737   \n",
       "4            4     0.166667           0.083333         0.000000   0.002737   \n",
       "...        ...          ...                ...              ...        ...   \n",
       "253054  253054     0.333333           0.166667         0.882006   0.003509   \n",
       "253055  253055     0.333333           0.166667         0.882006   0.003509   \n",
       "253056  253056     0.333333           0.166667         0.882006   0.003509   \n",
       "253057  253057     0.333333           0.083333         0.882006   0.003509   \n",
       "253058  253058     0.333333           0.083333         0.882006   0.003509   \n",
       "\n",
       "        SC_Commodity_ID  SC_Attribute_ID  SC_Unit_ID   Year_ID  \\\n",
       "0               0.00000         0.000000    0.022222  0.382166   \n",
       "1               0.00000         0.000000    0.022222  0.388535   \n",
       "2               0.00000         0.000000    0.022222  0.394904   \n",
       "3               0.00000         0.000000    0.022222  0.401274   \n",
       "4               0.00000         0.000000    0.022222  0.407643   \n",
       "...                 ...              ...         ...       ...   \n",
       "253054          0.35545         0.383333    0.133333  1.000000   \n",
       "253055          0.35545         0.383333    0.133333  1.000000   \n",
       "253056          0.35545         0.383333    0.133333  1.000000   \n",
       "253057          0.36019         0.300000    0.133333  0.783439   \n",
       "253058          0.36019         0.300000    0.133333  1.000000   \n",
       "\n",
       "        SC_Frequency_ID  ...  level_0   index  SC_Group_Desc  \\\n",
       "0                   1.0  ...        0       0              5   \n",
       "1                   1.0  ...        1       1              5   \n",
       "2                   1.0  ...        2       2              5   \n",
       "3                   1.0  ...        3       3              5   \n",
       "4                   1.0  ...        4       4              5   \n",
       "...                 ...  ...      ...     ...            ...   \n",
       "253054              0.0  ...   505885  505885              1   \n",
       "253055              0.0  ...   505886  505886              1   \n",
       "253056              0.0  ...   505887  505887              1   \n",
       "253057              1.0  ...   505899  505899              1   \n",
       "253058              1.0  ...   505981  505981              1   \n",
       "\n",
       "        SC_GroupCommod_Desc  SC_GeographyIndented_Desc  SC_Commodity_Desc  \\\n",
       "0                         1                        270                  3   \n",
       "1                         1                        270                  3   \n",
       "2                         1                        270                  3   \n",
       "3                         1                        270                  3   \n",
       "4                         1                        270                  3   \n",
       "...                     ...                        ...                ...   \n",
       "253054                    2                        249                 11   \n",
       "253055                    2                        249                 11   \n",
       "253056                    2                        249                 11   \n",
       "253057                    1                        249                  7   \n",
       "253058                    1                        249                  7   \n",
       "\n",
       "        SC_Attribute_Desc  SC_Unit_Desc  SC_Frequency_Desc  Timeperiod_Desc  \n",
       "0                      24            13                  0                7  \n",
       "1                      24            13                  0                7  \n",
       "2                      24            13                  0                7  \n",
       "3                      24            13                  0                7  \n",
       "4                      24            13                  0                7  \n",
       "...                   ...           ...                ...              ...  \n",
       "253054                  7             2                  1               12  \n",
       "253055                  7             2                  1                1  \n",
       "253056                  7             2                  1               47  \n",
       "253057                 22             2                  0               26  \n",
       "253058                 22             2                  0               26  \n",
       "\n",
       "[253059 rows x 22 columns]"
      ]
     },
     "execution_count": 77,
     "metadata": {},
     "output_type": "execute_result"
    }
   ],
   "source": [
    "df_Final"
   ]
  },
  {
   "cell_type": "code",
   "execution_count": 78,
   "id": "f4141067",
   "metadata": {},
   "outputs": [
    {
     "data": {
      "text/plain": [
       "(253059, 22)"
      ]
     },
     "execution_count": 78,
     "metadata": {},
     "output_type": "execute_result"
    }
   ],
   "source": [
    "df_Final.shape"
   ]
  },
  {
   "cell_type": "markdown",
   "id": "c3b53f46",
   "metadata": {},
   "source": [
    "# Model Training "
   ]
  },
  {
   "cell_type": "code",
   "execution_count": 79,
   "id": "104a73d8",
   "metadata": {},
   "outputs": [],
   "source": [
    "Y=df_Final['Amount']"
   ]
  },
  {
   "cell_type": "code",
   "execution_count": 80,
   "id": "df1be9f9",
   "metadata": {},
   "outputs": [],
   "source": [
    "X=df_Final.drop(['Amount'],axis=1)"
   ]
  },
  {
   "cell_type": "markdown",
   "id": "63c7ea15",
   "metadata": {},
   "source": [
    "# Spliting the Data  for Training(70%) and Testing(30%)"
   ]
  },
  {
   "cell_type": "code",
   "execution_count": 81,
   "id": "bae3d250",
   "metadata": {},
   "outputs": [],
   "source": [
    "from sklearn.model_selection import train_test_split\n",
    "X_train,X_test,y_train,y_test=train_test_split(X,Y,test_size=0.3,random_state=50)"
   ]
  },
  {
   "cell_type": "markdown",
   "id": "43dff015",
   "metadata": {},
   "source": [
    "# Linear Regression Training Score"
   ]
  },
  {
   "cell_type": "code",
   "execution_count": 82,
   "id": "14499a62",
   "metadata": {},
   "outputs": [
    {
     "data": {
      "text/plain": [
       "0.10615243444077316"
      ]
     },
     "execution_count": 82,
     "metadata": {},
     "output_type": "execute_result"
    }
   ],
   "source": [
    "from sklearn.linear_model import LinearRegression\n",
    "linreg=LinearRegression()\n",
    "lm=linreg.fit(X_train,y_train)\n",
    "lm.score(X_train,y_train)"
   ]
  },
  {
   "cell_type": "markdown",
   "id": "076ced60",
   "metadata": {},
   "source": [
    "# DecisionTreeRegressor Training Score"
   ]
  },
  {
   "cell_type": "code",
   "execution_count": 83,
   "id": "8eeb81b0",
   "metadata": {},
   "outputs": [
    {
     "data": {
      "text/plain": [
       "1.0"
      ]
     },
     "execution_count": 83,
     "metadata": {},
     "output_type": "execute_result"
    }
   ],
   "source": [
    "from sklearn.tree import DecisionTreeRegressor\n",
    "dtr=DecisionTreeRegressor(criterion='friedman_mse')\n",
    "dt1=dtr.fit(X_train,y_train)\n",
    "dt1.score(X_train,y_train)"
   ]
  },
  {
   "cell_type": "markdown",
   "id": "27d6f868",
   "metadata": {},
   "source": [
    "# RandomForestRegressor Training score"
   ]
  },
  {
   "cell_type": "code",
   "execution_count": 84,
   "id": "0f345c3e",
   "metadata": {},
   "outputs": [
    {
     "data": {
      "text/plain": [
       "0.8632621150465072"
      ]
     },
     "execution_count": 84,
     "metadata": {},
     "output_type": "execute_result"
    }
   ],
   "source": [
    "from sklearn.ensemble import RandomForestRegressor\n",
    "rf=RandomForestRegressor(n_estimators=50,max_depth=19)\n",
    "rf1=rf.fit(X_train,y_train)\n",
    "rf1.score(X_train,y_train)"
   ]
  },
  {
   "cell_type": "markdown",
   "id": "d25228ad",
   "metadata": {},
   "source": [
    "# Model Validation"
   ]
  },
  {
   "cell_type": "code",
   "execution_count": 85,
   "id": "a5d01c65",
   "metadata": {},
   "outputs": [],
   "source": [
    "from sklearn.metrics import r2_score"
   ]
  },
  {
   "cell_type": "markdown",
   "id": "764bf6e7",
   "metadata": {},
   "source": [
    "# LinearRegression  Testing Score"
   ]
  },
  {
   "cell_type": "code",
   "execution_count": 86,
   "id": "82ab8cfe",
   "metadata": {},
   "outputs": [
    {
     "data": {
      "text/plain": [
       "0.10886223583406329"
      ]
     },
     "execution_count": 86,
     "metadata": {},
     "output_type": "execute_result"
    }
   ],
   "source": [
    "lm_y_pred=lm.predict(X_test)\n",
    "r2_score(y_test,lm_y_pred)"
   ]
  },
  {
   "cell_type": "markdown",
   "id": "3a44cfdd",
   "metadata": {},
   "source": [
    "# DecisionTreeRegressor Testing Score"
   ]
  },
  {
   "cell_type": "code",
   "execution_count": 87,
   "id": "7fc0109b",
   "metadata": {},
   "outputs": [
    {
     "data": {
      "text/plain": [
       "0.5734791540969433"
      ]
     },
     "execution_count": 87,
     "metadata": {},
     "output_type": "execute_result"
    }
   ],
   "source": [
    "dt_y_pred=dt1.predict(X_test)\n",
    "r2_score(y_test,dt_y_pred)"
   ]
  },
  {
   "cell_type": "markdown",
   "id": "6cea81e4",
   "metadata": {},
   "source": [
    "# RandomForestRegressor Testing Score"
   ]
  },
  {
   "cell_type": "code",
   "execution_count": 88,
   "id": "66f82444",
   "metadata": {},
   "outputs": [
    {
     "data": {
      "text/plain": [
       "0.7275959043942113"
      ]
     },
     "execution_count": 88,
     "metadata": {},
     "output_type": "execute_result"
    }
   ],
   "source": [
    "rf_y_pred=rf1.predict(X_test)\n",
    "r2_score(y_test,rf_y_pred)"
   ]
  },
  {
   "cell_type": "code",
   "execution_count": null,
   "id": "2166abca",
   "metadata": {},
   "outputs": [],
   "source": []
  },
  {
   "cell_type": "code",
   "execution_count": null,
   "id": "ac34b079",
   "metadata": {},
   "outputs": [],
   "source": []
  }
 ],
 "metadata": {
  "kernelspec": {
   "display_name": "Python 3 (ipykernel)",
   "language": "python",
   "name": "python3"
  },
  "language_info": {
   "codemirror_mode": {
    "name": "ipython",
    "version": 3
   },
   "file_extension": ".py",
   "mimetype": "text/x-python",
   "name": "python",
   "nbconvert_exporter": "python",
   "pygments_lexer": "ipython3",
   "version": "3.11.5"
  }
 },
 "nbformat": 4,
 "nbformat_minor": 5
}
